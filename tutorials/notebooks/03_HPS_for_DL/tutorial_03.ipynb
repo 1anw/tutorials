{
 "cells": [
  {
   "cell_type": "markdown",
   "id": "cc07e2ec",
   "metadata": {},
   "source": [
    "<div class=\"alert alert-warning\">\n",
    "\n",
    "<b>Warning</b>\n",
    "    \n",
    "By design asyncio does not allow nested event loops. Jupyter is using Tornado which already starts an event loop. Therefore the following patch is required to run this tutorial.\n",
    "    \n",
    "</div>"
   ]
  },
  {
   "cell_type": "code",
   "execution_count": 1,
   "id": "7a4b2f5b",
   "metadata": {},
   "outputs": [
    {
     "name": "stdout",
     "output_type": "stream",
     "text": [
      "Requirement already satisfied: nest_asyncio in /Users/romainegele/opt/anaconda3/envs/dhtfp/lib/python3.8/site-packages (1.5.1)\r\n"
     ]
    }
   ],
   "source": [
    "!pip install nest_asyncio\n",
    "\n",
    "import nest_asyncio\n",
    "nest_asyncio.apply()"
   ]
  },
  {
   "cell_type": "markdown",
   "id": "84b29a6a",
   "metadata": {},
   "source": [
    "# Hyperparameter Search for Deep Learning (Basic)\n",
    "\n",
    "Every DeepHyper search requires at least 2 Python objects as input:\n",
    "\n",
    "`run`: your “black-box” function returning the objective value to be maximized.\n",
    "`problem`: an instance of deephyper.problem.BaseProblem which defines the search space of input parameters to run.\n",
    "These objects are required for both HPS and NAS, but take on a slightly different meaning in the context of NAS.\n",
    "\n",
    "We will illustrate DeepHyper HPS using a regression example. We generate synthetic data according to $y = -\\mathbf{x}^T \\mathbf{x}$ for random $N$-dimensional input vectors $\\mathbf{x}$. Our regression model is a multilayer perceptron with 1 hidden layer, implemented in Keras. Using HPS, we will then tune the model hyperparameters to optimize the validation $R^2$ metric.\n",
    "\n",
    "## Generating data\n",
    "\n",
    "The sample `load_data` function will generate the training and validation data for our demo regression problem.\n",
    "While not required by the DeepHyper HPS API, it is helpful to encapsulate data loading and preparation in a separate module.\n",
    "This sample generates data from a function $f$ where $\\mathbf{x} \\in [a, b]^n$  where $f(\\mathbf{x}) = -\\mathbf{x}^T \\mathbf{x}$:"
   ]
  },
  {
   "cell_type": "code",
   "execution_count": 2,
   "id": "f7b5ce3f",
   "metadata": {},
   "outputs": [
    {
     "name": "stdout",
     "output_type": "stream",
     "text": [
      "X_train shape: (8000, 10)\n",
      "y_train shape: (8000, 1)\n",
      "X_valid shape: (2000, 10)\n",
      "y_valid shape: (2000, 1)\n"
     ]
    }
   ],
   "source": [
    "import numpy as np\n",
    "\n",
    "def load_data(verbose=0, dim=10, a=-50, b=50, prop=0.80, size=10000):\n",
    "    rs = np.random.RandomState(2018)\n",
    "\n",
    "    def polynome_2(x):\n",
    "        return -sum([x_i ** 2 for x_i in x])\n",
    "\n",
    "    d = b - a\n",
    "    x = np.array([a + rs.random(dim) * d for _ in range(size)])\n",
    "    y = np.array([[polynome_2(v)] for v in x])\n",
    "\n",
    "    sep_index = int(prop * size)\n",
    "    X_train = x[:sep_index]\n",
    "    y_train = y[:sep_index]\n",
    "\n",
    "    X_valid = x[sep_index:]\n",
    "    y_valid = y[sep_index:]\n",
    "    \n",
    "    if verbose:\n",
    "        print(f\"X_train shape: {np.shape(X_train)}\")\n",
    "        print(f\"y_train shape: {np.shape(y_train)}\")\n",
    "        print(f\"X_valid shape: {np.shape(X_valid)}\")\n",
    "        print(f\"y_valid shape: {np.shape(y_valid)}\")\n",
    "    return (X_train, y_train), (X_valid, y_valid)\n",
    "\n",
    "\n",
    "_ = load_data(verbose=1)"
   ]
  },
  {
   "cell_type": "markdown",
   "id": "e5f4a6a0",
   "metadata": {},
   "source": [
    "## The Keras model\n",
    "\n",
    "Then let us define the neural network that we will train.\n",
    "\n",
    "The model is implemented in the `run` function below. We will provide this function to\n",
    "DeepHyper, which will call it to evaluate various hyperparameter settings.\n",
    "This function takes a `config` argument, which is a dictionary of\n",
    "tunable hyperparameters. In this case, we will tune:\n",
    "\n",
    "* The number of units of the Dense hidden layer `config['units']`\n",
    "* The activation function of the Dense layer `config['activation']`\n",
    "* The learning rate of the RMSprop optimizer `config['lr']`\n",
    "\n",
    "After training, the validation $R^{2}$ is returned by the $run$ function. This return value is the objective for maximization by the DeepHyper HPS search algorithm.\n"
   ]
  },
  {
   "cell_type": "code",
   "execution_count": 3,
   "id": "603d78fb",
   "metadata": {},
   "outputs": [],
   "source": [
    "import tensorflow as tf\n",
    "from tensorflow.keras.callbacks import EarlyStopping\n",
    "from tensorflow.keras.layers import Dense\n",
    "from tensorflow.keras.models import Sequential\n",
    "from tensorflow.keras.optimizers import RMSprop\n",
    "\n",
    "@tf.autograph.experimental.do_not_convert\n",
    "def r2(y_true, y_pred):\n",
    "    SS_res = tf.reduce_sum(\n",
    "        tf.square(y_true - y_pred), \n",
    "        axis=0\n",
    "    )\n",
    "    SS_tot = tf.reduce_sum(\n",
    "        tf.square(y_true - tf.reduce_mean(y_true, axis=0)), \n",
    "        axis=0\n",
    "    )\n",
    "    output_scores = 1 - SS_res / (SS_tot + tf.keras.backend.epsilon())\n",
    "    r2 = tf.reduce_mean(output_scores)\n",
    "    return r2\n",
    "\n",
    "\n",
    "HISTORY = None\n",
    "\n",
    "\n",
    "def run(point):\n",
    "    global HISTORY\n",
    "    (x_train, y_train), (x_valid, y_valid) = load_data()\n",
    "\n",
    "    if point[\"activation\"] == \"identity\":\n",
    "        point[\"activation\"] = None\n",
    "\n",
    "    model = Sequential()\n",
    "    model.add(\n",
    "        Dense(\n",
    "            point[\"units\"],\n",
    "            activation=point[\"activation\"],\n",
    "            input_shape=tuple(np.shape(x_train)[1:]),\n",
    "        )\n",
    "    )\n",
    "    model.add(Dense(1))\n",
    "\n",
    "    model.compile(loss=\"mse\", optimizer=RMSprop(lr=point[\"lr\"]), metrics=[r2])\n",
    "\n",
    "    history = model.fit(\n",
    "        x_train,\n",
    "        y_train,\n",
    "        batch_size=64,\n",
    "        epochs=1000,\n",
    "        verbose=0,\n",
    "        callbacks=[EarlyStopping(monitor=\"val_r2\", mode=\"max\", verbose=1, patience=10)],\n",
    "        validation_data=(x_valid, y_valid),\n",
    "    )\n",
    "\n",
    "    HISTORY = history.history\n",
    "\n",
    "    return history.history[\"val_r2\"][-1]"
   ]
  },
  {
   "cell_type": "markdown",
   "id": "64b501b3",
   "metadata": {},
   "source": [
    "<div class=\"alert alert-info\">\n",
    "    \n",
    "<b>Tip</b>\n",
    "    \n",
    "\n",
    "Adding an `EarlyStopping(...)` callback is a good idea to stop the training of your model as soon as it stops to improve.\n",
    "\n",
    "```python\n",
    "...\n",
    "callbacks=[\n",
    "    EarlyStopping(\n",
    "        monitor='val_r2',\n",
    "        mode='max',\n",
    "        verbose=1,\n",
    "        patience=10\n",
    "    )]\n",
    "...\n",
    "```\n",
    "    \n",
    "</div>\n",
    "\n",
    "We can first train this model to evaluate the baseline accuracy:"
   ]
  },
  {
   "cell_type": "code",
   "execution_count": 4,
   "id": "dd177b14",
   "metadata": {},
   "outputs": [
    {
     "name": "stdout",
     "output_type": "stream",
     "text": [
      "Epoch 00046: early stopping\n",
      "objective:  -0.057405341416597366\n"
     ]
    },
    {
     "data": {
      "image/png": "[encoded data removed]",
      "text/plain": [
       "<Figure size 432x288 with 1 Axes>"
      ]
     },
     "metadata": {
      "needs_background": "light"
     },
     "output_type": "display_data"
    }
   ],
   "source": [
    "import matplotlib.pyplot as plt\n",
    "\n",
    "point = {\"lr\": 0.01, \"activation\": \"linear\", \"units\": 10}\n",
    "objective = run(point)\n",
    "print(\"objective: \", objective)\n",
    "\n",
    "plt.figure()\n",
    "plt.plot(HISTORY[\"val_r2\"])\n",
    "plt.xlabel(\"Epochs\")\n",
    "plt.ylabel(\"Objective: $R^2$\")\n",
    "plt.grid()\n",
    "plt.show()"
   ]
  },
  {
   "cell_type": "markdown",
   "id": "661cfb17",
   "metadata": {},
   "source": [
    "## Defining the hyperparameter search space\n",
    "\n",
    "The `run` function expects a hyperparameter dictionary with three keys: `units, activation, and lr`.\n",
    "We will now define the acceptable ranges for these hyperparameters with the `Problem` object. Hyperparameter ranges are defined using the following syntax:\n",
    "\n",
    "* Discrete integer ranges are generated from a tuple: `(lower: int, upper: int)`\n",
    "* Continous parameters are generated from a tuple: `(lower: float, upper: float)`\n",
    "* Categorical or nonordinal hyperparameters ranges can be given as a list of possible values: `[val1, val2, ...]`.\n",
    "\n",
    "You probably have one or more \"reference\" sets of hyperparameters that are either hand-crafted or chosen by intuition. To bootstrap the search with these so-called `starting points`, use the `add_starting_point(...)` method.\n",
    "\n",
    "<div class=\"alert alert-info\">\n",
    "    \n",
    "<b>Tip</b>\n",
    "    \n",
    "\n",
    "Several starting points can be defined with `Problem.add_starting_point(**dims)`. All starting points will be evaluated before generating other evaluations.\n",
    "    \n",
    "</div>\n",
    "\n",
    "    "
   ]
  },
  {
   "cell_type": "code",
   "execution_count": 5,
   "id": "bb93095f",
   "metadata": {},
   "outputs": [
    {
     "name": "stdout",
     "output_type": "stream",
     "text": [
      "Configuration space object:\n",
      "  Hyperparameters:\n",
      "    activation, Type: Categorical, Choices: {linear, relu, sigmoid, tanh}, Default: linear\n",
      "    lr, Type: UniformFloat, Range: [0.0001, 1.0], Default: 0.50005\n",
      "    units, Type: UniformInteger, Range: [1, 100], Default: 50\n",
      "\n",
      "\n",
      "  Starting Point:\n",
      "{0: {'activation': 'linear', 'lr': 0.01, 'units': 10}}\n"
     ]
    }
   ],
   "source": [
    "from deephyper.problem import HpProblem\n",
    "\n",
    "problem = HpProblem()\n",
    "\n",
    "problem.add_hyperparameter((1, 100), \"units\")\n",
    "problem.add_hyperparameter([\"linear\", \"relu\", \"sigmoid\", \"tanh\"], \"activation\")\n",
    "problem.add_hyperparameter((0.0001, 1.0), \"lr\")\n",
    "\n",
    "problem.add_starting_point(units=10, activation=\"linear\", lr=0.01)\n",
    "\n",
    "print(problem)"
   ]
  },
  {
   "cell_type": "markdown",
   "id": "8d4ba367",
   "metadata": {},
   "source": [
    "## Running the search"
   ]
  },
  {
   "cell_type": "markdown",
   "id": "b452fe5b",
   "metadata": {},
   "source": [
    "Create an `Evaluator` object using the `ray` backend to distribute the evaluation of the run-function defined previously."
   ]
  },
  {
   "cell_type": "code",
   "execution_count": 6,
   "id": "197f723d",
   "metadata": {},
   "outputs": [
    {
     "name": "stderr",
     "output_type": "stream",
     "text": [
      "2021-09-16 11:48:10,875\tINFO services.py:1267 -- View the Ray dashboard at \u001b[1m\u001b[32mhttp://127.0.0.1:8265\u001b[39m\u001b[22m\n"
     ]
    },
    {
     "name": "stdout",
     "output_type": "stream",
     "text": [
      "Number of workers:  2\n"
     ]
    }
   ],
   "source": [
    "from deephyper.evaluator.evaluate import Evaluator\n",
    "\n",
    "evaluator = Evaluator.create(run, \n",
    "                 method=\"ray\", \n",
    "                 method_kwargs={\n",
    "                     \"address\": None, \n",
    "                     \"num_cpus\": 2,\n",
    "                     \"num_cpus_per_task\": 1\n",
    "                 })\n",
    "\n",
    "print(\"Number of workers: \", evaluator.num_workers)"
   ]
  },
  {
   "cell_type": "markdown",
   "id": "1b6cd751",
   "metadata": {},
   "source": [
    "<div class=\"alert alert-info\">\n",
    "    \n",
    "<b>Tip</b> \n",
    "    \n",
    "You can open the ray-dashboard at an address like <a>http://127.0.0.1:8266</a> in a browser to monitor the CPU usage of the execution.\n",
    "    \n",
    "</div>\n",
    "\n",
    "Finally, you can define a Bayesian optimization search called `AMBS` (for Asynchronous Model-Based Search) and link to it the defined `problem` and `evaluator`."
   ]
  },
  {
   "cell_type": "code",
   "execution_count": 7,
   "id": "b2e09062",
   "metadata": {},
   "outputs": [],
   "source": [
    "from deephyper.search.hps import AMBS\n",
    "\n",
    "search = AMBS(problem, evaluator)"
   ]
  },
  {
   "cell_type": "code",
   "execution_count": 8,
   "id": "0892e8a0",
   "metadata": {},
   "outputs": [
    {
     "name": "stderr",
     "output_type": "stream",
     "text": [
      "\u001b[2m\u001b[36m(pid=95428)\u001b[0m 2021-09-16 11:48:14.978728: I tensorflow/compiler/jit/xla_cpu_device.cc:41] Not creating XLA devices, tf_xla_enable_xla_devices not set\n",
      "\u001b[2m\u001b[36m(pid=95428)\u001b[0m 2021-09-16 11:48:14.978957: I tensorflow/core/platform/cpu_feature_guard.cc:142] This TensorFlow binary is optimized with oneAPI Deep Neural Network Library (oneDNN) to use the following CPU instructions in performance-critical operations:  AVX2 FMA\n",
      "\u001b[2m\u001b[36m(pid=95428)\u001b[0m To enable them in other operations, rebuild TensorFlow with the appropriate compiler flags.\n",
      "\u001b[2m\u001b[36m(pid=95427)\u001b[0m 2021-09-16 11:48:14.982031: I tensorflow/compiler/jit/xla_cpu_device.cc:41] Not creating XLA devices, tf_xla_enable_xla_devices not set\n",
      "\u001b[2m\u001b[36m(pid=95427)\u001b[0m 2021-09-16 11:48:14.982255: I tensorflow/core/platform/cpu_feature_guard.cc:142] This TensorFlow binary is optimized with oneAPI Deep Neural Network Library (oneDNN) to use the following CPU instructions in performance-critical operations:  AVX2 FMA\n",
      "\u001b[2m\u001b[36m(pid=95427)\u001b[0m To enable them in other operations, rebuild TensorFlow with the appropriate compiler flags.\n",
      "\u001b[2m\u001b[36m(pid=95428)\u001b[0m 2021-09-16 11:48:15.040976: I tensorflow/compiler/mlir/mlir_graph_optimization_pass.cc:116] None of the MLIR optimization passes are enabled (registered 2)\n",
      "\u001b[2m\u001b[36m(pid=95427)\u001b[0m 2021-09-16 11:48:15.043418: I tensorflow/compiler/mlir/mlir_graph_optimization_pass.cc:116] None of the MLIR optimization passes are enabled (registered 2)\n"
     ]
    },
    {
     "name": "stdout",
     "output_type": "stream",
     "text": [
      "\u001b[2m\u001b[36m(pid=95428)\u001b[0m Epoch 00015: early stopping\n",
      "\u001b[2m\u001b[36m(pid=95427)\u001b[0m Epoch 00037: early stopping\n",
      "\u001b[2m\u001b[36m(pid=95428)\u001b[0m Epoch 00040: early stopping\n",
      "\u001b[2m\u001b[36m(pid=95427)\u001b[0m Epoch 00025: early stopping\n",
      "\u001b[2m\u001b[36m(pid=95428)\u001b[0m Epoch 00041: early stopping\n",
      "\u001b[2m\u001b[36m(pid=95427)\u001b[0m Epoch 00046: early stopping\n",
      "\u001b[2m\u001b[36m(pid=95428)\u001b[0m Epoch 00039: early stopping\n",
      "\u001b[2m\u001b[36m(pid=95427)\u001b[0m Epoch 00050: early stopping\n",
      "\u001b[2m\u001b[36m(pid=95428)\u001b[0m Epoch 00029: early stopping\n",
      "\u001b[2m\u001b[36m(pid=95427)\u001b[0m Epoch 00071: early stopping\n",
      "\u001b[2m\u001b[36m(pid=95428)\u001b[0m Epoch 00081: early stopping\n",
      "\u001b[2m\u001b[36m(pid=95427)\u001b[0m Epoch 00031: early stopping\n",
      "\u001b[2m\u001b[36m(pid=95428)\u001b[0m Epoch 00056: early stopping\n",
      "\u001b[2m\u001b[36m(pid=95427)\u001b[0m Epoch 00049: early stopping\n",
      "\u001b[2m\u001b[36m(pid=95428)\u001b[0m Epoch 00064: early stopping\n",
      "\u001b[2m\u001b[36m(pid=95427)\u001b[0m Epoch 00068: early stopping\n",
      "\u001b[2m\u001b[36m(pid=95428)\u001b[0m Epoch 00065: early stopping\n",
      "\u001b[2m\u001b[36m(pid=95427)\u001b[0m Epoch 00060: early stopping\n",
      "\u001b[2m\u001b[36m(pid=95428)\u001b[0m Epoch 00024: early stopping\n",
      "\u001b[2m\u001b[36m(pid=95427)\u001b[0m Epoch 00063: early stopping\n"
     ]
    }
   ],
   "source": [
    "results = search.search(20)"
   ]
  },
  {
   "cell_type": "markdown",
   "id": "c02b4096",
   "metadata": {},
   "source": [
    "Once the search is over, a file named `results.csv` is saved in the current directory. The same dataframe is returned by the `search.search(...)` call. It contains the hyperparameters configurations evaluated during the search and their corresponding `objective` value (i.e, validation accuracy), `duration` of computation and time of computation with `elapsed_sec`."
   ]
  },
  {
   "cell_type": "code",
   "execution_count": 9,
   "id": "15e7aed4",
   "metadata": {},
   "outputs": [
    {
     "data": {
      "text/html": [
       "<div>\n",
       "<style scoped>\n",
       "    .dataframe tbody tr th:only-of-type {\n",
       "        vertical-align: middle;\n",
       "    }\n",
       "\n",
       "    .dataframe tbody tr th {\n",
       "        vertical-align: top;\n",
       "    }\n",
       "\n",
       "    .dataframe thead th {\n",
       "        text-align: right;\n",
       "    }\n",
       "</style>\n",
       "<table border=\"1\" class=\"dataframe\">\n",
       "  <thead>\n",
       "    <tr style=\"text-align: right;\">\n",
       "      <th></th>\n",
       "      <th>activation</th>\n",
       "      <th>lr</th>\n",
       "      <th>units</th>\n",
       "      <th>id</th>\n",
       "      <th>objective</th>\n",
       "      <th>elapsed_sec</th>\n",
       "      <th>duration</th>\n",
       "    </tr>\n",
       "  </thead>\n",
       "  <tbody>\n",
       "    <tr>\n",
       "      <th>0</th>\n",
       "      <td>relu</td>\n",
       "      <td>0.705605</td>\n",
       "      <td>54</td>\n",
       "      <td>2</td>\n",
       "      <td>0.689981</td>\n",
       "      <td>7.726394</td>\n",
       "      <td>4.705964</td>\n",
       "    </tr>\n",
       "    <tr>\n",
       "      <th>1</th>\n",
       "      <td>linear</td>\n",
       "      <td>0.010000</td>\n",
       "      <td>10</td>\n",
       "      <td>1</td>\n",
       "      <td>-0.058148</td>\n",
       "      <td>9.472755</td>\n",
       "      <td>6.452348</td>\n",
       "    </tr>\n",
       "    <tr>\n",
       "      <th>2</th>\n",
       "      <td>relu</td>\n",
       "      <td>0.538378</td>\n",
       "      <td>84</td>\n",
       "      <td>3</td>\n",
       "      <td>0.728182</td>\n",
       "      <td>11.619560</td>\n",
       "      <td>3.816638</td>\n",
       "    </tr>\n",
       "    <tr>\n",
       "      <th>3</th>\n",
       "      <td>relu</td>\n",
       "      <td>0.443972</td>\n",
       "      <td>24</td>\n",
       "      <td>4</td>\n",
       "      <td>0.730378</td>\n",
       "      <td>12.147245</td>\n",
       "      <td>2.531121</td>\n",
       "    </tr>\n",
       "    <tr>\n",
       "      <th>4</th>\n",
       "      <td>relu</td>\n",
       "      <td>0.241945</td>\n",
       "      <td>98</td>\n",
       "      <td>5</td>\n",
       "      <td>0.887672</td>\n",
       "      <td>15.860231</td>\n",
       "      <td>4.098998</td>\n",
       "    </tr>\n",
       "    <tr>\n",
       "      <th>5</th>\n",
       "      <td>relu</td>\n",
       "      <td>0.054648</td>\n",
       "      <td>5</td>\n",
       "      <td>6</td>\n",
       "      <td>0.246037</td>\n",
       "      <td>16.716952</td>\n",
       "      <td>4.427587</td>\n",
       "    </tr>\n",
       "    <tr>\n",
       "      <th>6</th>\n",
       "      <td>linear</td>\n",
       "      <td>0.290147</td>\n",
       "      <td>97</td>\n",
       "      <td>7</td>\n",
       "      <td>-0.147459</td>\n",
       "      <td>19.869695</td>\n",
       "      <td>3.768393</td>\n",
       "    </tr>\n",
       "    <tr>\n",
       "      <th>7</th>\n",
       "      <td>sigmoid</td>\n",
       "      <td>0.156309</td>\n",
       "      <td>99</td>\n",
       "      <td>8</td>\n",
       "      <td>-0.031136</td>\n",
       "      <td>21.559763</td>\n",
       "      <td>4.691238</td>\n",
       "    </tr>\n",
       "    <tr>\n",
       "      <th>8</th>\n",
       "      <td>relu</td>\n",
       "      <td>0.351568</td>\n",
       "      <td>98</td>\n",
       "      <td>9</td>\n",
       "      <td>0.777455</td>\n",
       "      <td>22.807760</td>\n",
       "      <td>2.805077</td>\n",
       "    </tr>\n",
       "    <tr>\n",
       "      <th>9</th>\n",
       "      <td>relu</td>\n",
       "      <td>0.234668</td>\n",
       "      <td>97</td>\n",
       "      <td>10</td>\n",
       "      <td>0.958552</td>\n",
       "      <td>27.922663</td>\n",
       "      <td>6.217307</td>\n",
       "    </tr>\n",
       "    <tr>\n",
       "      <th>10</th>\n",
       "      <td>tanh</td>\n",
       "      <td>0.340626</td>\n",
       "      <td>94</td>\n",
       "      <td>11</td>\n",
       "      <td>-0.025092</td>\n",
       "      <td>30.013139</td>\n",
       "      <td>7.066271</td>\n",
       "    </tr>\n",
       "    <tr>\n",
       "      <th>11</th>\n",
       "      <td>relu</td>\n",
       "      <td>0.148806</td>\n",
       "      <td>40</td>\n",
       "      <td>12</td>\n",
       "      <td>0.935353</td>\n",
       "      <td>31.017985</td>\n",
       "      <td>2.960201</td>\n",
       "    </tr>\n",
       "    <tr>\n",
       "      <th>12</th>\n",
       "      <td>relu</td>\n",
       "      <td>0.222291</td>\n",
       "      <td>81</td>\n",
       "      <td>13</td>\n",
       "      <td>0.931864</td>\n",
       "      <td>35.157513</td>\n",
       "      <td>5.007522</td>\n",
       "    </tr>\n",
       "    <tr>\n",
       "      <th>13</th>\n",
       "      <td>relu</td>\n",
       "      <td>0.334568</td>\n",
       "      <td>37</td>\n",
       "      <td>14</td>\n",
       "      <td>0.890242</td>\n",
       "      <td>35.531786</td>\n",
       "      <td>4.374147</td>\n",
       "    </tr>\n",
       "    <tr>\n",
       "      <th>14</th>\n",
       "      <td>relu</td>\n",
       "      <td>0.065742</td>\n",
       "      <td>79</td>\n",
       "      <td>15</td>\n",
       "      <td>0.970762</td>\n",
       "      <td>41.090884</td>\n",
       "      <td>5.791805</td>\n",
       "    </tr>\n",
       "    <tr>\n",
       "      <th>15</th>\n",
       "      <td>relu</td>\n",
       "      <td>0.075855</td>\n",
       "      <td>43</td>\n",
       "      <td>16</td>\n",
       "      <td>0.961064</td>\n",
       "      <td>41.779132</td>\n",
       "      <td>6.110362</td>\n",
       "    </tr>\n",
       "    <tr>\n",
       "      <th>16</th>\n",
       "      <td>relu</td>\n",
       "      <td>0.063409</td>\n",
       "      <td>21</td>\n",
       "      <td>17</td>\n",
       "      <td>0.968754</td>\n",
       "      <td>46.947062</td>\n",
       "      <td>5.712669</td>\n",
       "    </tr>\n",
       "    <tr>\n",
       "      <th>17</th>\n",
       "      <td>relu</td>\n",
       "      <td>0.028093</td>\n",
       "      <td>73</td>\n",
       "      <td>18</td>\n",
       "      <td>0.976674</td>\n",
       "      <td>47.333064</td>\n",
       "      <td>5.338610</td>\n",
       "    </tr>\n",
       "    <tr>\n",
       "      <th>18</th>\n",
       "      <td>relu</td>\n",
       "      <td>0.069906</td>\n",
       "      <td>2</td>\n",
       "      <td>19</td>\n",
       "      <td>0.051048</td>\n",
       "      <td>49.521821</td>\n",
       "      <td>2.437776</td>\n",
       "    </tr>\n",
       "    <tr>\n",
       "      <th>19</th>\n",
       "      <td>relu</td>\n",
       "      <td>0.087321</td>\n",
       "      <td>17</td>\n",
       "      <td>20</td>\n",
       "      <td>0.927733</td>\n",
       "      <td>53.067427</td>\n",
       "      <td>5.607009</td>\n",
       "    </tr>\n",
       "  </tbody>\n",
       "</table>\n",
       "</div>"
      ],
      "text/plain": [
       "   activation        lr  units  id  objective  elapsed_sec  duration\n",
       "0        relu  0.705605     54   2   0.689981     7.726394  4.705964\n",
       "1      linear  0.010000     10   1  -0.058148     9.472755  6.452348\n",
       "2        relu  0.538378     84   3   0.728182    11.619560  3.816638\n",
       "3        relu  0.443972     24   4   0.730378    12.147245  2.531121\n",
       "4        relu  0.241945     98   5   0.887672    15.860231  4.098998\n",
       "5        relu  0.054648      5   6   0.246037    16.716952  4.427587\n",
       "6      linear  0.290147     97   7  -0.147459    19.869695  3.768393\n",
       "7     sigmoid  0.156309     99   8  -0.031136    21.559763  4.691238\n",
       "8        relu  0.351568     98   9   0.777455    22.807760  2.805077\n",
       "9        relu  0.234668     97  10   0.958552    27.922663  6.217307\n",
       "10       tanh  0.340626     94  11  -0.025092    30.013139  7.066271\n",
       "11       relu  0.148806     40  12   0.935353    31.017985  2.960201\n",
       "12       relu  0.222291     81  13   0.931864    35.157513  5.007522\n",
       "13       relu  0.334568     37  14   0.890242    35.531786  4.374147\n",
       "14       relu  0.065742     79  15   0.970762    41.090884  5.791805\n",
       "15       relu  0.075855     43  16   0.961064    41.779132  6.110362\n",
       "16       relu  0.063409     21  17   0.968754    46.947062  5.712669\n",
       "17       relu  0.028093     73  18   0.976674    47.333064  5.338610\n",
       "18       relu  0.069906      2  19   0.051048    49.521821  2.437776\n",
       "19       relu  0.087321     17  20   0.927733    53.067427  5.607009"
      ]
     },
     "execution_count": 9,
     "metadata": {},
     "output_type": "execute_result"
    }
   ],
   "source": [
    "results"
   ]
  },
  {
   "cell_type": "markdown",
   "id": "c6d51e46",
   "metadata": {},
   "source": [
    "The `deephyper-analytics` command line is a way of analyzing this type of file. For example, we want to output the best configuration we can use the `topk` functionnality."
   ]
  },
  {
   "cell_type": "code",
   "execution_count": 10,
   "id": "d7da7c6b",
   "metadata": {},
   "outputs": [
    {
     "name": "stdout",
     "output_type": "stream",
     "text": [
      "\u001b[2m\u001b[36m(pid=95428)\u001b[0m Epoch 00038: early stopping\n",
      "'0':\n",
      "  activation: relu\n",
      "  duration: 5.3386099339\n",
      "  elapsed_sec: 47.3330640793\n",
      "  id: 18\n",
      "  lr: 0.0280928241\n",
      "  objective: 0.9766736031\n",
      "  units: 73\n",
      "\n"
     ]
    }
   ],
   "source": [
    "!deephyper-analytics topk results.csv"
   ]
  },
  {
   "cell_type": "markdown",
   "id": "bba059c1",
   "metadata": {},
   "source": [
    "## Testing the best configuration"
   ]
  },
  {
   "cell_type": "code",
   "execution_count": 11,
   "id": "081b52ec",
   "metadata": {},
   "outputs": [
    {
     "name": "stdout",
     "output_type": "stream",
     "text": [
      "\u001b[2m\u001b[36m(pid=95427)\u001b[0m Epoch 00041: early stopping\n",
      "Epoch 00080: early stopping\n",
      "objective:  0.9653924703598022\n"
     ]
    },
    {
     "data": {
      "image/png": "[encoded data removed]",
      "text/plain": [
       "<Figure size 432x288 with 1 Axes>"
      ]
     },
     "metadata": {
      "needs_background": "light"
     },
     "output_type": "display_data"
    }
   ],
   "source": [
    "best_config = results.iloc[results.objective.argmax()][:-2].to_dict()\n",
    "objective = run(best_config)\n",
    "print(\"objective: \", objective)\n",
    "\n",
    "plt.figure()\n",
    "plt.plot(HISTORY[\"val_r2\"])\n",
    "plt.xlabel(\"Epochs\")\n",
    "plt.ylabel(\"Objective: $R^2$\")\n",
    "plt.grid()\n",
    "plt.show()"
   ]
  },
  {
   "cell_type": "markdown",
   "id": "0307f865",
   "metadata": {},
   "source": [
    "Compared to the default configuration, we can see the accuracy improvement and the reduction of overfitting between the training and  the validation/test data sets."
   ]
  }
 ],
 "metadata": {
  "kernelspec": {
   "display_name": "Python 3",
   "language": "python",
   "name": "python3"
  },
  "language_info": {
   "codemirror_mode": {
    "name": "ipython",
    "version": 3
   },
   "file_extension": ".py",
   "mimetype": "text/x-python",
   "name": "python",
   "nbconvert_exporter": "python",
   "pygments_lexer": "ipython3",
   "version": "3.8.8"
  }
 },
 "nbformat": 4,
 "nbformat_minor": 5
}
