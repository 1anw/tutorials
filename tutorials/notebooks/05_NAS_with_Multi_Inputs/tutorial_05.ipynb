{
 "cells": [
  {
   "cell_type": "markdown",
   "id": "84b29a6a",
   "metadata": {},
   "source": [
    "# Neural Architecture Search with Multiple Input Tensors\n",
    "\n",
    "In this tutorial we will extend on the previous [basic NAS tutorial](https://deephyper.readthedocs.io/en/latest/tutorials/tutorials/notebooks/04_NAS_basic/tutorial_04.html) to allow for varying numbers of input tensors. This calls for the construction of a novel search space where the different input tensors may be connected to any of the variable node operations within the search space. The data use for this tutorial is provided in this repository and is a multifidelity surrogate modeling data set obtained from the [Brannin function](https://www.sfu.ca/~ssurjano/branin.html). In addition, to the independent variables for this modeling task, low and medium fidelity estimates of the output variable are used as additional inputs to the eventual high fidelity surrogate. Thus, this requires multiple input tensors which may independently or jointly interact with the neural architecture.\n",
    "\n",
    "<div class=\"alert alert-warning\">\n",
    "\n",
    "<b>Warning</b>\n",
    "    \n",
    "By design asyncio does not allow nested event loops. Jupyter is using Tornado which already starts an event loop. Therefore the following patch is required to run this tutorial.\n",
    "\n",
    "Some parts of this tutorial requires pydot (`pip install pydot`) and Graphviz (see installation instructions at [https://graphviz.gitlab.io/download/](https://graphviz.gitlab.io/download/)).\n",
    "</div>"
   ]
  },
  {
   "cell_type": "code",
   "execution_count": 8,
   "id": "a98f3500",
   "metadata": {},
   "outputs": [
    {
     "name": "stdout",
     "output_type": "stream",
     "text": [
      "Requirement already satisfied: nest_asyncio in /home/joceran/miniconda3/envs/deephyper/lib/python3.8/site-packages (1.5.1)\n"
     ]
    }
   ],
   "source": [
    "!pip install nest_asyncio\n",
    "\n",
    "import nest_asyncio\n",
    "nest_asyncio.apply()"
   ]
  },
  {
   "cell_type": "markdown",
   "id": "e95e9a13",
   "metadata": {},
   "source": [
    "## Data from Brannin Function\n",
    "First, we will look at the `load_data` function that loads and returns the training and validation data from the multifidelity [Brannin function](https://www.sfu.ca/~ssurjano/branin.html). This dataset is provided in the [deephyper/tutorials repository](https://github.com/deephyper/tutorials).\n",
    "\n",
    "\n",
    "The output interface of the ``load_data`` function is important when you have several inputs or outputs. In this case, for the inputs we have a list of 3 numpy arrays."
   ]
  },
  {
   "cell_type": "code",
   "execution_count": 9,
   "id": "a47214b3",
   "metadata": {},
   "outputs": [],
   "source": [
    "import os\n",
    "import numpy as np\n",
    "\n",
    "\n",
    "def load_data():\n",
    "    \"\"\"Here we are loading data that has multiple inputs for the same output.\n",
    "    Our goal is to not make ONE tensor with all inputs but have separate input tensors.\n",
    "    \"\"\"\n",
    "\n",
    "    data = np.load(\"data.npz\") # Data from the Brannin function\n",
    "\n",
    "    xtrain = data[\"xtrain\"]  # Independent variables (input tensor 1)\n",
    "    ytrain_lf = data[\"ytrain_lf\"]  # Low fidelity variable (input tensor 2)\n",
    "    ytrain_mf = data[\"ytrain_mf\"]  # Medium fidelity variable (input tensor 3)\n",
    "    ytrain_hf = data[\"ytrain_hf\"]  # High fidelity variable (output tensor)\n",
    "\n",
    "    xtest = data[\"xtest\"]\n",
    "    ytest_lf = data[\"ytest_lf\"]\n",
    "    ytest_mf = data[\"ytest_mf\"]\n",
    "    ytest_hf = data[\"ytest_hf\"]\n",
    "\n",
    "    return ([xtrain, ytrain_lf, ytrain_mf], ytrain_hf), ([xtest, ytest_lf, ytest_mf], ytest_hf)"
   ]
  },
  {
   "cell_type": "markdown",
   "id": "bf8b3a0a",
   "metadata": {},
   "source": [
    "## Neural Architecture Search Space\n",
    "\n",
    "Now we define a neural architecture search space with multiple inputs. In the `build(self,...)` method we can see that 3 input nodes are automatically created based on the defined `input_shape`:\n",
    "\n",
    "```python\n",
    "...\n",
    "self = KSearchSpace(input_shape, output_shape)\n",
    "\n",
    "# Three input tensors are automatically created based on the `input_shape`\n",
    "input_0, input_1, input_2 = self.input_nodes\n",
    "...\n",
    "```"
   ]
  },
  {
   "cell_type": "code",
   "execution_count": 33,
   "id": "11ba55c2",
   "metadata": {},
   "outputs": [],
   "source": [
    "import collections\n",
    "\n",
    "import tensorflow as tf\n",
    "\n",
    "from deephyper.nas import KSearchSpace\n",
    "from deephyper.nas.node import ConstantNode, VariableNode\n",
    "from deephyper.nas.operation import operation, Zero, Connect, AddByProjecting, Identity\n",
    "\n",
    "Dense = operation(tf.keras.layers.Dense)\n",
    "Concatenate = operation(tf.keras.layers.Concatenate)\n",
    "\n",
    "\n",
    "class MultiInputsResNetMLPFactory(KSearchSpace):\n",
    "\n",
    "    def __init__(self, input_shape, output_shape, seed=None, num_layers=3, mode=\"regression\"):\n",
    "        super().__init__(input_shape, output_shape, seed=seed)\n",
    "        \n",
    "        self.num_layers = num_layers\n",
    "        assert mode in [\"regression\", \"classification\"]\n",
    "        self.mode = mode\n",
    "\n",
    "    def build(self):\n",
    "\n",
    "        assert len(self.input_shape) == 3\n",
    "\n",
    "        # Three input tensors are automatically created based on the `input_shape`\n",
    "        input_0, input_1, input_2 = self.input_nodes\n",
    "\n",
    "        concat = ConstantNode(Concatenate())\n",
    "        self.connect(input_0, concat)\n",
    "        self.connect(input_1, concat)\n",
    "        self.connect(input_2, concat)\n",
    "\n",
    "        # Input anchors (recorded so they can be connected to anywhere\n",
    "        # in the architecture)\n",
    "        input_anchors = [input_1, input_2]\n",
    "\n",
    "        # Creates a Queue to store outputs of the 3 previously created  layers\n",
    "        # to create potential residual connections\n",
    "        skip_anchors = collections.deque([input_0], maxlen=3)\n",
    "\n",
    "        prev_input = concat\n",
    "        for _ in range(self.num_layers):\n",
    "            dense = VariableNode()\n",
    "            self.add_dense_to_(dense)\n",
    "            self.connect(prev_input, dense)\n",
    "\n",
    "            # ConstantNode to merge possible residual connections from the different\n",
    "            # input tensors (input_0, input_1, input_2)\n",
    "            merge_0 = ConstantNode()\n",
    "            merge_0.set_op(AddByProjecting(self, [dense], activation=\"relu\"))\n",
    "\n",
    "            # Creates potential connections to the various input tensors\n",
    "            for anchor in input_anchors:\n",
    "                skipco = VariableNode()\n",
    "                skipco.add_op(Zero())\n",
    "                skipco.add_op(Connect(self, anchor))\n",
    "                self.connect(skipco, merge_0)\n",
    "\n",
    "            # ConstantNode to merge possible\n",
    "            merge_1 = ConstantNode()\n",
    "            merge_1.set_op(AddByProjecting(self, [merge_0], activation=\"relu\"))\n",
    "\n",
    "            # a potential connection to the variable nodes (vnodes) of the previous layers\n",
    "            for anchor in skip_anchors:\n",
    "                skipco = VariableNode()\n",
    "                skipco.add_op(Zero())\n",
    "                skipco.add_op(Connect(self, anchor))\n",
    "                self.connect(skipco, merge_1)\n",
    "\n",
    "            # ! for next iter\n",
    "            prev_input = merge_1\n",
    "            skip_anchors.append(prev_input)\n",
    "\n",
    "        if self.mode == \"regression\":\n",
    "            output_node = ConstantNode(Dense(self.output_shape[0]))\n",
    "            self.connect(prev_input, output_node)\n",
    "        else:\n",
    "            output_node = ConstantNode(Dense(self.output_shape[0], activation=\"softmax\"))\n",
    "            self.connect(prev_input, output_node)\n",
    "        \n",
    "        return self\n",
    "\n",
    "    def add_dense_to_(self, node):\n",
    "        node.add_op(Identity())  # we do not want to create a layer in this case\n",
    "\n",
    "        activations = [\n",
    "            tf.keras.activations.linear,\n",
    "            tf.keras.activations.relu,\n",
    "            tf.keras.activations.tanh,\n",
    "            tf.keras.activations.sigmoid,\n",
    "        ]\n",
    "        for units in range(16, 97, 16):\n",
    "            for activation in activations:\n",
    "                node.add_op(Dense(units=units, activation=activation))"
   ]
  },
  {
   "cell_type": "markdown",
   "id": "e779e288",
   "metadata": {},
   "source": [
    "Visualize a randomly generated neural network from this search space:"
   ]
  },
  {
   "cell_type": "code",
   "execution_count": 34,
   "id": "c66c7fe5",
   "metadata": {},
   "outputs": [
    {
     "name": "stderr",
     "output_type": "stream",
     "text": [
      "The output tensor of shape (None, 2) doesn't match the expected shape 1!\n"
     ]
    },
    {
     "ename": "IndexError",
     "evalue": "tuple index out of range",
     "output_type": "error",
     "traceback": [
      "\u001b[0;31m---------------------------------------------------------------------------\u001b[0m",
      "\u001b[0;31mIndexError\u001b[0m                                Traceback (most recent call last)",
      "\u001b[0;32m/tmp/ipykernel_10769/259209534.py\u001b[0m in \u001b[0;36m<module>\u001b[0;34m\u001b[0m\n\u001b[1;32m      5\u001b[0m \u001b[0mshapes\u001b[0m \u001b[0;34m=\u001b[0m \u001b[0mdict\u001b[0m\u001b[0;34m(\u001b[0m\u001b[0minput_shape\u001b[0m\u001b[0;34m=\u001b[0m\u001b[0;34m[\u001b[0m\u001b[0;34m(\u001b[0m\u001b[0;36m2\u001b[0m\u001b[0;34m,\u001b[0m\u001b[0;34m)\u001b[0m\u001b[0;34m,\u001b[0m \u001b[0;34m(\u001b[0m\u001b[0;36m1\u001b[0m\u001b[0;34m,\u001b[0m\u001b[0;34m)\u001b[0m\u001b[0;34m,\u001b[0m \u001b[0;34m(\u001b[0m\u001b[0;36m1\u001b[0m\u001b[0;34m,\u001b[0m\u001b[0;34m)\u001b[0m\u001b[0;34m]\u001b[0m\u001b[0;34m,\u001b[0m \u001b[0moutput_shape\u001b[0m\u001b[0;34m=\u001b[0m\u001b[0;34m(\u001b[0m\u001b[0;36m1\u001b[0m\u001b[0;34m,\u001b[0m\u001b[0;34m)\u001b[0m\u001b[0;34m)\u001b[0m\u001b[0;34m\u001b[0m\u001b[0;34m\u001b[0m\u001b[0m\n\u001b[1;32m      6\u001b[0m \u001b[0mspace\u001b[0m \u001b[0;34m=\u001b[0m \u001b[0mMultiInputsResNetMLPFactory\u001b[0m\u001b[0;34m(\u001b[0m\u001b[0;34m**\u001b[0m\u001b[0mshapes\u001b[0m\u001b[0;34m,\u001b[0m \u001b[0mnum_layers\u001b[0m\u001b[0;34m=\u001b[0m\u001b[0;36m4\u001b[0m\u001b[0;34m)\u001b[0m\u001b[0;34m\u001b[0m\u001b[0;34m\u001b[0m\u001b[0m\n\u001b[0;32m----> 7\u001b[0;31m \u001b[0mmodel\u001b[0m \u001b[0;34m=\u001b[0m \u001b[0mspace\u001b[0m\u001b[0;34m.\u001b[0m\u001b[0msample\u001b[0m\u001b[0;34m(\u001b[0m\u001b[0;34m)\u001b[0m\u001b[0;34m\u001b[0m\u001b[0;34m\u001b[0m\u001b[0m\n\u001b[0m\u001b[1;32m      8\u001b[0m \u001b[0mplot_model\u001b[0m\u001b[0;34m(\u001b[0m\u001b[0mmodel\u001b[0m\u001b[0;34m,\u001b[0m \u001b[0;34m\"random_model.png\"\u001b[0m\u001b[0;34m,\u001b[0m \u001b[0mshow_shapes\u001b[0m\u001b[0;34m=\u001b[0m\u001b[0;32mFalse\u001b[0m\u001b[0;34m,\u001b[0m \u001b[0mshow_layer_names\u001b[0m\u001b[0;34m=\u001b[0m\u001b[0;32mFalse\u001b[0m\u001b[0;34m)\u001b[0m\u001b[0;34m\u001b[0m\u001b[0;34m\u001b[0m\u001b[0m\n\u001b[1;32m      9\u001b[0m \u001b[0mimage\u001b[0m \u001b[0;34m=\u001b[0m \u001b[0mmpimg\u001b[0m\u001b[0;34m.\u001b[0m\u001b[0mimread\u001b[0m\u001b[0;34m(\u001b[0m\u001b[0;34m\"random_model.png\"\u001b[0m\u001b[0;34m)\u001b[0m\u001b[0;34m\u001b[0m\u001b[0;34m\u001b[0m\u001b[0m\n",
      "\u001b[0;32m/mnt/d/jocer/workspace/pro/stages/ANL/deephyper/deephyper/nas/_keras_search_space.py\u001b[0m in \u001b[0;36msample\u001b[0;34m(self, choice)\u001b[0m\n\u001b[1;32m    193\u001b[0m         \u001b[0mself_copy\u001b[0m \u001b[0;34m=\u001b[0m \u001b[0mcopy\u001b[0m\u001b[0;34m.\u001b[0m\u001b[0mdeepcopy\u001b[0m\u001b[0;34m(\u001b[0m\u001b[0mself\u001b[0m\u001b[0;34m)\u001b[0m\u001b[0;34m\u001b[0m\u001b[0;34m\u001b[0m\u001b[0m\n\u001b[1;32m    194\u001b[0m         \u001b[0mself_copy\u001b[0m\u001b[0;34m.\u001b[0m\u001b[0mset_ops\u001b[0m\u001b[0;34m(\u001b[0m\u001b[0mchoice\u001b[0m\u001b[0;34m)\u001b[0m\u001b[0;34m\u001b[0m\u001b[0;34m\u001b[0m\u001b[0m\n\u001b[0;32m--> 195\u001b[0;31m         \u001b[0mmodel\u001b[0m \u001b[0;34m=\u001b[0m \u001b[0mself_copy\u001b[0m\u001b[0;34m.\u001b[0m\u001b[0mcreate_model\u001b[0m\u001b[0;34m(\u001b[0m\u001b[0;34m)\u001b[0m\u001b[0;34m\u001b[0m\u001b[0;34m\u001b[0m\u001b[0m\n\u001b[0m\u001b[1;32m    196\u001b[0m \u001b[0;34m\u001b[0m\u001b[0m\n\u001b[1;32m    197\u001b[0m         \u001b[0;32mreturn\u001b[0m \u001b[0mmodel\u001b[0m\u001b[0;34m\u001b[0m\u001b[0;34m\u001b[0m\u001b[0m\n",
      "\u001b[0;32m/mnt/d/jocer/workspace/pro/stages/ANL/deephyper/deephyper/nas/_keras_search_space.py\u001b[0m in \u001b[0;36mcreate_model\u001b[0;34m(self)\u001b[0m\n\u001b[1;32m    146\u001b[0m             \u001b[0;32mfor\u001b[0m \u001b[0mout_T\u001b[0m \u001b[0;32min\u001b[0m \u001b[0moutput_tensors\u001b[0m\u001b[0;34m:\u001b[0m\u001b[0;34m\u001b[0m\u001b[0;34m\u001b[0m\u001b[0m\n\u001b[1;32m    147\u001b[0m                 \u001b[0moutput_n\u001b[0m \u001b[0;34m=\u001b[0m \u001b[0mint\u001b[0m\u001b[0;34m(\u001b[0m\u001b[0mout_T\u001b[0m\u001b[0;34m.\u001b[0m\u001b[0mname\u001b[0m\u001b[0;34m.\u001b[0m\u001b[0msplit\u001b[0m\u001b[0;34m(\u001b[0m\u001b[0;34m\"/\"\u001b[0m\u001b[0;34m)\u001b[0m\u001b[0;34m[\u001b[0m\u001b[0;36m0\u001b[0m\u001b[0;34m]\u001b[0m\u001b[0;34m.\u001b[0m\u001b[0msplit\u001b[0m\u001b[0;34m(\u001b[0m\u001b[0;34m\"_\"\u001b[0m\u001b[0;34m)\u001b[0m\u001b[0;34m[\u001b[0m\u001b[0;34m-\u001b[0m\u001b[0;36m1\u001b[0m\u001b[0;34m]\u001b[0m\u001b[0;34m)\u001b[0m\u001b[0;34m\u001b[0m\u001b[0;34m\u001b[0m\u001b[0m\n\u001b[0;32m--> 148\u001b[0;31m                 \u001b[0mout_S\u001b[0m \u001b[0;34m=\u001b[0m \u001b[0mself\u001b[0m\u001b[0;34m.\u001b[0m\u001b[0moutput_shape\u001b[0m\u001b[0;34m[\u001b[0m\u001b[0moutput_n\u001b[0m\u001b[0;34m]\u001b[0m\u001b[0;34m\u001b[0m\u001b[0;34m\u001b[0m\u001b[0m\n\u001b[0m\u001b[1;32m    149\u001b[0m                 \u001b[0;32mif\u001b[0m \u001b[0mtf\u001b[0m\u001b[0;34m.\u001b[0m\u001b[0mkeras\u001b[0m\u001b[0;34m.\u001b[0m\u001b[0mbackend\u001b[0m\u001b[0;34m.\u001b[0m\u001b[0mis_keras_tensor\u001b[0m\u001b[0;34m(\u001b[0m\u001b[0mout_T\u001b[0m\u001b[0;34m)\u001b[0m\u001b[0;34m:\u001b[0m\u001b[0;34m\u001b[0m\u001b[0;34m\u001b[0m\u001b[0m\n\u001b[1;32m    150\u001b[0m                     \u001b[0mout_T_shape\u001b[0m \u001b[0;34m=\u001b[0m \u001b[0mout_T\u001b[0m\u001b[0;34m.\u001b[0m\u001b[0mtype_spec\u001b[0m\u001b[0;34m.\u001b[0m\u001b[0mshape\u001b[0m\u001b[0;34m\u001b[0m\u001b[0;34m\u001b[0m\u001b[0m\n",
      "\u001b[0;31mIndexError\u001b[0m: tuple index out of range"
     ]
    }
   ],
   "source": [
    "import matplotlib.pyplot as plt\n",
    "import matplotlib.image as mpimg\n",
    "from tensorflow.keras.utils import plot_model\n",
    "\n",
    "shapes = dict(input_shape=[(2,), (1,), (1,)], output_shape=(1,))\n",
    "space = MultiInputsResNetMLPFactory(**shapes, num_layers=4)\n",
    "model = space.sample()\n",
    "plot_model(model, \"random_model.png\", show_shapes=False, show_layer_names=False) \n",
    "image = mpimg.imread(\"random_model.png\")   \n",
    "plt.imshow(image)\n",
    "plt.axis('off')"
   ]
  },
  {
   "cell_type": "markdown",
   "id": "2184ef5a",
   "metadata": {},
   "source": [
    "## Neural Architecture Search Problem\n",
    "\n",
    "Now, let us define the neural architecture search problem:"
   ]
  },
  {
   "cell_type": "code",
   "execution_count": null,
   "id": "1adf1274",
   "metadata": {},
   "outputs": [
    {
     "data": {
      "text/plain": [
       "Problem is:\n",
       " * SEED = 2019 *\n",
       "    - search space   : __main__.create_search_space\n",
       "    - data loading   : __main__.load_data\n",
       "    - preprocessing  : None\n",
       "    - hyperparameters: \n",
       "        * verbose: 0\n",
       "        * batch_size: 64\n",
       "        * learning_rate: 0.001\n",
       "        * optimizer: adam\n",
       "        * num_epochs: 200\n",
       "        * callbacks: {'EarlyStopping': {'monitor': 'val_r2', 'mode': 'max', 'verbose': 0, 'patience': 5}, 'ModelCheckpoint': {'monitor': 'val_loss', 'mode': 'min', 'save_best_only': True, 'verbose': 0, 'filepath': 'model.h5', 'save_weights_only': False}}\n",
       "    - loss           : mse\n",
       "    - metrics        : \n",
       "        * r2\n",
       "    - objective      : val_r2"
      ]
     },
     "execution_count": 12,
     "metadata": {},
     "output_type": "execute_result"
    }
   ],
   "source": [
    "from deephyper.problem import NaProblem\n",
    "\n",
    "problem = NaProblem(seed=2019)\n",
    "\n",
    "problem.load_data(load_data)\n",
    "\n",
    "problem.search_space(MultiInputsResNetMLPFactory, num_layers=3)\n",
    "\n",
    "problem.hyperparameters(\n",
    "    batch_size=64,\n",
    "    learning_rate=0.001,\n",
    "    optimizer=\"adam\",\n",
    "    num_epochs=200,\n",
    "    callbacks=dict(\n",
    "        EarlyStopping=dict(\n",
    "            monitor=\"val_r2\", mode=\"max\", verbose=0, patience=5  # or 'val_acc' ?\n",
    "        ),\n",
    "        ModelCheckpoint=dict(\n",
    "            monitor=\"val_loss\",\n",
    "            mode=\"min\",\n",
    "            save_best_only=True,\n",
    "            verbose=0,\n",
    "            filepath=\"model.h5\",\n",
    "            save_weights_only=False,\n",
    "        ),\n",
    "    ),\n",
    ")\n",
    "\n",
    "problem.loss(\"mse\")\n",
    "\n",
    "problem.metrics([\"r2\"])\n",
    "\n",
    "problem.objective(\"val_r2\")\n",
    "\n",
    "problem"
   ]
  },
  {
   "cell_type": "markdown",
   "id": "9d33eef1",
   "metadata": {},
   "source": [
    "## Running the Search\n",
    "\n",
    "Create an `Evaluator` object using the `ray` backend to distribute the evaluation of the run-function defined previously."
   ]
  },
  {
   "cell_type": "code",
   "execution_count": null,
   "id": "eb988f0d",
   "metadata": {},
   "outputs": [
    {
     "name": "stdout",
     "output_type": "stream",
     "text": [
      "Number of workers:  2\n"
     ]
    }
   ],
   "source": [
    "from deephyper.evaluator import Evaluator\n",
    "from deephyper.evaluator.callback import LoggerCallback\n",
    "from deephyper.nas.run import run_base_trainer\n",
    "\n",
    "evaluator = Evaluator.create(run_base_trainer,\n",
    "                             method=\"ray\",\n",
    "                             method_kwargs={\n",
    "                                 \"address\": None,\n",
    "                                 \"num_cpus\": 2,\n",
    "                                 \"num_cpus_per_task\": 1,\n",
    "                                 \"callbacks\": [LoggerCallback()]\n",
    "                             })\n",
    "\n",
    "print(\"Number of workers: \", evaluator.num_workers)"
   ]
  },
  {
   "cell_type": "markdown",
   "id": "1d23218b",
   "metadata": {},
   "source": [
    "<div class=\"alert alert-info\">\n",
    "    \n",
    "<b>Tip</b> \n",
    "    \n",
    "You can open the ray-dashboard at an address like <a>http://127.0.0.1:port</a> in a browser to monitor the CPU usage of the execution.\n",
    "    \n",
    "</div>\n",
    "\n",
    "Finally, you can define a Random search called `Random` and link to it the defined `problem` and `evaluator`."
   ]
  },
  {
   "cell_type": "code",
   "execution_count": null,
   "id": "9c628f64",
   "metadata": {},
   "outputs": [],
   "source": [
    "from deephyper.search.nas import Random\n",
    "\n",
    "search = Random(problem, evaluator)"
   ]
  },
  {
   "cell_type": "code",
   "execution_count": null,
   "id": "a2957660",
   "metadata": {},
   "outputs": [
    {
     "name": "stderr",
     "output_type": "stream",
     "text": [
      "\u001b[2m\u001b[36m(pid=10900)\u001b[0m 2021-10-15 16:45:42.773223: W tensorflow/stream_executor/platform/default/dso_loader.cc:64] Could not load dynamic library 'libcudart.so.11.0'; dlerror: libcudart.so.11.0: cannot open shared object file: No such file or directory\n",
      "\u001b[2m\u001b[36m(pid=10900)\u001b[0m 2021-10-15 16:45:42.773286: I tensorflow/stream_executor/cuda/cudart_stub.cc:29] Ignore above cudart dlerror if you do not have a GPU set up on your machine.\n",
      "\u001b[2m\u001b[36m(pid=10899)\u001b[0m 2021-10-15 16:45:42.779747: W tensorflow/stream_executor/platform/default/dso_loader.cc:64] Could not load dynamic library 'libcudart.so.11.0'; dlerror: libcudart.so.11.0: cannot open shared object file: No such file or directory\n",
      "\u001b[2m\u001b[36m(pid=10899)\u001b[0m 2021-10-15 16:45:42.779819: I tensorflow/stream_executor/cuda/cudart_stub.cc:29] Ignore above cudart dlerror if you do not have a GPU set up on your machine.\n",
      "\u001b[2m\u001b[36m(pid=10900)\u001b[0m 2021-10-15 16:45:50.881365: E tensorflow/stream_executor/cuda/cuda_driver.cc:271] failed call to cuInit: UNKNOWN ERROR (100)\n",
      "\u001b[2m\u001b[36m(pid=10900)\u001b[0m 2021-10-15 16:45:50.881424: I tensorflow/stream_executor/cuda/cuda_diagnostics.cc:156] kernel driver does not appear to be running on this host (Jordi): /proc/driver/nvidia/version does not exist\n",
      "\u001b[2m\u001b[36m(pid=10899)\u001b[0m 2021-10-15 16:45:50.891103: E tensorflow/stream_executor/cuda/cuda_driver.cc:271] failed call to cuInit: UNKNOWN ERROR (100)\n",
      "\u001b[2m\u001b[36m(pid=10899)\u001b[0m 2021-10-15 16:45:50.891165: I tensorflow/stream_executor/cuda/cuda_diagnostics.cc:156] kernel driver does not appear to be running on this host (Jordi): /proc/driver/nvidia/version does not exist\n",
      "\u001b[2m\u001b[36m(pid=10900)\u001b[0m 2021-10-15 16:45:50.965679: I tensorflow/core/platform/cpu_feature_guard.cc:142] This TensorFlow binary is optimized with oneAPI Deep Neural Network Library (oneDNN) to use the following CPU instructions in performance-critical operations:  AVX2 FMA\n",
      "\u001b[2m\u001b[36m(pid=10900)\u001b[0m To enable them in other operations, rebuild TensorFlow with the appropriate compiler flags.\n",
      "\u001b[2m\u001b[36m(pid=10899)\u001b[0m 2021-10-15 16:45:50.979426: I tensorflow/core/platform/cpu_feature_guard.cc:142] This TensorFlow binary is optimized with oneAPI Deep Neural Network Library (oneDNN) to use the following CPU instructions in performance-critical operations:  AVX2 FMA\n",
      "\u001b[2m\u001b[36m(pid=10899)\u001b[0m To enable them in other operations, rebuild TensorFlow with the appropriate compiler flags.\n",
      "\u001b[2m\u001b[36m(pid=10900)\u001b[0m 2021-10-15 16:45:53.971335: I tensorflow/compiler/mlir/mlir_graph_optimization_pass.cc:185] None of the MLIR Optimization Passes are enabled (registered 2)\n",
      "\u001b[2m\u001b[36m(pid=10899)\u001b[0m 2021-10-15 16:45:54.014744: I tensorflow/compiler/mlir/mlir_graph_optimization_pass.cc:185] None of the MLIR Optimization Passes are enabled (registered 2)\n",
      "\u001b[2m\u001b[36m(pid=10900)\u001b[0m /home/joceran/miniconda3/envs/deephyper/lib/python3.8/site-packages/keras/utils/generic_utils.py:494: CustomMaskWarning: Custom mask layers require a config and must override get_config. When loading, the custom mask layer must be passed to the custom_objects argument.\n",
      "\u001b[2m\u001b[36m(pid=10900)\u001b[0m   warnings.warn('Custom mask layers require a config and must override '\n",
      "\u001b[2m\u001b[36m(pid=10899)\u001b[0m /home/joceran/miniconda3/envs/deephyper/lib/python3.8/site-packages/keras/utils/generic_utils.py:494: CustomMaskWarning: Custom mask layers require a config and must override get_config. When loading, the custom mask layer must be passed to the custom_objects argument.\n",
      "\u001b[2m\u001b[36m(pid=10899)\u001b[0m   warnings.warn('Custom mask layers require a config and must override '\n"
     ]
    },
    {
     "name": "stdout",
     "output_type": "stream",
     "text": [
      "[00001] -- best objective: -6.66994 -- received objective: -6.66994\n",
      "[00002] -- best objective: 0.66505 -- received objective: 0.66505\n",
      "[00003] -- best objective: 0.66505 -- received objective: 0.50705\n",
      "[00004] -- best objective: 0.66505 -- received objective: -10.30512\n",
      "[00005] -- best objective: 0.73144 -- received objective: 0.73144\n",
      "[00006] -- best objective: 0.73144 -- received objective: 0.69190\n",
      "[00007] -- best objective: 0.75184 -- received objective: 0.75184\n",
      "[00008] -- best objective: 0.75184 -- received objective: -8.12248\n",
      "[00009] -- best objective: 0.75184 -- received objective: 0.68870\n",
      "[00010] -- best objective: 0.75184 -- received objective: 0.69816\n"
     ]
    }
   ],
   "source": [
    "results = search.search(10)"
   ]
  },
  {
   "cell_type": "markdown",
   "id": "efd2a24f",
   "metadata": {},
   "source": [
    "## Analyse the Results"
   ]
  },
  {
   "cell_type": "code",
   "execution_count": null,
   "id": "158fa8fe",
   "metadata": {},
   "outputs": [
    {
     "data": {
      "text/html": [
       "<div>\n",
       "<style scoped>\n",
       "    .dataframe tbody tr th:only-of-type {\n",
       "        vertical-align: middle;\n",
       "    }\n",
       "\n",
       "    .dataframe tbody tr th {\n",
       "        vertical-align: top;\n",
       "    }\n",
       "\n",
       "    .dataframe thead th {\n",
       "        text-align: right;\n",
       "    }\n",
       "</style>\n",
       "<table border=\"1\" class=\"dataframe\">\n",
       "  <thead>\n",
       "    <tr style=\"text-align: right;\">\n",
       "      <th></th>\n",
       "      <th>arch_seq</th>\n",
       "      <th>id</th>\n",
       "      <th>objective</th>\n",
       "      <th>elapsed_sec</th>\n",
       "      <th>duration</th>\n",
       "    </tr>\n",
       "  </thead>\n",
       "  <tbody>\n",
       "    <tr>\n",
       "      <th>0</th>\n",
       "      <td>[17, 0, 1, 1, 14, 1, 1, 0, 0, 21, 0, 0, 0, 0, 1]</td>\n",
       "      <td>1</td>\n",
       "      <td>-6.669945</td>\n",
       "      <td>16.755573</td>\n",
       "      <td>15.788770</td>\n",
       "    </tr>\n",
       "    <tr>\n",
       "      <th>1</th>\n",
       "      <td>[21, 1, 0, 1, 17, 0, 1, 1, 0, 17, 0, 0, 1, 1, 1]</td>\n",
       "      <td>2</td>\n",
       "      <td>0.665045</td>\n",
       "      <td>25.884929</td>\n",
       "      <td>24.918100</td>\n",
       "    </tr>\n",
       "    <tr>\n",
       "      <th>2</th>\n",
       "      <td>[4, 1, 1, 1, 12, 1, 0, 1, 0, 3, 0, 0, 0, 0, 1]</td>\n",
       "      <td>3</td>\n",
       "      <td>0.507052</td>\n",
       "      <td>54.028046</td>\n",
       "      <td>37.266873</td>\n",
       "    </tr>\n",
       "    <tr>\n",
       "      <th>3</th>\n",
       "      <td>[0, 1, 1, 1, 11, 0, 1, 0, 1, 16, 0, 1, 0, 0, 0]</td>\n",
       "      <td>4</td>\n",
       "      <td>-10.305122</td>\n",
       "      <td>73.383435</td>\n",
       "      <td>47.494420</td>\n",
       "    </tr>\n",
       "    <tr>\n",
       "      <th>4</th>\n",
       "      <td>[11, 1, 1, 1, 22, 1, 1, 1, 0, 18, 0, 0, 1, 1, 0]</td>\n",
       "      <td>5</td>\n",
       "      <td>0.731443</td>\n",
       "      <td>81.941069</td>\n",
       "      <td>27.909057</td>\n",
       "    </tr>\n",
       "    <tr>\n",
       "      <th>5</th>\n",
       "      <td>[21, 1, 0, 1, 12, 1, 1, 0, 1, 22, 1, 1, 1, 1, 1]</td>\n",
       "      <td>6</td>\n",
       "      <td>0.691904</td>\n",
       "      <td>91.817398</td>\n",
       "      <td>18.430309</td>\n",
       "    </tr>\n",
       "    <tr>\n",
       "      <th>6</th>\n",
       "      <td>[11, 0, 0, 1, 21, 0, 1, 0, 1, 21, 0, 0, 0, 1, 0]</td>\n",
       "      <td>7</td>\n",
       "      <td>0.751838</td>\n",
       "      <td>94.454915</td>\n",
       "      <td>12.508954</td>\n",
       "    </tr>\n",
       "    <tr>\n",
       "      <th>7</th>\n",
       "      <td>[0, 1, 0, 1, 20, 0, 0, 0, 1, 11, 0, 0, 0, 0, 0]</td>\n",
       "      <td>8</td>\n",
       "      <td>-8.122482</td>\n",
       "      <td>139.621076</td>\n",
       "      <td>47.782052</td>\n",
       "    </tr>\n",
       "    <tr>\n",
       "      <th>8</th>\n",
       "      <td>[6, 1, 0, 1, 10, 0, 1, 0, 0, 11, 1, 1, 0, 1, 0]</td>\n",
       "      <td>9</td>\n",
       "      <td>0.688700</td>\n",
       "      <td>141.963027</td>\n",
       "      <td>47.503428</td>\n",
       "    </tr>\n",
       "    <tr>\n",
       "      <th>9</th>\n",
       "      <td>[10, 0, 0, 1, 21, 0, 1, 1, 1, 22, 0, 1, 0, 1, 0]</td>\n",
       "      <td>10</td>\n",
       "      <td>0.698157</td>\n",
       "      <td>155.661480</td>\n",
       "      <td>16.036493</td>\n",
       "    </tr>\n",
       "  </tbody>\n",
       "</table>\n",
       "</div>"
      ],
      "text/plain": [
       "                                           arch_seq  id  objective  \\\n",
       "0  [17, 0, 1, 1, 14, 1, 1, 0, 0, 21, 0, 0, 0, 0, 1]   1  -6.669945   \n",
       "1  [21, 1, 0, 1, 17, 0, 1, 1, 0, 17, 0, 0, 1, 1, 1]   2   0.665045   \n",
       "2    [4, 1, 1, 1, 12, 1, 0, 1, 0, 3, 0, 0, 0, 0, 1]   3   0.507052   \n",
       "3   [0, 1, 1, 1, 11, 0, 1, 0, 1, 16, 0, 1, 0, 0, 0]   4 -10.305122   \n",
       "4  [11, 1, 1, 1, 22, 1, 1, 1, 0, 18, 0, 0, 1, 1, 0]   5   0.731443   \n",
       "5  [21, 1, 0, 1, 12, 1, 1, 0, 1, 22, 1, 1, 1, 1, 1]   6   0.691904   \n",
       "6  [11, 0, 0, 1, 21, 0, 1, 0, 1, 21, 0, 0, 0, 1, 0]   7   0.751838   \n",
       "7   [0, 1, 0, 1, 20, 0, 0, 0, 1, 11, 0, 0, 0, 0, 0]   8  -8.122482   \n",
       "8   [6, 1, 0, 1, 10, 0, 1, 0, 0, 11, 1, 1, 0, 1, 0]   9   0.688700   \n",
       "9  [10, 0, 0, 1, 21, 0, 1, 1, 1, 22, 0, 1, 0, 1, 0]  10   0.698157   \n",
       "\n",
       "   elapsed_sec   duration  \n",
       "0    16.755573  15.788770  \n",
       "1    25.884929  24.918100  \n",
       "2    54.028046  37.266873  \n",
       "3    73.383435  47.494420  \n",
       "4    81.941069  27.909057  \n",
       "5    91.817398  18.430309  \n",
       "6    94.454915  12.508954  \n",
       "7   139.621076  47.782052  \n",
       "8   141.963027  47.503428  \n",
       "9   155.661480  16.036493  "
      ]
     },
     "execution_count": 16,
     "metadata": {},
     "output_type": "execute_result"
    }
   ],
   "source": [
    "results"
   ]
  },
  {
   "cell_type": "markdown",
   "id": "4c0bc11f",
   "metadata": {},
   "source": [
    "The `deephyper-analytics` command line is a way of analyzing this type of file. For example, we want to output the best configuration we can use the `topk` functionnality."
   ]
  },
  {
   "cell_type": "code",
   "execution_count": null,
   "id": "014ba26d",
   "metadata": {},
   "outputs": [
    {
     "name": "stdout",
     "output_type": "stream",
     "text": [
      "'0':\n",
      "  arch_seq: '[11, 0, 0, 1, 21, 0, 1, 0, 1, 21, 0, 0, 0, 1, 0]'\n",
      "  duration: 12.5089542866\n",
      "  elapsed_sec: 94.4549145699\n",
      "  id: 7\n",
      "  objective: 0.7518377304\n",
      "'1':\n",
      "  arch_seq: '[11, 1, 1, 1, 22, 1, 1, 1, 0, 18, 0, 0, 1, 1, 0]'\n",
      "  duration: 27.9090573788\n",
      "  elapsed_sec: 81.9410691261\n",
      "  id: 5\n",
      "  objective: 0.7314432859\n",
      "'2':\n",
      "  arch_seq: '[10, 0, 0, 1, 21, 0, 1, 1, 1, 22, 0, 1, 0, 1, 0]'\n",
      "  duration: 16.036493063\n",
      "  elapsed_sec: 155.6614797115\n",
      "  id: 10\n",
      "  objective: 0.6981574297\n",
      "\n"
     ]
    }
   ],
   "source": [
    "!deephyper-analytics topk results.csv -k 3"
   ]
  },
  {
   "cell_type": "markdown",
   "id": "79b4179e",
   "metadata": {},
   "source": [
    "Output the best neural network architecture:"
   ]
  },
  {
   "cell_type": "code",
   "execution_count": null,
   "id": "41058658",
   "metadata": {},
   "outputs": [
    {
     "data": {
      "image/png": "[encoded data removed]",
      "text/plain": [
       "<IPython.core.display.Image object>"
      ]
     },
     "execution_count": 18,
     "metadata": {},
     "output_type": "execute_result"
    }
   ],
   "source": [
    "import json\n",
    "\n",
    "best_config = results.iloc[results.objective.argmax()][:-3].to_dict()\n",
    "arch_seq = json.loads(best_config[\"arch_seq\"])\n",
    "factory.plot_model(**shapes, ops=arch_seq, show_shapes=False, show_layer_names=False, num_layers=3) "
   ]
  }
 ],
 "metadata": {
  "interpreter": {
   "hash": "c33774984308773a164e9991715538701a09ddea2391d4c1ef9b39eda340d87d"
  },
  "kernelspec": {
   "display_name": "Python 3.8.11 64-bit ('deephyper': conda)",
   "name": "python3"
  },
  "language_info": {
   "codemirror_mode": {
    "name": "ipython",
    "version": 3
   },
   "file_extension": ".py",
   "mimetype": "text/x-python",
   "name": "python",
   "nbconvert_exporter": "python",
   "pygments_lexer": "ipython3",
   "version": "3.8.11"
  },
  "toc": {
   "base_numbering": 1,
   "nav_menu": {},
   "number_sections": true,
   "sideBar": true,
   "skip_h1_title": false,
   "title_cell": "Table of Contents",
   "title_sidebar": "Contents",
   "toc_cell": false,
   "toc_position": {},
   "toc_section_display": true,
   "toc_window_display": true
  }
 },
 "nbformat": 4,
 "nbformat_minor": 5
}
