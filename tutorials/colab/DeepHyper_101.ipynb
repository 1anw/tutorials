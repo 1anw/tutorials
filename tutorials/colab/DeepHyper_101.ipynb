{
 "cells": [
  {
   "cell_type": "markdown",
   "metadata": {
    "id": "r_L60vrWwF6K"
   },
   "source": [
    "# DeepHyper 101\n",
    "\n",
    "[![Open In Colab](https://colab.research.google.com/assets/colab-badge.svg)](https://colab.research.google.com/github/deephyper/tutorials/blob/main/tutorials/colab/DeepHyper_101.ipynb)\n",
    "\n",
    "\n",
    "In this tutorial, we present the basics of DeepHyper.\n",
    "\n",
    "Let us start with installing DeepHyper!"
   ]
  },
  {
   "cell_type": "code",
   "execution_count": null,
   "metadata": {
    "id": "hfYqrnVrt2dL"
   },
   "outputs": [],
   "source": [
    "!pip install deephyper\n",
    "!pip install ray==1.9.2 -I"
   ]
  },
  {
   "cell_type": "markdown",
   "metadata": {
    "id": "6KDQk8Qswa7r"
   },
   "source": [
    "<div class=\"alert alert-warning\">\n",
    "\n",
    "<b>Warning</b>\n",
    "    \n",
    "By design asyncio does not allow nested event loops. Jupyter is using Tornado which already starts an event loop. Therefore the following patch is required to run DeepHyper in a Jupyter notebook.\n",
    "    \n",
    "</div>"
   ]
  },
  {
   "cell_type": "code",
   "execution_count": null,
   "metadata": {
    "colab": {
     "base_uri": "https://localhost:8080/"
    },
    "id": "2BYSmCkHvG5v",
    "outputId": "80af438c-43e6-4e35-9ba5-64230038c2f6"
   },
   "outputs": [
    {
     "name": "stdout",
     "output_type": "stream",
     "text": [
      "Requirement already satisfied: nest_asyncio in /usr/local/lib/python3.7/dist-packages (1.5.1)\n"
     ]
    }
   ],
   "source": [
    "!pip install nest_asyncio\n",
    "\n",
    "import nest_asyncio\n",
    "nest_asyncio.apply()"
   ]
  },
  {
   "cell_type": "markdown",
   "metadata": {
    "id": "7_q9aldNxBYi"
   },
   "source": [
    "## Optimization Problem\n",
    "\n",
    "In the definition of our optimization problem we have two components:\n",
    "\n",
    "1. black-box function that we want to optimize\n",
    "2. the search space of input variables\n",
    "\n",
    "### Black-Box Function\n",
    "\n",
    "DeepHyper is developed to optimize black-box functions. Here, we define the function $f(x) = - x ^ 2$ that we want to maximise (the maximum being $f(x=0) = 0$ on $I_x = [-10;10]$). The black-box function `f` takes as input a `config` dictionnary from which we retrieve the variables of interest."
   ]
  },
  {
   "cell_type": "code",
   "execution_count": 11,
   "metadata": {
    "id": "h69qB3oPt-8Q"
   },
   "outputs": [],
   "source": [
    "def f(config):\n",
    "    return - config[\"x\"]**2"
   ]
  },
  {
   "cell_type": "markdown",
   "metadata": {
    "id": "TojZXhQbyfUM"
   },
   "source": [
    "### Search Space of Input Variables\n",
    "\n",
    "In this example, we have only one variable $x$ for the black-box functin $f$. We empirically decide to optimize this variable $x$ on the interval $I_x = [-10;10]$. To do so we use the `HpProblem` from DeepHyper and add a **real** hyperparameter by using a `tuple` of two `floats`."
   ]
  },
  {
   "cell_type": "code",
   "execution_count": null,
   "metadata": {
    "colab": {
     "base_uri": "https://localhost:8080/"
    },
    "id": "l7G5OOT2uND5",
    "outputId": "c1b85bcc-b971-4175-86e0-80610a2fdc26"
   },
   "outputs": [
    {
     "data": {
      "text/plain": [
       "Configuration space object:\n",
       "  Hyperparameters:\n",
       "    x, Type: UniformFloat, Range: [-10.0, 10.0], Default: 0.0"
      ]
     },
     "execution_count": 3,
     "metadata": {},
     "output_type": "execute_result"
    }
   ],
   "source": [
    "from deephyper.problem import HpProblem\n",
    "\n",
    "\n",
    "problem = HpProblem()\n",
    "\n",
    "# define the variable you want to optimize\n",
    "problem.add_hyperparameter((-10.0, 10.0), \"x\")\n",
    "\n",
    "problem"
   ]
  },
  {
   "cell_type": "markdown",
   "metadata": {
    "id": "XSFOmHpMz3EW"
   },
   "source": [
    "## Evaluator Interface\n",
    "\n",
    "DeepHyper uses an API called `Evaluator` to distribute the computation of black-box functions and adapt to different backends (e.g., threads, processes, MPI, Ray). An `Evaluator` object wraps the black-box function `f` that we want to optimize. Then a `method` parameter is used to select the backend and `method_kwargs` defines some available options of this backend. For Jupyter notebooks we use the Ray evaluator (`method=\"ray\"`).\n",
    "\n",
    "Depending on available resources (`num_cpus`) available and the quantity of resources used by each computation of the black-box function (`num_cpus_per_task`) the number of available workers is automatically computed.\n",
    "\n",
    "It is possible to define callbacks to extend the behaviour of `Evaluator` each time a function-evaluation is launched or completed. In this example we use the `LoggerCallback` to follow the completed evaluations and the evolution of the objective."
   ]
  },
  {
   "cell_type": "code",
   "execution_count": 14,
   "metadata": {
    "colab": {
     "base_uri": "https://localhost:8080/"
    },
    "id": "VRXubHiXuQOY",
    "outputId": "ca5fc1a4-aa21-4220-b0a9-934c9e06961b"
   },
   "outputs": [
    {
     "name": "stdout",
     "output_type": "stream",
     "text": [
      "Evaluator has 4 available workers\n"
     ]
    }
   ],
   "source": [
    "from deephyper.evaluator import Evaluator\n",
    "from deephyper.evaluator.callback import LoggerCallback\n",
    "\n",
    "\n",
    "# define the evaluator to distribute the computation\n",
    "evaluator = Evaluator.create(\n",
    "    f,\n",
    "    method=\"ray\",\n",
    "    method_kwargs={\n",
    "        \"num_cpus\": 1,\n",
    "        \"num_cpus_per_task\": 0.25,\n",
    "        \"callbacks\": [LoggerCallback()]\n",
    "    },\n",
    ")\n",
    "\n",
    "print(f\"Evaluator has {evaluator.num_workers} available worker{'' if evaluator.num_workers == 1 else 's'}\")"
   ]
  },
  {
   "cell_type": "markdown",
   "metadata": {
    "id": "7mxkmjXX1yWU"
   },
   "source": [
    "## Search Algorithm\n",
    "\n",
    "The next step is to define the search algorithm that we want to use. Here, we choose `AMBS` (Asynchronous Model-Based Search) which is a sampling based Bayesian optimization strategy. This algorithm has the advantage of being asynchronous thanks to a constant liar strategy which is crutial to keep a good utilization of the resources when the number of available workers increases."
   ]
  },
  {
   "cell_type": "code",
   "execution_count": 15,
   "metadata": {
    "id": "C2T_35WTuQZ9"
   },
   "outputs": [],
   "source": [
    "from deephyper.search.hps import AMBS\n",
    "\n",
    "\n",
    "# define your search\n",
    "search = AMBS(problem, evaluator)"
   ]
  },
  {
   "cell_type": "markdown",
   "metadata": {
    "id": "RYCy0p4A2lOo"
   },
   "source": [
    "Then, we can execute the search for a given number of iterations by using the `search.search(max_evals=...)`. It is also possible to use the `timeout` parameter if one needs a specific time budget (e.g., restricted computational time in machine learning competitions, allocation time in HPC)."
   ]
  },
  {
   "cell_type": "code",
   "execution_count": 16,
   "metadata": {
    "colab": {
     "base_uri": "https://localhost:8080/"
    },
    "id": "x07fSC0zuepm",
    "outputId": "4ba089ca-6f70-4841-ee20-d7c047898ea2"
   },
   "outputs": [
    {
     "name": "stdout",
     "output_type": "stream",
     "text": [
      "[00001] -- best objective: -48.01665 -- received objective: -48.01665\n",
      "[00002] -- best objective: -32.48806 -- received objective: -32.48806\n",
      "[00003] -- best objective: -6.95366 -- received objective: -6.95366\n",
      "[00004] -- best objective: -0.02131 -- received objective: -0.02131\n",
      "[00005] -- best objective: -0.02131 -- received objective: -6.22327\n",
      "[00006] -- best objective: -0.02131 -- received objective: -6.66244\n",
      "[00007] -- best objective: -0.02131 -- received objective: -23.36765\n",
      "[00008] -- best objective: -0.02131 -- received objective: -18.95907\n",
      "[00009] -- best objective: -0.02131 -- received objective: -16.40159\n",
      "[00010] -- best objective: -0.02131 -- received objective: -9.62992\n",
      "[00011] -- best objective: -0.02131 -- received objective: -17.61847\n",
      "[00012] -- best objective: -0.02131 -- received objective: -24.02175\n",
      "[00013] -- best objective: -0.02131 -- received objective: -8.78387\n",
      "[00014] -- best objective: -0.02131 -- received objective: -1.66473\n",
      "[00015] -- best objective: -0.02131 -- received objective: -2.46526\n",
      "[00016] -- best objective: -0.02131 -- received objective: -1.18740\n",
      "[00017] -- best objective: -0.02131 -- received objective: -1.16130\n",
      "[00018] -- best objective: -0.02131 -- received objective: -3.40520\n",
      "[00019] -- best objective: -0.02131 -- received objective: -4.64195\n",
      "[00020] -- best objective: -0.02131 -- received objective: -1.43801\n",
      "[00021] -- best objective: -0.02131 -- received objective: -3.21256\n",
      "[00022] -- best objective: -0.02131 -- received objective: -0.44638\n",
      "[00023] -- best objective: -0.02131 -- received objective: -0.19772\n",
      "[00024] -- best objective: -0.02131 -- received objective: -0.79561\n",
      "[00025] -- best objective: -0.02131 -- received objective: -0.17115\n",
      "[00026] -- best objective: -0.02131 -- received objective: -0.08435\n",
      "[00027] -- best objective: -0.02131 -- received objective: -0.10716\n",
      "[00028] -- best objective: -0.02131 -- received objective: -0.48718\n",
      "[00029] -- best objective: -0.02131 -- received objective: -0.10139\n",
      "[00030] -- best objective: -0.02131 -- received objective: -4.23256\n",
      "[00031] -- best objective: -0.02131 -- received objective: -4.00711\n",
      "[00032] -- best objective: -0.02131 -- received objective: -5.20448\n",
      "[00033] -- best objective: -0.02131 -- received objective: -3.99205\n",
      "[00034] -- best objective: -0.02131 -- received objective: -0.05532\n",
      "[00035] -- best objective: -0.02131 -- received objective: -0.33852\n",
      "[00036] -- best objective: -0.02131 -- received objective: -0.26087\n",
      "[00037] -- best objective: -0.02131 -- received objective: -0.25922\n",
      "[00038] -- best objective: -0.01225 -- received objective: -0.01225\n",
      "[00039] -- best objective: -0.00311 -- received objective: -0.00311\n",
      "[00040] -- best objective: -0.00311 -- received objective: -0.07740\n",
      "[00041] -- best objective: -0.00311 -- received objective: -0.00392\n",
      "[00042] -- best objective: -0.00311 -- received objective: -0.02743\n",
      "[00043] -- best objective: -0.00311 -- received objective: -0.05363\n",
      "[00044] -- best objective: -0.00311 -- received objective: -0.04416\n",
      "[00045] -- best objective: -0.00311 -- received objective: -0.03211\n",
      "[00046] -- best objective: -0.00311 -- received objective: -0.01239\n",
      "[00047] -- best objective: -0.00311 -- received objective: -0.01307\n",
      "[00048] -- best objective: -0.00311 -- received objective: -0.01898\n",
      "[00049] -- best objective: -0.00311 -- received objective: -0.01255\n",
      "[00050] -- best objective: -0.00059 -- received objective: -0.00059\n",
      "[00051] -- best objective: -0.00059 -- received objective: -0.00727\n",
      "[00052] -- best objective: -0.00059 -- received objective: -0.00359\n",
      "[00053] -- best objective: -0.00059 -- received objective: -0.00070\n",
      "[00054] -- best objective: -0.00059 -- received objective: -0.00156\n",
      "[00055] -- best objective: -0.00059 -- received objective: -0.00462\n",
      "[00056] -- best objective: -0.00059 -- received objective: -0.00095\n",
      "[00057] -- best objective: -0.00059 -- received objective: -0.00112\n",
      "[00058] -- best objective: -0.00059 -- received objective: -0.00076\n",
      "[00059] -- best objective: -0.00059 -- received objective: -0.00159\n",
      "[00060] -- best objective: -0.00018 -- received objective: -0.00018\n",
      "[00061] -- best objective: -0.00018 -- received objective: -0.00023\n",
      "[00062] -- best objective: -0.00018 -- received objective: -0.00039\n",
      "[00063] -- best objective: -0.00018 -- received objective: -0.00168\n",
      "[00064] -- best objective: -0.00018 -- received objective: -0.00033\n",
      "[00065] -- best objective: -0.00018 -- received objective: -0.00027\n",
      "[00066] -- best objective: -0.00018 -- received objective: -1.65799\n",
      "[00067] -- best objective: -0.00018 -- received objective: -1.51467\n",
      "[00068] -- best objective: -0.00018 -- received objective: -0.00018\n",
      "[00069] -- best objective: -0.00018 -- received objective: -1.49407\n",
      "[00070] -- best objective: -0.00018 -- received objective: -0.04112\n",
      "[00071] -- best objective: -0.00018 -- received objective: -0.03010\n",
      "[00072] -- best objective: -0.00018 -- received objective: -0.03879\n",
      "[00073] -- best objective: -0.00018 -- received objective: -0.77481\n",
      "[00074] -- best objective: -0.00018 -- received objective: -0.95751\n",
      "[00075] -- best objective: -0.00018 -- received objective: -1.20611\n",
      "[00076] -- best objective: -0.00018 -- received objective: -0.69324\n",
      "[00077] -- best objective: -0.00018 -- received objective: -0.69422\n",
      "[00078] -- best objective: -0.00018 -- received objective: -0.00609\n",
      "[00079] -- best objective: -0.00018 -- received objective: -0.00586\n",
      "[00080] -- best objective: -0.00018 -- received objective: -0.00867\n",
      "[00081] -- best objective: -0.00018 -- received objective: -0.00582\n",
      "[00082] -- best objective: -0.00018 -- received objective: -0.00164\n",
      "[00083] -- best objective: -0.00018 -- received objective: -0.00098\n",
      "[00084] -- best objective: -0.00018 -- received objective: -0.00130\n",
      "[00085] -- best objective: -0.00018 -- received objective: -0.00773\n",
      "[00086] -- best objective: -0.00018 -- received objective: -0.00796\n",
      "[00087] -- best objective: -0.00018 -- received objective: -0.00952\n",
      "[00088] -- best objective: -0.00018 -- received objective: -0.00863\n",
      "[00089] -- best objective: -0.00000 -- received objective: -0.00000\n",
      "[00090] -- best objective: -0.00000 -- received objective: -0.00017\n",
      "[00091] -- best objective: -0.00000 -- received objective: -0.00004\n",
      "[00092] -- best objective: -0.00000 -- received objective: -0.00009\n",
      "[00093] -- best objective: -0.00000 -- received objective: -0.00005\n",
      "[00094] -- best objective: -0.00000 -- received objective: -0.00031\n",
      "[00095] -- best objective: -0.00000 -- received objective: -0.00005\n",
      "[00096] -- best objective: -0.00000 -- received objective: -0.00000\n",
      "[00097] -- best objective: -0.00000 -- received objective: -0.00031\n",
      "[00098] -- best objective: -0.00000 -- received objective: -0.00009\n",
      "[00099] -- best objective: -0.00000 -- received objective: -0.00002\n",
      "[00100] -- best objective: -0.00000 -- received objective: -0.00001\n"
     ]
    }
   ],
   "source": [
    "results = search.search(max_evals=100)"
   ]
  },
  {
   "cell_type": "markdown",
   "metadata": {
    "id": "P9A0fGwd37sm"
   },
   "source": [
    "Finally, let us visualize the results. The `search(...)` returns a DataFrame also saved locally under `results.csv` (in case of crash we don't want to loose the possibly expensive evaluations already performed). \n",
    "\n",
    "The DataFrame contains as columns:\n",
    "1. the optimized hyperparameters: such as `x` in our case.\n",
    "2. the `id` of each evaluated function (increased incrementally following the order of created evaluations).\n",
    "3. the `objective` maximised which directly match the results of the $f$-function in our example.\n",
    "4. the time of termination of each task `elapsed_sec` (in secondes, since the creation of the `Evaluator`) and the `duration` (in secondes)."
   ]
  },
  {
   "cell_type": "code",
   "execution_count": 17,
   "metadata": {
    "colab": {
     "base_uri": "https://localhost:8080/",
     "height": 422
    },
    "id": "KhYxth9PvA0N",
    "outputId": "3c153e97-2b52-427e-bbf3-cd378edfd160"
   },
   "outputs": [
    {
     "data": {
      "text/html": [
       "<div>\n",
       "<style scoped>\n",
       "    .dataframe tbody tr th:only-of-type {\n",
       "        vertical-align: middle;\n",
       "    }\n",
       "\n",
       "    .dataframe tbody tr th {\n",
       "        vertical-align: top;\n",
       "    }\n",
       "\n",
       "    .dataframe thead th {\n",
       "        text-align: right;\n",
       "    }\n",
       "</style>\n",
       "<table border=\"1\" class=\"dataframe\">\n",
       "  <thead>\n",
       "    <tr style=\"text-align: right;\">\n",
       "      <th></th>\n",
       "      <th>x</th>\n",
       "      <th>id</th>\n",
       "      <th>objective</th>\n",
       "      <th>elapsed_sec</th>\n",
       "      <th>duration</th>\n",
       "    </tr>\n",
       "  </thead>\n",
       "  <tbody>\n",
       "    <tr>\n",
       "      <th>0</th>\n",
       "      <td>6.929404</td>\n",
       "      <td>1</td>\n",
       "      <td>-48.016645</td>\n",
       "      <td>18.691893</td>\n",
       "      <td>0.015289</td>\n",
       "    </tr>\n",
       "    <tr>\n",
       "      <th>1</th>\n",
       "      <td>-5.699830</td>\n",
       "      <td>2</td>\n",
       "      <td>-32.488058</td>\n",
       "      <td>19.265710</td>\n",
       "      <td>0.589085</td>\n",
       "    </tr>\n",
       "    <tr>\n",
       "      <th>2</th>\n",
       "      <td>-0.145986</td>\n",
       "      <td>3</td>\n",
       "      <td>-0.021312</td>\n",
       "      <td>19.267566</td>\n",
       "      <td>0.590926</td>\n",
       "    </tr>\n",
       "    <tr>\n",
       "      <th>3</th>\n",
       "      <td>-2.636978</td>\n",
       "      <td>4</td>\n",
       "      <td>-6.953655</td>\n",
       "      <td>19.266957</td>\n",
       "      <td>0.590303</td>\n",
       "    </tr>\n",
       "    <tr>\n",
       "      <th>4</th>\n",
       "      <td>2.494648</td>\n",
       "      <td>5</td>\n",
       "      <td>-6.223271</td>\n",
       "      <td>20.655589</td>\n",
       "      <td>1.391588</td>\n",
       "    </tr>\n",
       "    <tr>\n",
       "      <th>...</th>\n",
       "      <td>...</td>\n",
       "      <td>...</td>\n",
       "      <td>...</td>\n",
       "      <td>...</td>\n",
       "      <td>...</td>\n",
       "    </tr>\n",
       "    <tr>\n",
       "      <th>93</th>\n",
       "      <td>-0.007204</td>\n",
       "      <td>94</td>\n",
       "      <td>-0.000052</td>\n",
       "      <td>76.526612</td>\n",
       "      <td>1.072505</td>\n",
       "    </tr>\n",
       "    <tr>\n",
       "      <th>94</th>\n",
       "      <td>-0.017661</td>\n",
       "      <td>96</td>\n",
       "      <td>-0.000312</td>\n",
       "      <td>76.526468</td>\n",
       "      <td>1.072291</td>\n",
       "    </tr>\n",
       "    <tr>\n",
       "      <th>95</th>\n",
       "      <td>-0.017504</td>\n",
       "      <td>97</td>\n",
       "      <td>-0.000306</td>\n",
       "      <td>78.039819</td>\n",
       "      <td>1.515123</td>\n",
       "    </tr>\n",
       "    <tr>\n",
       "      <th>96</th>\n",
       "      <td>0.001946</td>\n",
       "      <td>95</td>\n",
       "      <td>-0.000004</td>\n",
       "      <td>76.528772</td>\n",
       "      <td>1.074623</td>\n",
       "    </tr>\n",
       "    <tr>\n",
       "      <th>97</th>\n",
       "      <td>0.004225</td>\n",
       "      <td>99</td>\n",
       "      <td>-0.000018</td>\n",
       "      <td>79.006809</td>\n",
       "      <td>0.969238</td>\n",
       "    </tr>\n",
       "  </tbody>\n",
       "</table>\n",
       "<p>98 rows × 5 columns</p>\n",
       "</div>"
      ],
      "text/plain": [
       "           x  id  objective  elapsed_sec  duration\n",
       "0   6.929404   1 -48.016645    18.691893  0.015289\n",
       "1  -5.699830   2 -32.488058    19.265710  0.589085\n",
       "2  -0.145986   3  -0.021312    19.267566  0.590926\n",
       "3  -2.636978   4  -6.953655    19.266957  0.590303\n",
       "4   2.494648   5  -6.223271    20.655589  1.391588\n",
       "..       ...  ..        ...          ...       ...\n",
       "93 -0.007204  94  -0.000052    76.526612  1.072505\n",
       "94 -0.017661  96  -0.000312    76.526468  1.072291\n",
       "95 -0.017504  97  -0.000306    78.039819  1.515123\n",
       "96  0.001946  95  -0.000004    76.528772  1.074623\n",
       "97  0.004225  99  -0.000018    79.006809  0.969238\n",
       "\n",
       "[98 rows x 5 columns]"
      ]
     },
     "execution_count": 17,
     "metadata": {},
     "output_type": "execute_result"
    }
   ],
   "source": [
    "results"
   ]
  },
  {
   "cell_type": "markdown",
   "metadata": {
    "id": "cu9hhC4J6nBx"
   },
   "source": [
    "We can also plot the evolution of the objective to verify that we converge correctly toward $0$."
   ]
  },
  {
   "cell_type": "code",
   "execution_count": 21,
   "metadata": {
    "colab": {
     "base_uri": "https://localhost:8080/",
     "height": 279
    },
    "id": "q_ZA3J-F3_yn",
    "outputId": "a7da5707-83e5-4df5-dcdf-7833a4a40ba8"
   },
   "outputs": [
    {
     "data": {
      "image/png": "[encoded data removed]",
      "text/plain": [
       "<Figure size 432x288 with 1 Axes>"
      ]
     },
     "metadata": {
      "needs_background": "light"
     },
     "output_type": "display_data"
    }
   ],
   "source": [
    "import matplotlib.pyplot as plt\n",
    "\n",
    "plt.plot(results.objective)\n",
    "\n",
    "plt.xlabel(\"Iterations\")\n",
    "plt.ylabel(\"$y = f(x)$\")\n",
    "\n",
    "plt.show()"
   ]
  }
 ],
 "metadata": {
  "colab": {
   "name": "DeepHyper-101.ipynb",
   "provenance": []
  },
  "kernelspec": {
   "display_name": "Python 3 (ipykernel)",
   "language": "python",
   "name": "python3"
  },
  "language_info": {
   "codemirror_mode": {
    "name": "ipython",
    "version": 3
   },
   "file_extension": ".py",
   "mimetype": "text/x-python",
   "name": "python",
   "nbconvert_exporter": "python",
   "pygments_lexer": "ipython3",
   "version": "3.9.10"
  }
 },
 "nbformat": 4,
 "nbformat_minor": 1
}
