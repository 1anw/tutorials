{
 "cells": [
  {
   "cell_type": "markdown",
   "id": "f7ef2e27",
   "metadata": {
    "id": "f7ef2e27"
   },
   "source": [
    "# Hyperparameter search for classification with Tabular data (Keras)\n",
    "\n",
    "[![Open In Colab](https://colab.research.google.com/assets/colab-badge.svg)](https://colab.research.google.com/github/deephyper/tutorials/blob/main/tutorials/colab/HPS_basic_classification_with_tabular_data/notebook.ipynb)\n",
    "\n",
    "In this tutorial we present how to use hyperparameter optimization on a basic example from the Keras documentation.\n",
    "\n",
    "**Reference**:\n",
    " This tutorial is based on materials from the Keras Documentation: [Structured data classification from scratch](https://keras.io/examples/structured_data/structured_data_classification_from_scratch/)\n",
    "\n",
    "Let us start with installing DeepHyper!\n",
    "    \n",
    "<div class=\"alert alert-warning\">\n",
    "\n",
    "<b>Warning</b>\n",
    "    \n",
    "This tutorial should be run with `tensorflow>=2.6`.\n",
    "    \n",
    "</div>"
   ]
  },
  {
   "cell_type": "code",
   "execution_count": null,
   "id": "g0AOef6cDGNp",
   "metadata": {
    "colab": {
     "base_uri": "https://localhost:8080/"
    },
    "id": "g0AOef6cDGNp",
    "outputId": "3d9ba6bb-5040-4809-9ab2-9a5c401f4b5a"
   },
   "outputs": [
    {
     "name": "stdout",
     "output_type": "stream",
     "text": [
      "Collecting deephyper\n",
      "  Downloading deephyper-0.3.3-py2.py3-none-any.whl (962 kB)\n",
      "\u001b[K     |████████████████████████████████| 962 kB 4.2 MB/s \n",
      "\u001b[?25hRequirement already satisfied: networkx in /usr/local/lib/python3.7/dist-packages (from deephyper) (2.6.3)\n",
      "Requirement already satisfied: pydot in /usr/local/lib/python3.7/dist-packages (from deephyper) (1.3.0)\n",
      "Requirement already satisfied: pandas>=0.24.2 in /usr/local/lib/python3.7/dist-packages (from deephyper) (1.1.5)\n",
      "Requirement already satisfied: typeguard in /usr/local/lib/python3.7/dist-packages (from deephyper) (2.7.1)\n",
      "Collecting openml==0.10.2\n",
      "  Downloading openml-0.10.2.tar.gz (158 kB)\n",
      "\u001b[K     |████████████████████████████████| 158 kB 42.2 MB/s \n",
      "\u001b[?25hRequirement already satisfied: statsmodels in /usr/local/lib/python3.7/dist-packages (from deephyper) (0.10.2)\n",
      "Collecting dh-scikit-optimize==0.9.4\n",
      "  Downloading dh_scikit_optimize-0.9.4-py2.py3-none-any.whl (102 kB)\n",
      "\u001b[K     |████████████████████████████████| 102 kB 10.5 MB/s \n",
      "\u001b[?25hRequirement already satisfied: tqdm in /usr/local/lib/python3.7/dist-packages (from deephyper) (4.62.3)\n",
      "Collecting ray[default]>=1.3.0\n",
      "  Downloading ray-1.8.0-cp37-cp37m-manylinux2014_x86_64.whl (54.7 MB)\n",
      "\u001b[K     |████████████████████████████████| 54.7 MB 26 kB/s \n",
      "\u001b[?25hRequirement already satisfied: numpy in /usr/local/lib/python3.7/dist-packages (from deephyper) (1.19.5)\n",
      "Requirement already satisfied: joblib>=0.10.3 in /usr/local/lib/python3.7/dist-packages (from deephyper) (1.1.0)\n",
      "Requirement already satisfied: Jinja2 in /usr/local/lib/python3.7/dist-packages (from deephyper) (2.11.3)\n",
      "Requirement already satisfied: scikit-learn>=0.23.1 in /usr/local/lib/python3.7/dist-packages (from deephyper) (1.0.1)\n",
      "Requirement already satisfied: matplotlib>=3.0.3 in /usr/local/lib/python3.7/dist-packages (from deephyper) (3.2.2)\n",
      "Requirement already satisfied: tensorflow>=2.0.0 in /usr/local/lib/python3.7/dist-packages (from deephyper) (2.7.0)\n",
      "Collecting ConfigSpace>=0.4.18\n",
      "  Downloading ConfigSpace-0.4.20-cp37-cp37m-manylinux_2_17_x86_64.manylinux2014_x86_64.whl (4.2 MB)\n",
      "\u001b[K     |████████████████████████████████| 4.2 MB 49.7 MB/s \n",
      "\u001b[?25hRequirement already satisfied: tensorflow-probability in /usr/local/lib/python3.7/dist-packages (from deephyper) (0.14.1)\n",
      "Requirement already satisfied: xgboost in /usr/local/lib/python3.7/dist-packages (from deephyper) (0.90)\n",
      "Requirement already satisfied: scipy>=0.19.1 in /usr/local/lib/python3.7/dist-packages (from dh-scikit-optimize==0.9.4->deephyper) (1.4.1)\n",
      "Collecting pyaml>=16.9\n",
      "  Downloading pyaml-21.10.1-py2.py3-none-any.whl (24 kB)\n",
      "Collecting liac-arff>=2.4.0\n",
      "  Downloading liac-arff-2.5.0.tar.gz (13 kB)\n",
      "Collecting xmltodict\n",
      "  Downloading xmltodict-0.12.0-py2.py3-none-any.whl (9.2 kB)\n",
      "Requirement already satisfied: requests in /usr/local/lib/python3.7/dist-packages (from openml==0.10.2->deephyper) (2.23.0)\n",
      "Requirement already satisfied: python-dateutil in /usr/local/lib/python3.7/dist-packages (from openml==0.10.2->deephyper) (2.8.2)\n",
      "Requirement already satisfied: cython in /usr/local/lib/python3.7/dist-packages (from ConfigSpace>=0.4.18->deephyper) (0.29.24)\n",
      "Requirement already satisfied: pyparsing in /usr/local/lib/python3.7/dist-packages (from ConfigSpace>=0.4.18->deephyper) (2.4.7)\n",
      "Requirement already satisfied: kiwisolver>=1.0.1 in /usr/local/lib/python3.7/dist-packages (from matplotlib>=3.0.3->deephyper) (1.3.2)\n",
      "Requirement already satisfied: cycler>=0.10 in /usr/local/lib/python3.7/dist-packages (from matplotlib>=3.0.3->deephyper) (0.11.0)\n",
      "Requirement already satisfied: pytz>=2017.2 in /usr/local/lib/python3.7/dist-packages (from pandas>=0.24.2->deephyper) (2018.9)\n",
      "Requirement already satisfied: PyYAML in /usr/local/lib/python3.7/dist-packages (from pyaml>=16.9->dh-scikit-optimize==0.9.4->deephyper) (3.13)\n",
      "Requirement already satisfied: six>=1.5 in /usr/local/lib/python3.7/dist-packages (from python-dateutil->openml==0.10.2->deephyper) (1.15.0)\n",
      "Requirement already satisfied: grpcio>=1.28.1 in /usr/local/lib/python3.7/dist-packages (from ray[default]>=1.3.0->deephyper) (1.41.1)\n",
      "Collecting redis>=3.5.0\n",
      "  Downloading redis-4.0.0-py3-none-any.whl (118 kB)\n",
      "\u001b[K     |████████████████████████████████| 118 kB 66.6 MB/s \n",
      "\u001b[?25hRequirement already satisfied: msgpack<2.0.0,>=1.0.0 in /usr/local/lib/python3.7/dist-packages (from ray[default]>=1.3.0->deephyper) (1.0.2)\n",
      "Requirement already satisfied: protobuf>=3.15.3 in /usr/local/lib/python3.7/dist-packages (from ray[default]>=1.3.0->deephyper) (3.17.3)\n",
      "Requirement already satisfied: attrs in /usr/local/lib/python3.7/dist-packages (from ray[default]>=1.3.0->deephyper) (21.2.0)\n",
      "Requirement already satisfied: jsonschema in /usr/local/lib/python3.7/dist-packages (from ray[default]>=1.3.0->deephyper) (2.6.0)\n",
      "Requirement already satisfied: filelock in /usr/local/lib/python3.7/dist-packages (from ray[default]>=1.3.0->deephyper) (3.3.2)\n",
      "Requirement already satisfied: click>=7.0 in /usr/local/lib/python3.7/dist-packages (from ray[default]>=1.3.0->deephyper) (7.1.2)\n",
      "Collecting opencensus\n",
      "  Downloading opencensus-0.8.0-py2.py3-none-any.whl (128 kB)\n",
      "\u001b[K     |████████████████████████████████| 128 kB 62.6 MB/s \n",
      "\u001b[?25hCollecting aiohttp>=3.7\n",
      "  Downloading aiohttp-3.8.1-cp37-cp37m-manylinux_2_5_x86_64.manylinux1_x86_64.manylinux_2_12_x86_64.manylinux2010_x86_64.whl (1.1 MB)\n",
      "\u001b[K     |████████████████████████████████| 1.1 MB 46.2 MB/s \n",
      "\u001b[?25hCollecting gpustat>=1.0.0b1\n",
      "  Downloading gpustat-1.0.0b1.tar.gz (82 kB)\n",
      "\u001b[K     |████████████████████████████████| 82 kB 215 kB/s \n",
      "\u001b[?25hRequirement already satisfied: prometheus-client>=0.7.1 in /usr/local/lib/python3.7/dist-packages (from ray[default]>=1.3.0->deephyper) (0.12.0)\n",
      "Collecting colorful\n",
      "  Downloading colorful-0.5.4-py2.py3-none-any.whl (201 kB)\n",
      "\u001b[K     |████████████████████████████████| 201 kB 55.2 MB/s \n",
      "\u001b[?25hCollecting aiohttp-cors\n",
      "  Downloading aiohttp_cors-0.7.0-py3-none-any.whl (27 kB)\n",
      "Collecting aioredis<2\n",
      "  Downloading aioredis-1.3.1-py3-none-any.whl (65 kB)\n",
      "\u001b[K     |████████████████████████████████| 65 kB 3.4 MB/s \n",
      "\u001b[?25hCollecting py-spy>=0.2.0\n",
      "  Downloading py_spy-0.3.11-py2.py3-none-manylinux_2_5_x86_64.manylinux1_x86_64.whl (3.0 MB)\n",
      "\u001b[K     |████████████████████████████████| 3.0 MB 59.0 MB/s \n",
      "\u001b[?25hCollecting async-timeout<5.0,>=4.0.0a3\n",
      "  Downloading async_timeout-4.0.1-py3-none-any.whl (5.7 kB)\n",
      "Requirement already satisfied: charset-normalizer<3.0,>=2.0 in /usr/local/lib/python3.7/dist-packages (from aiohttp>=3.7->ray[default]>=1.3.0->deephyper) (2.0.7)\n",
      "Requirement already satisfied: typing-extensions>=3.7.4 in /usr/local/lib/python3.7/dist-packages (from aiohttp>=3.7->ray[default]>=1.3.0->deephyper) (3.10.0.2)\n",
      "Collecting frozenlist>=1.1.1\n",
      "  Downloading frozenlist-1.2.0-cp37-cp37m-manylinux_2_5_x86_64.manylinux1_x86_64.manylinux_2_12_x86_64.manylinux2010_x86_64.whl (192 kB)\n",
      "\u001b[K     |████████████████████████████████| 192 kB 45.3 MB/s \n",
      "\u001b[?25hCollecting yarl<2.0,>=1.0\n",
      "  Downloading yarl-1.7.2-cp37-cp37m-manylinux_2_5_x86_64.manylinux1_x86_64.manylinux_2_12_x86_64.manylinux2010_x86_64.whl (271 kB)\n",
      "\u001b[K     |████████████████████████████████| 271 kB 66.4 MB/s \n",
      "\u001b[?25hCollecting multidict<7.0,>=4.5\n",
      "  Downloading multidict-5.2.0-cp37-cp37m-manylinux_2_5_x86_64.manylinux1_x86_64.manylinux_2_12_x86_64.manylinux2010_x86_64.whl (160 kB)\n",
      "\u001b[K     |████████████████████████████████| 160 kB 63.0 MB/s \n",
      "\u001b[?25hCollecting asynctest==0.13.0\n",
      "  Downloading asynctest-0.13.0-py3-none-any.whl (26 kB)\n",
      "Collecting aiosignal>=1.1.2\n",
      "  Downloading aiosignal-1.2.0-py3-none-any.whl (8.2 kB)\n",
      "Collecting hiredis\n",
      "  Downloading hiredis-2.0.0-cp37-cp37m-manylinux2010_x86_64.whl (85 kB)\n",
      "\u001b[K     |████████████████████████████████| 85 kB 3.4 MB/s \n",
      "\u001b[?25hRequirement already satisfied: nvidia-ml-py3>=7.352.0 in /usr/local/lib/python3.7/dist-packages (from gpustat>=1.0.0b1->ray[default]>=1.3.0->deephyper) (7.352.0)\n",
      "Requirement already satisfied: psutil in /usr/local/lib/python3.7/dist-packages (from gpustat>=1.0.0b1->ray[default]>=1.3.0->deephyper) (5.4.8)\n",
      "Collecting blessed>=1.17.1\n",
      "  Downloading blessed-1.19.0-py2.py3-none-any.whl (57 kB)\n",
      "\u001b[K     |████████████████████████████████| 57 kB 5.2 MB/s \n",
      "\u001b[?25hRequirement already satisfied: wcwidth>=0.1.4 in /usr/local/lib/python3.7/dist-packages (from blessed>=1.17.1->gpustat>=1.0.0b1->ray[default]>=1.3.0->deephyper) (0.2.5)\n",
      "Collecting deprecated\n",
      "  Downloading Deprecated-1.2.13-py2.py3-none-any.whl (9.6 kB)\n",
      "Requirement already satisfied: threadpoolctl>=2.0.0 in /usr/local/lib/python3.7/dist-packages (from scikit-learn>=0.23.1->deephyper) (3.0.0)\n",
      "Requirement already satisfied: keras-preprocessing>=1.1.1 in /usr/local/lib/python3.7/dist-packages (from tensorflow>=2.0.0->deephyper) (1.1.2)\n",
      "Requirement already satisfied: libclang>=9.0.1 in /usr/local/lib/python3.7/dist-packages (from tensorflow>=2.0.0->deephyper) (12.0.0)\n",
      "Requirement already satisfied: google-pasta>=0.1.1 in /usr/local/lib/python3.7/dist-packages (from tensorflow>=2.0.0->deephyper) (0.2.0)\n",
      "Requirement already satisfied: tensorflow-io-gcs-filesystem>=0.21.0 in /usr/local/lib/python3.7/dist-packages (from tensorflow>=2.0.0->deephyper) (0.22.0)\n",
      "Requirement already satisfied: keras<2.8,>=2.7.0rc0 in /usr/local/lib/python3.7/dist-packages (from tensorflow>=2.0.0->deephyper) (2.7.0)\n",
      "Requirement already satisfied: tensorboard~=2.6 in /usr/local/lib/python3.7/dist-packages (from tensorflow>=2.0.0->deephyper) (2.7.0)\n",
      "Requirement already satisfied: flatbuffers<3.0,>=1.12 in /usr/local/lib/python3.7/dist-packages (from tensorflow>=2.0.0->deephyper) (2.0)\n",
      "Requirement already satisfied: tensorflow-estimator<2.8,~=2.7.0rc0 in /usr/local/lib/python3.7/dist-packages (from tensorflow>=2.0.0->deephyper) (2.7.0)\n",
      "Requirement already satisfied: h5py>=2.9.0 in /usr/local/lib/python3.7/dist-packages (from tensorflow>=2.0.0->deephyper) (3.1.0)\n",
      "Requirement already satisfied: wheel<1.0,>=0.32.0 in /usr/local/lib/python3.7/dist-packages (from tensorflow>=2.0.0->deephyper) (0.37.0)\n",
      "Requirement already satisfied: opt-einsum>=2.3.2 in /usr/local/lib/python3.7/dist-packages (from tensorflow>=2.0.0->deephyper) (3.3.0)\n",
      "Requirement already satisfied: gast<0.5.0,>=0.2.1 in /usr/local/lib/python3.7/dist-packages (from tensorflow>=2.0.0->deephyper) (0.4.0)\n",
      "Requirement already satisfied: astunparse>=1.6.0 in /usr/local/lib/python3.7/dist-packages (from tensorflow>=2.0.0->deephyper) (1.6.3)\n",
      "Requirement already satisfied: absl-py>=0.4.0 in /usr/local/lib/python3.7/dist-packages (from tensorflow>=2.0.0->deephyper) (0.12.0)\n",
      "Requirement already satisfied: wrapt>=1.11.0 in /usr/local/lib/python3.7/dist-packages (from tensorflow>=2.0.0->deephyper) (1.13.3)\n",
      "Requirement already satisfied: termcolor>=1.1.0 in /usr/local/lib/python3.7/dist-packages (from tensorflow>=2.0.0->deephyper) (1.1.0)\n",
      "Requirement already satisfied: cached-property in /usr/local/lib/python3.7/dist-packages (from h5py>=2.9.0->tensorflow>=2.0.0->deephyper) (1.5.2)\n",
      "Requirement already satisfied: tensorboard-plugin-wit>=1.6.0 in /usr/local/lib/python3.7/dist-packages (from tensorboard~=2.6->tensorflow>=2.0.0->deephyper) (1.8.0)\n",
      "Requirement already satisfied: markdown>=2.6.8 in /usr/local/lib/python3.7/dist-packages (from tensorboard~=2.6->tensorflow>=2.0.0->deephyper) (3.3.4)\n",
      "Requirement already satisfied: setuptools>=41.0.0 in /usr/local/lib/python3.7/dist-packages (from tensorboard~=2.6->tensorflow>=2.0.0->deephyper) (57.4.0)\n",
      "Requirement already satisfied: google-auth<3,>=1.6.3 in /usr/local/lib/python3.7/dist-packages (from tensorboard~=2.6->tensorflow>=2.0.0->deephyper) (1.35.0)\n",
      "Requirement already satisfied: tensorboard-data-server<0.7.0,>=0.6.0 in /usr/local/lib/python3.7/dist-packages (from tensorboard~=2.6->tensorflow>=2.0.0->deephyper) (0.6.1)\n",
      "Requirement already satisfied: werkzeug>=0.11.15 in /usr/local/lib/python3.7/dist-packages (from tensorboard~=2.6->tensorflow>=2.0.0->deephyper) (1.0.1)\n",
      "Requirement already satisfied: google-auth-oauthlib<0.5,>=0.4.1 in /usr/local/lib/python3.7/dist-packages (from tensorboard~=2.6->tensorflow>=2.0.0->deephyper) (0.4.6)\n",
      "Requirement already satisfied: rsa<5,>=3.1.4 in /usr/local/lib/python3.7/dist-packages (from google-auth<3,>=1.6.3->tensorboard~=2.6->tensorflow>=2.0.0->deephyper) (4.7.2)\n",
      "Requirement already satisfied: cachetools<5.0,>=2.0.0 in /usr/local/lib/python3.7/dist-packages (from google-auth<3,>=1.6.3->tensorboard~=2.6->tensorflow>=2.0.0->deephyper) (4.2.4)\n",
      "Requirement already satisfied: pyasn1-modules>=0.2.1 in /usr/local/lib/python3.7/dist-packages (from google-auth<3,>=1.6.3->tensorboard~=2.6->tensorflow>=2.0.0->deephyper) (0.2.8)\n",
      "Requirement already satisfied: requests-oauthlib>=0.7.0 in /usr/local/lib/python3.7/dist-packages (from google-auth-oauthlib<0.5,>=0.4.1->tensorboard~=2.6->tensorflow>=2.0.0->deephyper) (1.3.0)\n",
      "Requirement already satisfied: importlib-metadata in /usr/local/lib/python3.7/dist-packages (from markdown>=2.6.8->tensorboard~=2.6->tensorflow>=2.0.0->deephyper) (4.8.2)\n",
      "Requirement already satisfied: pyasn1<0.5.0,>=0.4.6 in /usr/local/lib/python3.7/dist-packages (from pyasn1-modules>=0.2.1->google-auth<3,>=1.6.3->tensorboard~=2.6->tensorflow>=2.0.0->deephyper) (0.4.8)\n",
      "Requirement already satisfied: urllib3!=1.25.0,!=1.25.1,<1.26,>=1.21.1 in /usr/local/lib/python3.7/dist-packages (from requests->openml==0.10.2->deephyper) (1.24.3)\n",
      "Requirement already satisfied: certifi>=2017.4.17 in /usr/local/lib/python3.7/dist-packages (from requests->openml==0.10.2->deephyper) (2021.10.8)\n",
      "Requirement already satisfied: idna<3,>=2.5 in /usr/local/lib/python3.7/dist-packages (from requests->openml==0.10.2->deephyper) (2.10)\n",
      "Requirement already satisfied: chardet<4,>=3.0.2 in /usr/local/lib/python3.7/dist-packages (from requests->openml==0.10.2->deephyper) (3.0.4)\n",
      "Requirement already satisfied: oauthlib>=3.0.0 in /usr/local/lib/python3.7/dist-packages (from requests-oauthlib>=0.7.0->google-auth-oauthlib<0.5,>=0.4.1->tensorboard~=2.6->tensorflow>=2.0.0->deephyper) (3.1.1)\n",
      "Requirement already satisfied: zipp>=0.5 in /usr/local/lib/python3.7/dist-packages (from importlib-metadata->markdown>=2.6.8->tensorboard~=2.6->tensorflow>=2.0.0->deephyper) (3.6.0)\n",
      "Requirement already satisfied: MarkupSafe>=0.23 in /usr/local/lib/python3.7/dist-packages (from Jinja2->deephyper) (2.0.1)\n",
      "Collecting opencensus-context==0.1.2\n",
      "  Downloading opencensus_context-0.1.2-py2.py3-none-any.whl (4.4 kB)\n",
      "Requirement already satisfied: google-api-core<3.0.0,>=1.0.0 in /usr/local/lib/python3.7/dist-packages (from opencensus->ray[default]>=1.3.0->deephyper) (1.26.3)\n",
      "Requirement already satisfied: packaging>=14.3 in /usr/local/lib/python3.7/dist-packages (from google-api-core<3.0.0,>=1.0.0->opencensus->ray[default]>=1.3.0->deephyper) (21.2)\n",
      "Requirement already satisfied: googleapis-common-protos<2.0dev,>=1.6.0 in /usr/local/lib/python3.7/dist-packages (from google-api-core<3.0.0,>=1.0.0->opencensus->ray[default]>=1.3.0->deephyper) (1.53.0)\n",
      "Requirement already satisfied: patsy>=0.4.0 in /usr/local/lib/python3.7/dist-packages (from statsmodels->deephyper) (0.5.2)\n",
      "Requirement already satisfied: cloudpickle>=1.3 in /usr/local/lib/python3.7/dist-packages (from tensorflow-probability->deephyper) (1.3.0)\n",
      "Requirement already satisfied: dm-tree in /usr/local/lib/python3.7/dist-packages (from tensorflow-probability->deephyper) (0.1.6)\n",
      "Requirement already satisfied: decorator in /usr/local/lib/python3.7/dist-packages (from tensorflow-probability->deephyper) (4.4.2)\n",
      "Building wheels for collected packages: openml, liac-arff, gpustat\n",
      "  Building wheel for openml (setup.py) ... \u001b[?25l\u001b[?25hdone\n",
      "  Created wheel for openml: filename=openml-0.10.2-py3-none-any.whl size=190318 sha256=6985f53d704e157f7c05a7ec1c98b7c65fe0982b15c99d162abed0823233d3d0\n",
      "  Stored in directory: /root/.cache/pip/wheels/9c/9e/f3/6a5ebf16527d7fe22d9bc1652bc9beb5dc9fcfdeb75e805400\n",
      "  Building wheel for liac-arff (setup.py) ... \u001b[?25l\u001b[?25hdone\n",
      "  Created wheel for liac-arff: filename=liac_arff-2.5.0-py3-none-any.whl size=11731 sha256=5e23e06296998edfab256b372aaa4c035fb1ece982c6e339accb0a190947d8b8\n",
      "  Stored in directory: /root/.cache/pip/wheels/1f/0f/15/332ca86cbebf25ddf98518caaf887945fbe1712b97a0f2493b\n",
      "  Building wheel for gpustat (setup.py) ... \u001b[?25l\u001b[?25hdone\n",
      "  Created wheel for gpustat: filename=gpustat-1.0.0b1-py3-none-any.whl size=15979 sha256=c62f08af2268980732240c1225196924a2ac59b3199eae3c8e4974be96b21896\n",
      "  Stored in directory: /root/.cache/pip/wheels/1a/16/e2/3e2437fba4c4b6a97a97bd96fce5d14e66cff5c4966fb1cc8c\n",
      "Successfully built openml liac-arff gpustat\n",
      "Installing collected packages: multidict, frozenlist, yarl, deprecated, asynctest, async-timeout, aiosignal, redis, opencensus-context, hiredis, blessed, aiohttp, xmltodict, ray, pyaml, py-spy, opencensus, liac-arff, gpustat, colorful, aioredis, aiohttp-cors, openml, dh-scikit-optimize, ConfigSpace, deephyper\n",
      "Successfully installed ConfigSpace-0.4.20 aiohttp-3.8.1 aiohttp-cors-0.7.0 aioredis-1.3.1 aiosignal-1.2.0 async-timeout-4.0.1 asynctest-0.13.0 blessed-1.19.0 colorful-0.5.4 deephyper-0.3.3 deprecated-1.2.13 dh-scikit-optimize-0.9.4 frozenlist-1.2.0 gpustat-1.0.0b1 hiredis-2.0.0 liac-arff-2.5.0 multidict-5.2.0 opencensus-0.8.0 opencensus-context-0.1.2 openml-0.10.2 py-spy-0.3.11 pyaml-21.10.1 ray-1.8.0 redis-4.0.0 xmltodict-0.12.0 yarl-1.7.2\n"
     ]
    }
   ],
   "source": [
    "!pip install deephyper\n",
    "!pip install ray"
   ]
  },
  {
   "cell_type": "markdown",
   "id": "38664b59",
   "metadata": {
    "id": "38664b59"
   },
   "source": [
    "<div class=\"alert alert-info\">\n",
    "    \n",
    "<b>Note</b>\n",
    "    \n",
    "The following environment variables can be used to avoid the logging of **some** Tensorflow *DEBUG*, *INFO* and *WARNING* statements.\n",
    "    \n",
    "</div>"
   ]
  },
  {
   "cell_type": "code",
   "execution_count": 1,
   "id": "320e7d27",
   "metadata": {
    "ExecuteTime": {
     "end_time": "2021-10-06T14:08:03.492690Z",
     "start_time": "2021-10-06T14:08:03.490841Z"
    },
    "execution": {
     "iopub.execute_input": "2021-10-05T13:19:52.492998Z",
     "iopub.status.busy": "2021-10-05T13:19:52.492700Z",
     "iopub.status.idle": "2021-10-05T13:19:52.496874Z",
     "shell.execute_reply": "2021-10-05T13:19:52.496162Z",
     "shell.execute_reply.started": "2021-10-05T13:19:52.492970Z"
    },
    "id": "320e7d27"
   },
   "outputs": [],
   "source": [
    "import os\n",
    "\n",
    "\n",
    "os.environ[\"TF_CPP_MIN_LOG_LEVEL\"] = str(3)\n",
    "os.environ[\"AUTOGRAPH_VERBOSITY\"] = str(0)"
   ]
  },
  {
   "cell_type": "markdown",
   "id": "22386d68",
   "metadata": {
    "id": "22386d68"
   },
   "source": [
    "## Imports\n",
    "\n",
    "<div class=\"alert alert-warning\">\n",
    "    \n",
    "<b>Warning</b> \n",
    "\n",
    "It is important to follow the import strategy `import tensorflow as tf` to prevent serialization errors that will crash the search.\n",
    "    \n",
    "</div>\n",
    "\n",
    "The import strategy from the original Keras tutorial (shown below),\n",
    "\n",
    "```python\n",
    "from tensorflow import keras\n",
    "from tensorflow.keras import layers\n",
    "...\n",
    "from tensorflow.keras.layers import IntegerLookup\n",
    "from tensorflow.keras.layers import Normalization\n",
    "from tensorflow.keras.layers import StringLookup\n",
    "```\n",
    "    \n",
    "resulted in non-serializable data, preventing the search from executing."
   ]
  },
  {
   "cell_type": "code",
   "execution_count": 2,
   "id": "f3a37b1d",
   "metadata": {
    "ExecuteTime": {
     "end_time": "2021-10-06T14:08:06.961251Z",
     "start_time": "2021-10-06T14:08:04.788328Z"
    },
    "execution": {
     "iopub.execute_input": "2021-10-05T13:19:55.476248Z",
     "iopub.status.busy": "2021-10-05T13:19:55.475972Z",
     "iopub.status.idle": "2021-10-05T13:19:59.977776Z",
     "shell.execute_reply": "2021-10-05T13:19:59.976946Z",
     "shell.execute_reply.started": "2021-10-05T13:19:55.476222Z"
    },
    "id": "f3a37b1d"
   },
   "outputs": [],
   "source": [
    "import pandas as pd\n",
    "import tensorflow as tf"
   ]
  },
  {
   "cell_type": "markdown",
   "id": "e9061925",
   "metadata": {
    "id": "e9061925"
   },
   "source": [
    "<div class=\"alert alert-info\">\n",
    "    \n",
    "<b>Note</b>\n",
    "    \n",
    "The following can be used to detect if <b>GPU</b> devices are available on the current host. Therefore, this notebook will automatically adapt the parallel execution based on the resources available locally. However, this simple code will not detect the ressources from multiple nodes.\n",
    "    \n",
    "</div>"
   ]
  },
  {
   "cell_type": "code",
   "execution_count": 3,
   "id": "da5e0602",
   "metadata": {
    "ExecuteTime": {
     "end_time": "2021-10-06T14:08:15.285962Z",
     "start_time": "2021-10-06T14:08:11.659531Z"
    },
    "colab": {
     "base_uri": "https://localhost:8080/"
    },
    "execution": {
     "iopub.execute_input": "2021-10-05T13:20:04.352206Z",
     "iopub.status.busy": "2021-10-05T13:20:04.351647Z",
     "iopub.status.idle": "2021-10-05T13:20:04.633707Z",
     "shell.execute_reply": "2021-10-05T13:20:04.632997Z",
     "shell.execute_reply.started": "2021-10-05T13:20:04.352152Z"
    },
    "id": "da5e0602",
    "outputId": "41f0e3bf-b2c9-4d0e-9db5-52be81ac6427"
   },
   "outputs": [
    {
     "name": "stdout",
     "output_type": "stream",
     "text": [
      "No GPU available\n"
     ]
    }
   ],
   "source": [
    "from tensorflow.python.client import device_lib\n",
    "\n",
    "\n",
    "def get_available_gpus():\n",
    "    local_device_protos = device_lib.list_local_devices()\n",
    "    return [x.name for x in local_device_protos if x.device_type == \"GPU\"]\n",
    "\n",
    "\n",
    "n_gpus = len(get_available_gpus())\n",
    "if n_gpus > 1:\n",
    "    n_gpus -= 1\n",
    "    \n",
    "is_gpu_available = n_gpus > 0\n",
    "\n",
    "if is_gpu_available:\n",
    "    print(f\"{n_gpus} GPU{'s are' if n_gpus > 1 else ' is'} available.\")\n",
    "else:\n",
    "    print(\"No GPU available\")"
   ]
  },
  {
   "cell_type": "markdown",
   "id": "c702c644",
   "metadata": {
    "id": "c702c644"
   },
   "source": [
    "## The dataset (from Keras.io)\n",
    "\n",
    "The [dataset](https://archive.ics.uci.edu/ml/datasets/heart+Disease) is provided by the\n",
    "Cleveland Clinic Foundation for Heart Disease.\n",
    "It's a CSV file with 303 rows. Each row contains information about a patient (a\n",
    "**sample**), and each column describes an attribute of the patient (a **feature**). We\n",
    "use the features to predict whether a patient has a heart disease (**binary\n",
    "classification**).\n",
    "\n",
    "Here's the description of each feature:\n",
    "\n",
    "Column| Description| Feature Type\n",
    "------------|--------------------|----------------------\n",
    "Age | Age in years | Numerical\n",
    "Sex | (1 = male; 0 = female) | Categorical\n",
    "CP | Chest pain type (0, 1, 2, 3, 4) | Categorical\n",
    "Trestbpd | Resting blood pressure (in mm Hg on admission) | Numerical\n",
    "Chol | Serum cholesterol in mg/dl | Numerical\n",
    "FBS | fasting blood sugar in 120 mg/dl (1 = true; 0 = false) | Categorical\n",
    "RestECG | Resting electrocardiogram results (0, 1, 2) | Categorical\n",
    "Thalach | Maximum heart rate achieved | Numerical\n",
    "Exang | Exercise induced angina (1 = yes; 0 = no) | Categorical\n",
    "Oldpeak | ST depression induced by exercise relative to rest | Numerical\n",
    "Slope | Slope of the peak exercise ST segment | Numerical\n",
    "CA | Number of major vessels (0-3) colored by fluoroscopy | Both numerical & categorical\n",
    "Thal | 3 = normal; 6 = fixed defect; 7 = reversible defect | Categorical\n",
    "Target | Diagnosis of heart disease (1 = true; 0 = false) | Target"
   ]
  },
  {
   "cell_type": "code",
   "execution_count": 4,
   "id": "9499cd94",
   "metadata": {
    "ExecuteTime": {
     "end_time": "2021-10-06T14:08:19.106131Z",
     "start_time": "2021-10-06T14:08:19.102761Z"
    },
    "execution": {
     "iopub.execute_input": "2021-10-05T13:20:09.216293Z",
     "iopub.status.busy": "2021-10-05T13:20:09.215939Z",
     "iopub.status.idle": "2021-10-05T13:20:09.222811Z",
     "shell.execute_reply": "2021-10-05T13:20:09.222055Z",
     "shell.execute_reply.started": "2021-10-05T13:20:09.216257Z"
    },
    "id": "9499cd94"
   },
   "outputs": [],
   "source": [
    "def load_data():\n",
    "    file_url = \"http://storage.googleapis.com/download.tensorflow.org/data/heart.csv\"\n",
    "    dataframe = pd.read_csv(file_url)\n",
    "\n",
    "    val_dataframe = dataframe.sample(frac=0.2, random_state=1337)\n",
    "    train_dataframe = dataframe.drop(val_dataframe.index)\n",
    "\n",
    "    return train_dataframe, val_dataframe\n",
    "\n",
    "\n",
    "def dataframe_to_dataset(dataframe):\n",
    "    dataframe = dataframe.copy()\n",
    "    labels = dataframe.pop(\"target\")\n",
    "    ds = tf.data.Dataset.from_tensor_slices((dict(dataframe), labels))\n",
    "    ds = ds.shuffle(buffer_size=len(dataframe))\n",
    "    return ds"
   ]
  },
  {
   "cell_type": "markdown",
   "id": "6ceb5938",
   "metadata": {
    "id": "6ceb5938"
   },
   "source": [
    "## Preprocessing & encoding of features\n",
    "\n",
    "The next cells use `tf.keras.layers.Normalization()` to apply standard scaling on the features.\n",
    "\n",
    "Then, the `tf.keras.layers.StringLookup` and `tf.keras.layers.IntegerLookup` are used to encode categorical variables."
   ]
  },
  {
   "cell_type": "code",
   "execution_count": 5,
   "id": "996814d7",
   "metadata": {
    "ExecuteTime": {
     "end_time": "2021-10-06T14:08:22.308775Z",
     "start_time": "2021-10-06T14:08:22.304430Z"
    },
    "execution": {
     "iopub.execute_input": "2021-10-05T13:20:10.938147Z",
     "iopub.status.busy": "2021-10-05T13:20:10.937624Z",
     "iopub.status.idle": "2021-10-05T13:20:10.950587Z",
     "shell.execute_reply": "2021-10-05T13:20:10.949641Z",
     "shell.execute_reply.started": "2021-10-05T13:20:10.938088Z"
    },
    "id": "996814d7"
   },
   "outputs": [],
   "source": [
    "def encode_numerical_feature(feature, name, dataset):\n",
    "    # Create a Normalization layer for our feature\n",
    "    normalizer = tf.keras.layers.Normalization()\n",
    "\n",
    "    # Prepare a Dataset that only yields our feature\n",
    "    feature_ds = dataset.map(lambda x, y: x[name])\n",
    "    feature_ds = feature_ds.map(lambda x: tf.expand_dims(x, -1))\n",
    "\n",
    "    # Learn the statistics of the data\n",
    "    normalizer.adapt(feature_ds)\n",
    "\n",
    "    # Normalize the input feature\n",
    "    encoded_feature = normalizer(feature)\n",
    "    return encoded_feature\n",
    "\n",
    "\n",
    "def encode_categorical_feature(feature, name, dataset, is_string):\n",
    "    lookup_class = (\n",
    "        tf.keras.layers.StringLookup if is_string else tf.keras.layers.IntegerLookup\n",
    "    )\n",
    "    # Create a lookup layer which will turn strings into integer indices\n",
    "    lookup = lookup_class(output_mode=\"binary\")\n",
    "\n",
    "    # Prepare a Dataset that only yields our feature\n",
    "    feature_ds = dataset.map(lambda x, y: x[name])\n",
    "    feature_ds = feature_ds.map(lambda x: tf.expand_dims(x, -1))\n",
    "\n",
    "    # Learn the set of possible string values and assign them a fixed integer index\n",
    "    lookup.adapt(feature_ds)\n",
    "\n",
    "    # Turn the string input into integer indices\n",
    "    encoded_feature = lookup(feature)\n",
    "    return encoded_feature"
   ]
  },
  {
   "cell_type": "markdown",
   "id": "c8743319",
   "metadata": {
    "id": "c8743319"
   },
   "source": [
    "## Define the run-function\n",
    "\n",
    "The run-function defines how the objective that we want to maximize is computed. It takes a `config` dictionary as input and often returns a scalar value that we want to maximize. The `config` contains a sample value of hyperparameters that we want to tune. In this example we will search for:\n",
    "\n",
    "* `units` (default value: `32`)\n",
    "* `activation` (default value: `\"relu\"`)\n",
    "* `dropout_rate` (default value: `0.5`)\n",
    "* `num_epochs` (default value: `50`)\n",
    "* `batch_size` (default value: `32`)\n",
    "* `learning_rate` (default value: `1e-3`)\n",
    "\n",
    "A hyperparameter value can be acessed easily in the dictionary through the corresponding key, for example `config[\"units\"]`."
   ]
  },
  {
   "cell_type": "code",
   "execution_count": 6,
   "id": "2f99f031",
   "metadata": {
    "ExecuteTime": {
     "end_time": "2021-10-06T14:08:25.815920Z",
     "start_time": "2021-10-06T14:08:25.802830Z"
    },
    "execution": {
     "iopub.execute_input": "2021-10-05T13:20:14.252344Z",
     "iopub.status.busy": "2021-10-05T13:20:14.251894Z",
     "iopub.status.idle": "2021-10-05T13:20:14.269736Z",
     "shell.execute_reply": "2021-10-05T13:20:14.269026Z",
     "shell.execute_reply.started": "2021-10-05T13:20:14.252307Z"
    },
    "id": "2f99f031"
   },
   "outputs": [],
   "source": [
    "def run(config: dict):\n",
    "    tf.autograph.set_verbosity(0)\n",
    "    # Load data and split into validation set\n",
    "    train_dataframe, val_dataframe = load_data()\n",
    "    train_ds = dataframe_to_dataset(train_dataframe)\n",
    "    val_ds = dataframe_to_dataset(val_dataframe)\n",
    "    train_ds = train_ds.batch(config[\"batch_size\"])\n",
    "    val_ds = val_ds.batch(config[\"batch_size\"])\n",
    "\n",
    "    # Categorical features encoded as integers\n",
    "    sex = tf.keras.Input(shape=(1,), name=\"sex\", dtype=\"int64\")\n",
    "    cp = tf.keras.Input(shape=(1,), name=\"cp\", dtype=\"int64\")\n",
    "    fbs = tf.keras.Input(shape=(1,), name=\"fbs\", dtype=\"int64\")\n",
    "    restecg = tf.keras.Input(shape=(1,), name=\"restecg\", dtype=\"int64\")\n",
    "    exang = tf.keras.Input(shape=(1,), name=\"exang\", dtype=\"int64\")\n",
    "    ca = tf.keras.Input(shape=(1,), name=\"ca\", dtype=\"int64\")\n",
    "\n",
    "    # Categorical feature encoded as string\n",
    "    thal = tf.keras.Input(shape=(1,), name=\"thal\", dtype=\"string\")\n",
    "\n",
    "    # Numerical features\n",
    "    age = tf.keras.Input(shape=(1,), name=\"age\")\n",
    "    trestbps = tf.keras.Input(shape=(1,), name=\"trestbps\")\n",
    "    chol = tf.keras.Input(shape=(1,), name=\"chol\")\n",
    "    thalach = tf.keras.Input(shape=(1,), name=\"thalach\")\n",
    "    oldpeak = tf.keras.Input(shape=(1,), name=\"oldpeak\")\n",
    "    slope = tf.keras.Input(shape=(1,), name=\"slope\")\n",
    "\n",
    "    all_inputs = [\n",
    "        sex,\n",
    "        cp,\n",
    "        fbs,\n",
    "        restecg,\n",
    "        exang,\n",
    "        ca,\n",
    "        thal,\n",
    "        age,\n",
    "        trestbps,\n",
    "        chol,\n",
    "        thalach,\n",
    "        oldpeak,\n",
    "        slope,\n",
    "    ]\n",
    "\n",
    "    # Integer categorical features\n",
    "    sex_encoded = encode_categorical_feature(sex, \"sex\", train_ds, False)\n",
    "    cp_encoded = encode_categorical_feature(cp, \"cp\", train_ds, False)\n",
    "    fbs_encoded = encode_categorical_feature(fbs, \"fbs\", train_ds, False)\n",
    "    restecg_encoded = encode_categorical_feature(restecg, \"restecg\", train_ds, False)\n",
    "    exang_encoded = encode_categorical_feature(exang, \"exang\", train_ds, False)\n",
    "    ca_encoded = encode_categorical_feature(ca, \"ca\", train_ds, False)\n",
    "\n",
    "    # String categorical features\n",
    "    thal_encoded = encode_categorical_feature(thal, \"thal\", train_ds, True)\n",
    "\n",
    "    # Numerical features\n",
    "    age_encoded = encode_numerical_feature(age, \"age\", train_ds)\n",
    "    trestbps_encoded = encode_numerical_feature(trestbps, \"trestbps\", train_ds)\n",
    "    chol_encoded = encode_numerical_feature(chol, \"chol\", train_ds)\n",
    "    thalach_encoded = encode_numerical_feature(thalach, \"thalach\", train_ds)\n",
    "    oldpeak_encoded = encode_numerical_feature(oldpeak, \"oldpeak\", train_ds)\n",
    "    slope_encoded = encode_numerical_feature(slope, \"slope\", train_ds)\n",
    "\n",
    "    all_features = tf.keras.layers.concatenate(\n",
    "        [\n",
    "            sex_encoded,\n",
    "            cp_encoded,\n",
    "            fbs_encoded,\n",
    "            restecg_encoded,\n",
    "            exang_encoded,\n",
    "            slope_encoded,\n",
    "            ca_encoded,\n",
    "            thal_encoded,\n",
    "            age_encoded,\n",
    "            trestbps_encoded,\n",
    "            chol_encoded,\n",
    "            thalach_encoded,\n",
    "            oldpeak_encoded,\n",
    "        ]\n",
    "    )\n",
    "    x = tf.keras.layers.Dense(config[\"units\"], activation=config[\"activation\"])(\n",
    "        all_features\n",
    "    )\n",
    "    x = tf.keras.layers.Dropout(config[\"dropout_rate\"])(x)\n",
    "    output = tf.keras.layers.Dense(1, activation=\"sigmoid\")(x)\n",
    "    model = tf.keras.Model(all_inputs, output)\n",
    "\n",
    "    optimizer = tf.keras.optimizers.Adam(learning_rate=config[\"learning_rate\"])\n",
    "    model.compile(optimizer, \"binary_crossentropy\", metrics=[\"accuracy\"])\n",
    "\n",
    "    history = model.fit(\n",
    "        train_ds, epochs=config[\"num_epochs\"], validation_data=val_ds, verbose=0\n",
    "    )\n",
    "\n",
    "    return history.history[\"val_accuracy\"][-1]"
   ]
  },
  {
   "cell_type": "markdown",
   "id": "ea800ab1",
   "metadata": {
    "id": "ea800ab1"
   },
   "source": [
    "<div class=\"alert alert-info\"> \n",
    "<b>Note</b>  \n",
    "<br>\n",
    "\n",
    "The objective maximised by DeepHyper is the scalar value returned by the `run`-function.\n",
    "    \n",
    "</div>\n",
    "\n",
    "In this tutorial it corresponds to the validation accuracy of the last epoch of training which we retrieve in the `History` object returned by the `model.fit(...)` call.\n",
    "    \n",
    "```python\n",
    "...\n",
    "history = model.fit(\n",
    "    train_ds, epochs=config[\"num_epochs\"], validation_data=val_ds, verbose=0\n",
    ") \n",
    "return history.history[\"val_accuracy\"][-1]\n",
    "...\n",
    "``` \n",
    "    \n",
    "Using an objective like `max(history.history['val_accuracy'])` can have undesired side effects.\n",
    "\n",
    "For example, it is possible that the training curves will overshoot a local maximum, resulting in a model without the capacity to flexibly adapt to new data in the future."
   ]
  },
  {
   "cell_type": "markdown",
   "id": "3ca589b5",
   "metadata": {
    "id": "3ca589b5"
   },
   "source": [
    "## Define the Hyperparameter optimization problem\n",
    "\n",
    "Hyperparameter ranges are defined using the following syntax:\n",
    "\n",
    "* Discrete integer ranges are generated from a tuple `(lower: int, upper: int)`\n",
    "* Continuous prarameters are generated from a tuple `(lower: float, upper: float)`\n",
    "* Categorical or nonordinal hyperparameter ranges can be given as a list of possible values `[val1, val2, ...]`\n"
   ]
  },
  {
   "cell_type": "code",
   "execution_count": 7,
   "id": "5813bb59",
   "metadata": {
    "ExecuteTime": {
     "end_time": "2021-10-06T14:08:50.985064Z",
     "start_time": "2021-10-06T14:08:49.770713Z"
    },
    "colab": {
     "base_uri": "https://localhost:8080/"
    },
    "execution": {
     "iopub.execute_input": "2021-10-05T13:20:33.102492Z",
     "iopub.status.busy": "2021-10-05T13:20:33.102220Z",
     "iopub.status.idle": "2021-10-05T13:20:33.802294Z",
     "shell.execute_reply": "2021-10-05T13:20:33.801558Z",
     "shell.execute_reply.started": "2021-10-05T13:20:33.102451Z"
    },
    "id": "5813bb59",
    "outputId": "5c6260b7-2b23-4cda-a0b2-e6db07aa6177"
   },
   "outputs": [
    {
     "data": {
      "text/plain": [
       "Configuration space object:\n",
       "  Hyperparameters:\n",
       "    activation, Type: Categorical, Choices: {elu, gelu, hard_sigmoid, linear, relu, selu, sigmoid, softplus, softsign, swish, tanh}, Default: relu\n",
       "    batch_size, Type: UniformInteger, Range: [8, 256], Default: 32, on log-scale\n",
       "    dropout_rate, Type: UniformFloat, Range: [0.0, 0.6], Default: 0.5\n",
       "    learning_rate, Type: UniformFloat, Range: [1e-05, 0.01], Default: 0.001, on log-scale\n",
       "    num_epochs, Type: UniformInteger, Range: [10, 100], Default: 50\n",
       "    units, Type: UniformInteger, Range: [8, 128], Default: 32"
      ]
     },
     "execution_count": 7,
     "metadata": {},
     "output_type": "execute_result"
    }
   ],
   "source": [
    "from deephyper.problem import HpProblem\n",
    "\n",
    "\n",
    "# Creation of an hyperparameter problem\n",
    "problem = HpProblem()\n",
    "\n",
    "# Discrete hyperparameter (sampled with uniform prior)\n",
    "problem.add_hyperparameter((8, 128), \"units\", default_value=32)\n",
    "problem.add_hyperparameter((10, 100), \"num_epochs\", default_value=50)\n",
    "\n",
    "\n",
    "# Categorical hyperparameter (sampled with uniform prior)\n",
    "ACTIVATIONS = [\n",
    "    \"elu\", \"gelu\", \"hard_sigmoid\", \"linear\", \"relu\", \"selu\",\n",
    "    \"sigmoid\", \"softplus\", \"softsign\", \"swish\", \"tanh\",\n",
    "]\n",
    "problem.add_hyperparameter(ACTIVATIONS, \"activation\", default_value=\"relu\")\n",
    "\n",
    "\n",
    "# Real hyperparameter (sampled with uniform prior)\n",
    "problem.add_hyperparameter((0.0, 0.6), \"dropout_rate\", default_value=0.5)\n",
    "\n",
    "\n",
    "# Discrete and Real hyperparameters (sampled with log-uniform)\n",
    "problem.add_hyperparameter((8, 256, \"log-uniform\"), \"batch_size\", default_value=32)\n",
    "problem.add_hyperparameter((1e-5, 1e-2, \"log-uniform\"), \"learning_rate\", default_value=1e-3)\n",
    "\n",
    "problem"
   ]
  },
  {
   "cell_type": "markdown",
   "id": "9f1719e4",
   "metadata": {
    "id": "9f1719e4"
   },
   "source": [
    "## Evaluate a default configuration\n",
    "\n",
    "We evaluate the performance of the default set of hyperparameters provided in the Keras tutorial."
   ]
  },
  {
   "cell_type": "code",
   "execution_count": 8,
   "id": "5ab7ab0c",
   "metadata": {
    "ExecuteTime": {
     "end_time": "2021-10-06T14:08:49.765740Z",
     "start_time": "2021-10-06T14:08:29.330155Z"
    },
    "colab": {
     "base_uri": "https://localhost:8080/"
    },
    "execution": {
     "iopub.execute_input": "2021-10-05T13:20:17.560431Z",
     "iopub.status.busy": "2021-10-05T13:20:17.560135Z",
     "iopub.status.idle": "2021-10-05T13:20:33.100905Z",
     "shell.execute_reply": "2021-10-05T13:20:33.100179Z",
     "shell.execute_reply.started": "2021-10-05T13:20:17.560401Z"
    },
    "id": "5ab7ab0c",
    "outputId": "52c639e6-33bd-43bb-8aea-6d1ba1036f60",
    "scrolled": true
   },
   "outputs": [
    {
     "name": "stdout",
     "output_type": "stream",
     "text": [
      "Accuracy Default Configuration:  0.820\n"
     ]
    }
   ],
   "source": [
    "import ray\n",
    "\n",
    "\n",
    "# We launch the Ray run-time depending of the detected local ressources\n",
    "# and execute the `run` function with the default configuration\n",
    "# WARNING: in the case of GPUs it is important to follow this scheme\n",
    "# to avoid multiple processes (Ray workers vs current process) to lock\n",
    "# the same GPU.\n",
    "if is_gpu_available:\n",
    "    if not(ray.is_initialized()):\n",
    "        ray.init(num_cpus=n_gpus, num_gpus=n_gpus, log_to_driver=False)\n",
    "    \n",
    "    run_default = ray.remote(num_cpus=1, num_gpus=1)(run)\n",
    "    objective_default = ray.get(run_default.remote(problem.default_configuration))\n",
    "else:\n",
    "    if not(ray.is_initialized()):\n",
    "        ray.init(num_cpus=1, log_to_driver=False)\n",
    "    run_default = run\n",
    "    objective_default = run_default(problem.default_configuration)\n",
    "    \n",
    "print(f\"Accuracy Default Configuration:  {objective_default:.3f}\")"
   ]
  },
  {
   "cell_type": "markdown",
   "id": "596900f9",
   "metadata": {
    "id": "596900f9"
   },
   "source": [
    "## Define the evaluator object\n",
    "\n",
    "The `Evaluator` object allows to change the parallelization backend used by DeepHyper.  \n",
    "It is a standalone object which schedules the execution of remote tasks. All evaluators needs a `run_function` to be instantiated.  \n",
    "Then a keyword `method` defines the backend (e.g., `\"ray\"`) and the `method_kwargs` corresponds to keyword arguments of this chosen `method`.\n",
    "\n",
    "```python\n",
    "evaluator = Evaluator.create(run_function, method, method_kwargs)\n",
    "```\n",
    "\n",
    "Once created the `evaluator.num_workers` gives access to the number of available parallel workers.\n",
    "\n",
    "Finally, to submit and collect tasks to the evaluator one just needs to use the following interface:\n",
    "\n",
    "```python\n",
    "configs = [{\"units\": 8, ...}, ...]\n",
    "evaluator.submit(configs)\n",
    "...\n",
    "# To collect the first finished task (asynchronous)\n",
    "tasks_done = evaluator.get(\"BATCH\", size=1)\n",
    "\n",
    "# To collect all of the pending tasks (synchronous)\n",
    "tasks_done = evaluator.get(\"ALL\")\n",
    "```\n",
    "\n",
    "<div class=\"alert alert-warning\">\n",
    "\n",
    "<b>Warning</b>\n",
    "\n",
    "Each `Evaluator` saves its own state, therefore it is crucial to create a new evaluator when launching a fresh search.\n",
    "    \n",
    "</div>\n"
   ]
  },
  {
   "cell_type": "code",
   "execution_count": 9,
   "id": "b3f0be13",
   "metadata": {
    "ExecuteTime": {
     "end_time": "2021-10-06T14:08:51.128103Z",
     "start_time": "2021-10-06T14:08:50.989345Z"
    },
    "colab": {
     "base_uri": "https://localhost:8080/"
    },
    "execution": {
     "iopub.execute_input": "2021-10-05T13:24:26.533483Z",
     "iopub.status.busy": "2021-10-05T13:24:26.533227Z",
     "iopub.status.idle": "2021-10-05T13:24:26.548067Z",
     "shell.execute_reply": "2021-10-05T13:24:26.547597Z",
     "shell.execute_reply.started": "2021-10-05T13:24:26.533457Z"
    },
    "id": "b3f0be13",
    "outputId": "0ad00798-09e7-4814-f456-87603dceb1d2"
   },
   "outputs": [
    {
     "name": "stdout",
     "output_type": "stream",
     "text": [
      "Created new evaluator with 1 worker and config: {'num_cpus': 1, 'num_cpus_per_task': 1, 'callbacks': [<deephyper.evaluator.callback.TqdmCallback object at 0x2a06bb670>]}\n"
     ]
    },
    {
     "name": "stderr",
     "output_type": "stream",
     "text": [
      "/Users/romainegele/Documents/Argonne/deephyper/deephyper/evaluator/_evaluator.py:99: UserWarning: Applying nest-asyncio patch for IPython Shell!\n",
      "  warnings.warn(\n"
     ]
    }
   ],
   "source": [
    "from deephyper.evaluator import Evaluator\n",
    "from deephyper.evaluator.callback import TqdmCallback\n",
    "\n",
    "\n",
    "def get_evaluator(run_function):\n",
    "    # Default arguments for Ray: 1 worker and 1 worker per evaluation\n",
    "    method_kwargs = {\n",
    "        \"num_cpus\": 1, \n",
    "        \"num_cpus_per_task\": 1,\n",
    "        \"callbacks\": [TqdmCallback()]\n",
    "    }\n",
    "\n",
    "    # If GPU devices are detected then it will create 'n_gpus' workers\n",
    "    # and use 1 worker for each evaluation\n",
    "    if is_gpu_available:\n",
    "        method_kwargs[\"num_cpus\"] = n_gpus\n",
    "        method_kwargs[\"num_gpus\"] = n_gpus\n",
    "        method_kwargs[\"num_cpus_per_task\"] = 1\n",
    "        method_kwargs[\"num_gpus_per_task\"] = 1\n",
    "\n",
    "    evaluator = Evaluator.create(\n",
    "        run_function, \n",
    "        method=\"ray\", \n",
    "        method_kwargs=method_kwargs\n",
    "    )\n",
    "    print(f\"Created new evaluator with {evaluator.num_workers} worker{'s' if evaluator.num_workers > 1 else ''} and config: {method_kwargs}\", )\n",
    "    \n",
    "    return evaluator\n",
    "\n",
    "evaluator_1 = get_evaluator(run)"
   ]
  },
  {
   "cell_type": "markdown",
   "id": "392998bc",
   "metadata": {
    "id": "392998bc"
   },
   "source": [
    "## Define and run the centralized Bayesian optimization search (CBO)\n",
    "\n",
    "A primary pillar of hyperparameter search in DeepHyper is given by a centralized Bayesian optimization search (henceforth CBO). CBO may be described in the following algorithm:\n",
    "\n",
    "<img src=\"https://github.com/deephyper/tutorials/blob/main/tutorials/colab/HPS_basic_classification_with_tabular_data/Figures/AMBS.png?raw=1\" width=70% align=center>\n",
    "   \n",
    "\n",
    "---\n",
    "\n",
    "Following the parallelized evaluation of these configurations, a low-fidelity and high efficiency model (henceforth \"the surrogate\") is devised to reproduce the relationship between the input variables involved in the model (i.e., the choice of hyperparameters) and the outputs (which are generally a measure of validation data accuracy).  \n",
    "\n",
    "After obtaining this surrogate of the validation accuracy, we may utilize ideas from classical methods in Bayesian optimization literature for adaptively sample the search space of hyperparameters.\n",
    "\n",
    "First, the surrogate is used to obtain an estimate for the mean value of the validation accuracy at a certain sampling location $x$ in addition to an estimated variance. The latter requirement restricts us to the use of high efficiency data-driven modeling strategies that have inbuilt variance estimates (such as a Gaussian process or Random Forest regressor).  \n",
    "\n",
    "Regions where the mean is high represent opportunities for exploitation and regions where the variance is high represent opportunities for exploration. An optimistic acquisition function called UCB can be constructed using these two quantities:\n",
    "\n",
    "$$L_{\\text{UCB}}(x) = \\mu(x) + \\kappa \\cdot \\sigma(x)$$\n",
    "\n",
    "The *unevaluated* hyperparameter configurations that *maximize* the acquisition function are chosen for the next batch of evaluations.  \n",
    "\n",
    "Note that the choice of the variance weighting parameter $\\kappa$ controls the degree of exploration in the hyperparameter search with zero indicating purely exploitation (unseen configurations where the predicted accuracy is highest will be sampled).  \n",
    "\n",
    "The top `s` configurations are selected for the new batch. The following schematic demonstrates this process:\n",
    "\n",
    "<img src=\"https://github.com/deephyper/tutorials/blob/main/tutorials/colab/HPS_basic_classification_with_tabular_data/Figures/BO_AF.png?raw=1\" width=50%>\n",
    "\n",
    "The process of obtaining `s` configurations relies on the \"constant-liar\" strategy where a sampled configuration is mapped to a dummy output given by a bulk metric of all the evaluated configurations thus far (such as the maximum, mean or median validation accuracy).  \n",
    "\n",
    "Prior to sampling the next configuration by acquisition function maximization, the surrogate is retrained with the dummy output as a data point. As the true validation accuracy becomes available for one of the sampled configurations, the dummy output is replaced and the surrogate is updated.\n",
    "\n",
    "This allows for scalable asynchronous (or batch synchronous) sampling of new hyperparameter configurations. \n",
    "\n",
    "####  Choice of surrogate model\n",
    "\n",
    "Users should note that our choice of the surrogate is given by the Random Forest regressor due to its ability to handle non-ordinal data (hyperparameter configurations may not be purely continuous or even numerical). Evidence for how they outperform other methods (such as Gaussian processes) is also available in [1]\n",
    "\n",
    "<img src=\"https://github.com/deephyper/tutorials/blob/main/tutorials/colab/HPS_basic_classification_with_tabular_data/Figures/RFR.png?raw=1\" width=33% align=left>\n",
    "\n",
    "<img src=\"https://github.com/deephyper/tutorials/blob/main/tutorials/colab/HPS_basic_classification_with_tabular_data/Figures/RFR_Superior.png?raw=1\" width=64% align=right>\n"
   ]
  },
  {
   "cell_type": "markdown",
   "id": "613067b2",
   "metadata": {
    "id": "613067b2"
   },
   "source": [
    "### Setup CBO\n",
    "\n",
    "We create the CBO using the `problem` and `evaluator` defined above."
   ]
  },
  {
   "cell_type": "code",
   "execution_count": 10,
   "id": "09dc7abd",
   "metadata": {
    "ExecuteTime": {
     "end_time": "2021-10-06T14:08:57.225948Z",
     "start_time": "2021-10-06T14:08:57.221120Z"
    },
    "execution": {
     "iopub.execute_input": "2021-10-05T13:24:31.729788Z",
     "iopub.status.busy": "2021-10-05T13:24:31.729551Z",
     "iopub.status.idle": "2021-10-05T13:24:31.811538Z",
     "shell.execute_reply": "2021-10-05T13:24:31.810828Z",
     "shell.execute_reply.started": "2021-10-05T13:24:31.729764Z"
    },
    "id": "09dc7abd"
   },
   "outputs": [],
   "source": [
    "from deephyper.search.hps import CBO\n",
    "# Uncomment the following line to show the arguments of CBO.\n",
    "# help(CBO)"
   ]
  },
  {
   "cell_type": "code",
   "execution_count": 11,
   "id": "1e00f0f0",
   "metadata": {
    "ExecuteTime": {
     "end_time": "2021-10-06T14:08:58.089438Z",
     "start_time": "2021-10-06T14:08:58.087565Z"
    },
    "execution": {
     "iopub.execute_input": "2021-10-05T13:24:32.484543Z",
     "iopub.status.busy": "2021-10-05T13:24:32.484353Z",
     "iopub.status.idle": "2021-10-05T13:24:32.488491Z",
     "shell.execute_reply": "2021-10-05T13:24:32.487856Z",
     "shell.execute_reply.started": "2021-10-05T13:24:32.484521Z"
    },
    "id": "1e00f0f0"
   },
   "outputs": [],
   "source": [
    "# Instanciate the search with the problem and the evaluator that we created before\n",
    "\n",
    "search = CBO(problem, evaluator_1, initial_points=[problem.default_configuration])"
   ]
  },
  {
   "cell_type": "markdown",
   "id": "5fad52a5",
   "metadata": {
    "id": "5fad52a5"
   },
   "source": [
    "<div class=\"alert alert-info\">\n",
    "    \n",
    "<b>Note</b>\n",
    "    \n",
    "All DeepHyper's search algorithm have two stopping criteria:\n",
    "    <ul> \n",
    "        <li> <code>`max_evals (int)`</code>: Defines the maximum number of evaluations that we want to perform. Default to <code>-1</code> for an infinite number.</li>\n",
    "        <li> <code>`timeout (int)`</code>: Defines a time budget (in seconds) before stopping the search. Default to <code>None</code> for an infinite time budget.</li>\n",
    "    </ul>\n",
    "    \n",
    "</div>"
   ]
  },
  {
   "cell_type": "code",
   "execution_count": 12,
   "id": "457546ce",
   "metadata": {
    "ExecuteTime": {
     "end_time": "2021-10-06T14:09:28.174734Z",
     "start_time": "2021-10-06T14:09:00.593517Z"
    },
    "colab": {
     "base_uri": "https://localhost:8080/"
    },
    "execution": {
     "iopub.execute_input": "2021-10-05T13:24:34.026578Z",
     "iopub.status.busy": "2021-10-05T13:24:34.026364Z",
     "iopub.status.idle": "2021-10-05T13:25:38.142031Z",
     "shell.execute_reply": "2021-10-05T13:25:38.141494Z",
     "shell.execute_reply.started": "2021-10-05T13:24:34.026553Z"
    },
    "id": "457546ce",
    "outputId": "8cf5e4c3-8f17-40e7-ab55-011f30807198"
   },
   "outputs": [
    {
     "name": "stderr",
     "output_type": "stream",
     "text": [
      "100%|██████████| 10/10 [00:16<00:00,  2.16s/it, objective=0.836] "
     ]
    }
   ],
   "source": [
    "results = search.search(max_evals=10)"
   ]
  },
  {
   "cell_type": "markdown",
   "id": "33c2dd77",
   "metadata": {
    "id": "33c2dd77"
   },
   "source": [
    "<div class=\"alert alert-warning\">\n",
    "\n",
    "<b>Warning</b>\n",
    "    \n",
    "The `search` call does not output any information about the current status of the search. However, a `results.csv` file is created in the local directly and can be visualized to see finished tasks.\n",
    "    \n",
    "</div>"
   ]
  },
  {
   "cell_type": "markdown",
   "id": "5c54414b",
   "metadata": {
    "id": "5c54414b"
   },
   "source": [
    "The returned `results` is a Pandas Dataframe where columns are hyperparameters and information stored by the evaluator:\n",
    "\n",
    "* `job_id` is a unique identifier corresponding to the order of creation of tasks\n",
    "* `objective` is the value returned by the run-function\n",
    "* `timestamp_submit` is the time (in seconds) when the task was created by the evaluator since the creation of the evaluator.\n",
    "* `timestamp_gather` is the time (in seconds) when the task was received after finishing by the evaluator since the creation of the evaluator."
   ]
  },
  {
   "cell_type": "code",
   "execution_count": 13,
   "id": "87bc93b8",
   "metadata": {
    "ExecuteTime": {
     "end_time": "2021-10-06T14:14:09.049833Z",
     "start_time": "2021-10-06T14:14:09.038740Z"
    },
    "colab": {
     "base_uri": "https://localhost:8080/",
     "height": 363
    },
    "execution": {
     "iopub.execute_input": "2021-10-05T13:26:06.857647Z",
     "iopub.status.busy": "2021-10-05T13:26:06.857404Z",
     "iopub.status.idle": "2021-10-05T13:26:06.897524Z",
     "shell.execute_reply": "2021-10-05T13:26:06.897125Z",
     "shell.execute_reply.started": "2021-10-05T13:26:06.857622Z"
    },
    "id": "87bc93b8",
    "outputId": "620cd69a-c6b3-4444-bf0b-86c58dadc58f"
   },
   "outputs": [
    {
     "data": {
      "text/html": [
       "<div>\n",
       "<style scoped>\n",
       "    .dataframe tbody tr th:only-of-type {\n",
       "        vertical-align: middle;\n",
       "    }\n",
       "\n",
       "    .dataframe tbody tr th {\n",
       "        vertical-align: top;\n",
       "    }\n",
       "\n",
       "    .dataframe thead th {\n",
       "        text-align: right;\n",
       "    }\n",
       "</style>\n",
       "<table border=\"1\" class=\"dataframe\">\n",
       "  <thead>\n",
       "    <tr style=\"text-align: right;\">\n",
       "      <th></th>\n",
       "      <th>activation</th>\n",
       "      <th>batch_size</th>\n",
       "      <th>dropout_rate</th>\n",
       "      <th>learning_rate</th>\n",
       "      <th>num_epochs</th>\n",
       "      <th>units</th>\n",
       "      <th>job_id</th>\n",
       "      <th>objective</th>\n",
       "      <th>timestamp_submit</th>\n",
       "      <th>timestamp_gather</th>\n",
       "    </tr>\n",
       "  </thead>\n",
       "  <tbody>\n",
       "    <tr>\n",
       "      <th>0</th>\n",
       "      <td>relu</td>\n",
       "      <td>32</td>\n",
       "      <td>0.500000</td>\n",
       "      <td>0.001000</td>\n",
       "      <td>50</td>\n",
       "      <td>32</td>\n",
       "      <td>1</td>\n",
       "      <td>0.803279</td>\n",
       "      <td>5.007318</td>\n",
       "      <td>7.747537</td>\n",
       "    </tr>\n",
       "    <tr>\n",
       "      <th>1</th>\n",
       "      <td>relu</td>\n",
       "      <td>35</td>\n",
       "      <td>0.033381</td>\n",
       "      <td>0.000265</td>\n",
       "      <td>33</td>\n",
       "      <td>103</td>\n",
       "      <td>2</td>\n",
       "      <td>0.836066</td>\n",
       "      <td>7.893480</td>\n",
       "      <td>9.366301</td>\n",
       "    </tr>\n",
       "    <tr>\n",
       "      <th>2</th>\n",
       "      <td>sigmoid</td>\n",
       "      <td>10</td>\n",
       "      <td>0.304321</td>\n",
       "      <td>0.001563</td>\n",
       "      <td>18</td>\n",
       "      <td>116</td>\n",
       "      <td>3</td>\n",
       "      <td>0.819672</td>\n",
       "      <td>9.396822</td>\n",
       "      <td>10.795727</td>\n",
       "    </tr>\n",
       "    <tr>\n",
       "      <th>3</th>\n",
       "      <td>tanh</td>\n",
       "      <td>22</td>\n",
       "      <td>0.400652</td>\n",
       "      <td>0.000750</td>\n",
       "      <td>45</td>\n",
       "      <td>120</td>\n",
       "      <td>4</td>\n",
       "      <td>0.786885</td>\n",
       "      <td>10.826229</td>\n",
       "      <td>12.536323</td>\n",
       "    </tr>\n",
       "    <tr>\n",
       "      <th>4</th>\n",
       "      <td>relu</td>\n",
       "      <td>13</td>\n",
       "      <td>0.154455</td>\n",
       "      <td>0.003917</td>\n",
       "      <td>55</td>\n",
       "      <td>108</td>\n",
       "      <td>5</td>\n",
       "      <td>0.770492</td>\n",
       "      <td>12.567024</td>\n",
       "      <td>14.700497</td>\n",
       "    </tr>\n",
       "    <tr>\n",
       "      <th>5</th>\n",
       "      <td>gelu</td>\n",
       "      <td>167</td>\n",
       "      <td>0.095698</td>\n",
       "      <td>0.000015</td>\n",
       "      <td>70</td>\n",
       "      <td>108</td>\n",
       "      <td>6</td>\n",
       "      <td>0.622951</td>\n",
       "      <td>14.730562</td>\n",
       "      <td>16.405771</td>\n",
       "    </tr>\n",
       "    <tr>\n",
       "      <th>6</th>\n",
       "      <td>relu</td>\n",
       "      <td>29</td>\n",
       "      <td>0.474157</td>\n",
       "      <td>0.000866</td>\n",
       "      <td>13</td>\n",
       "      <td>48</td>\n",
       "      <td>7</td>\n",
       "      <td>0.819672</td>\n",
       "      <td>16.436501</td>\n",
       "      <td>17.624854</td>\n",
       "    </tr>\n",
       "    <tr>\n",
       "      <th>7</th>\n",
       "      <td>gelu</td>\n",
       "      <td>33</td>\n",
       "      <td>0.513944</td>\n",
       "      <td>0.000103</td>\n",
       "      <td>67</td>\n",
       "      <td>12</td>\n",
       "      <td>8</td>\n",
       "      <td>0.737705</td>\n",
       "      <td>17.655086</td>\n",
       "      <td>19.627776</td>\n",
       "    </tr>\n",
       "    <tr>\n",
       "      <th>8</th>\n",
       "      <td>selu</td>\n",
       "      <td>26</td>\n",
       "      <td>0.209993</td>\n",
       "      <td>0.001832</td>\n",
       "      <td>34</td>\n",
       "      <td>45</td>\n",
       "      <td>9</td>\n",
       "      <td>0.786885</td>\n",
       "      <td>19.728662</td>\n",
       "      <td>21.173264</td>\n",
       "    </tr>\n",
       "    <tr>\n",
       "      <th>9</th>\n",
       "      <td>elu</td>\n",
       "      <td>58</td>\n",
       "      <td>0.543356</td>\n",
       "      <td>0.000043</td>\n",
       "      <td>94</td>\n",
       "      <td>81</td>\n",
       "      <td>10</td>\n",
       "      <td>0.803279</td>\n",
       "      <td>21.203402</td>\n",
       "      <td>24.535908</td>\n",
       "    </tr>\n",
       "  </tbody>\n",
       "</table>\n",
       "</div>"
      ],
      "text/plain": [
       "  activation  batch_size  dropout_rate  learning_rate  num_epochs  units  \\\n",
       "0       relu          32      0.500000       0.001000          50     32   \n",
       "1       relu          35      0.033381       0.000265          33    103   \n",
       "2    sigmoid          10      0.304321       0.001563          18    116   \n",
       "3       tanh          22      0.400652       0.000750          45    120   \n",
       "4       relu          13      0.154455       0.003917          55    108   \n",
       "5       gelu         167      0.095698       0.000015          70    108   \n",
       "6       relu          29      0.474157       0.000866          13     48   \n",
       "7       gelu          33      0.513944       0.000103          67     12   \n",
       "8       selu          26      0.209993       0.001832          34     45   \n",
       "9        elu          58      0.543356       0.000043          94     81   \n",
       "\n",
       "   job_id  objective  timestamp_submit  timestamp_gather  \n",
       "0       1   0.803279          5.007318          7.747537  \n",
       "1       2   0.836066          7.893480          9.366301  \n",
       "2       3   0.819672          9.396822         10.795727  \n",
       "3       4   0.786885         10.826229         12.536323  \n",
       "4       5   0.770492         12.567024         14.700497  \n",
       "5       6   0.622951         14.730562         16.405771  \n",
       "6       7   0.819672         16.436501         17.624854  \n",
       "7       8   0.737705         17.655086         19.627776  \n",
       "8       9   0.786885         19.728662         21.173264  \n",
       "9      10   0.803279         21.203402         24.535908  "
      ]
     },
     "execution_count": 13,
     "metadata": {},
     "output_type": "execute_result"
    }
   ],
   "source": [
    "results"
   ]
  },
  {
   "cell_type": "markdown",
   "id": "dbd8b3e4",
   "metadata": {
    "id": "dbd8b3e4"
   },
   "source": [
    "The search can be continued without any issue."
   ]
  },
  {
   "cell_type": "code",
   "execution_count": 14,
   "id": "f2e6af67",
   "metadata": {
    "ExecuteTime": {
     "end_time": "2021-10-06T14:14:10.966261Z",
     "start_time": "2021-10-06T14:14:09.918767Z"
    },
    "colab": {
     "base_uri": "https://localhost:8080/",
     "height": 607
    },
    "execution": {
     "iopub.execute_input": "2021-10-05T13:26:08.179747Z",
     "iopub.status.busy": "2021-10-05T13:26:08.179499Z",
     "iopub.status.idle": "2021-10-05T13:26:32.492749Z",
     "shell.execute_reply": "2021-10-05T13:26:32.492153Z",
     "shell.execute_reply.started": "2021-10-05T13:26:08.179721Z"
    },
    "id": "f2e6af67",
    "outputId": "179d3151-a080-46aa-d412-e8d24bc4c69f"
   },
   "outputs": [
    {
     "name": "stderr",
     "output_type": "stream",
     "text": [
      "100%|██████████| 10/10 [00:18<00:00,  1.82s/it, objective=0.836]\n",
      "100%|██████████| 5/5 [00:05<00:00,  1.33s/it, objective=0.836]   "
     ]
    },
    {
     "data": {
      "text/html": [
       "<div>\n",
       "<style scoped>\n",
       "    .dataframe tbody tr th:only-of-type {\n",
       "        vertical-align: middle;\n",
       "    }\n",
       "\n",
       "    .dataframe tbody tr th {\n",
       "        vertical-align: top;\n",
       "    }\n",
       "\n",
       "    .dataframe thead th {\n",
       "        text-align: right;\n",
       "    }\n",
       "</style>\n",
       "<table border=\"1\" class=\"dataframe\">\n",
       "  <thead>\n",
       "    <tr style=\"text-align: right;\">\n",
       "      <th></th>\n",
       "      <th>activation</th>\n",
       "      <th>batch_size</th>\n",
       "      <th>dropout_rate</th>\n",
       "      <th>learning_rate</th>\n",
       "      <th>num_epochs</th>\n",
       "      <th>units</th>\n",
       "      <th>job_id</th>\n",
       "      <th>objective</th>\n",
       "      <th>timestamp_submit</th>\n",
       "      <th>timestamp_gather</th>\n",
       "    </tr>\n",
       "  </thead>\n",
       "  <tbody>\n",
       "    <tr>\n",
       "      <th>0</th>\n",
       "      <td>relu</td>\n",
       "      <td>32</td>\n",
       "      <td>0.500000</td>\n",
       "      <td>0.001000</td>\n",
       "      <td>50</td>\n",
       "      <td>32</td>\n",
       "      <td>1</td>\n",
       "      <td>0.803279</td>\n",
       "      <td>5.007318</td>\n",
       "      <td>7.747537</td>\n",
       "    </tr>\n",
       "    <tr>\n",
       "      <th>1</th>\n",
       "      <td>relu</td>\n",
       "      <td>35</td>\n",
       "      <td>0.033381</td>\n",
       "      <td>0.000265</td>\n",
       "      <td>33</td>\n",
       "      <td>103</td>\n",
       "      <td>2</td>\n",
       "      <td>0.836066</td>\n",
       "      <td>7.893480</td>\n",
       "      <td>9.366301</td>\n",
       "    </tr>\n",
       "    <tr>\n",
       "      <th>2</th>\n",
       "      <td>sigmoid</td>\n",
       "      <td>10</td>\n",
       "      <td>0.304321</td>\n",
       "      <td>0.001563</td>\n",
       "      <td>18</td>\n",
       "      <td>116</td>\n",
       "      <td>3</td>\n",
       "      <td>0.819672</td>\n",
       "      <td>9.396822</td>\n",
       "      <td>10.795727</td>\n",
       "    </tr>\n",
       "    <tr>\n",
       "      <th>3</th>\n",
       "      <td>tanh</td>\n",
       "      <td>22</td>\n",
       "      <td>0.400652</td>\n",
       "      <td>0.000750</td>\n",
       "      <td>45</td>\n",
       "      <td>120</td>\n",
       "      <td>4</td>\n",
       "      <td>0.786885</td>\n",
       "      <td>10.826229</td>\n",
       "      <td>12.536323</td>\n",
       "    </tr>\n",
       "    <tr>\n",
       "      <th>4</th>\n",
       "      <td>relu</td>\n",
       "      <td>13</td>\n",
       "      <td>0.154455</td>\n",
       "      <td>0.003917</td>\n",
       "      <td>55</td>\n",
       "      <td>108</td>\n",
       "      <td>5</td>\n",
       "      <td>0.770492</td>\n",
       "      <td>12.567024</td>\n",
       "      <td>14.700497</td>\n",
       "    </tr>\n",
       "    <tr>\n",
       "      <th>5</th>\n",
       "      <td>gelu</td>\n",
       "      <td>167</td>\n",
       "      <td>0.095698</td>\n",
       "      <td>0.000015</td>\n",
       "      <td>70</td>\n",
       "      <td>108</td>\n",
       "      <td>6</td>\n",
       "      <td>0.622951</td>\n",
       "      <td>14.730562</td>\n",
       "      <td>16.405771</td>\n",
       "    </tr>\n",
       "    <tr>\n",
       "      <th>6</th>\n",
       "      <td>relu</td>\n",
       "      <td>29</td>\n",
       "      <td>0.474157</td>\n",
       "      <td>0.000866</td>\n",
       "      <td>13</td>\n",
       "      <td>48</td>\n",
       "      <td>7</td>\n",
       "      <td>0.819672</td>\n",
       "      <td>16.436501</td>\n",
       "      <td>17.624854</td>\n",
       "    </tr>\n",
       "    <tr>\n",
       "      <th>7</th>\n",
       "      <td>gelu</td>\n",
       "      <td>33</td>\n",
       "      <td>0.513944</td>\n",
       "      <td>0.000103</td>\n",
       "      <td>67</td>\n",
       "      <td>12</td>\n",
       "      <td>8</td>\n",
       "      <td>0.737705</td>\n",
       "      <td>17.655086</td>\n",
       "      <td>19.627776</td>\n",
       "    </tr>\n",
       "    <tr>\n",
       "      <th>8</th>\n",
       "      <td>selu</td>\n",
       "      <td>26</td>\n",
       "      <td>0.209993</td>\n",
       "      <td>0.001832</td>\n",
       "      <td>34</td>\n",
       "      <td>45</td>\n",
       "      <td>9</td>\n",
       "      <td>0.786885</td>\n",
       "      <td>19.728662</td>\n",
       "      <td>21.173264</td>\n",
       "    </tr>\n",
       "    <tr>\n",
       "      <th>9</th>\n",
       "      <td>elu</td>\n",
       "      <td>58</td>\n",
       "      <td>0.543356</td>\n",
       "      <td>0.000043</td>\n",
       "      <td>94</td>\n",
       "      <td>81</td>\n",
       "      <td>10</td>\n",
       "      <td>0.803279</td>\n",
       "      <td>21.203402</td>\n",
       "      <td>24.535908</td>\n",
       "    </tr>\n",
       "    <tr>\n",
       "      <th>10</th>\n",
       "      <td>tanh</td>\n",
       "      <td>181</td>\n",
       "      <td>0.585590</td>\n",
       "      <td>0.001198</td>\n",
       "      <td>97</td>\n",
       "      <td>64</td>\n",
       "      <td>11</td>\n",
       "      <td>0.803279</td>\n",
       "      <td>26.024792</td>\n",
       "      <td>27.976763</td>\n",
       "    </tr>\n",
       "    <tr>\n",
       "      <th>11</th>\n",
       "      <td>relu</td>\n",
       "      <td>256</td>\n",
       "      <td>0.021215</td>\n",
       "      <td>0.000020</td>\n",
       "      <td>22</td>\n",
       "      <td>123</td>\n",
       "      <td>12</td>\n",
       "      <td>0.180328</td>\n",
       "      <td>28.262971</td>\n",
       "      <td>29.387546</td>\n",
       "    </tr>\n",
       "    <tr>\n",
       "      <th>12</th>\n",
       "      <td>relu</td>\n",
       "      <td>256</td>\n",
       "      <td>0.019209</td>\n",
       "      <td>0.000098</td>\n",
       "      <td>12</td>\n",
       "      <td>89</td>\n",
       "      <td>13</td>\n",
       "      <td>0.557377</td>\n",
       "      <td>29.675868</td>\n",
       "      <td>30.765097</td>\n",
       "    </tr>\n",
       "    <tr>\n",
       "      <th>13</th>\n",
       "      <td>relu</td>\n",
       "      <td>256</td>\n",
       "      <td>0.580891</td>\n",
       "      <td>0.000016</td>\n",
       "      <td>23</td>\n",
       "      <td>122</td>\n",
       "      <td>14</td>\n",
       "      <td>0.737705</td>\n",
       "      <td>31.123886</td>\n",
       "      <td>32.239641</td>\n",
       "    </tr>\n",
       "    <tr>\n",
       "      <th>14</th>\n",
       "      <td>relu</td>\n",
       "      <td>256</td>\n",
       "      <td>0.054057</td>\n",
       "      <td>0.000020</td>\n",
       "      <td>40</td>\n",
       "      <td>128</td>\n",
       "      <td>15</td>\n",
       "      <td>0.245902</td>\n",
       "      <td>32.529887</td>\n",
       "      <td>33.878031</td>\n",
       "    </tr>\n",
       "  </tbody>\n",
       "</table>\n",
       "</div>"
      ],
      "text/plain": [
       "   activation  batch_size  dropout_rate  learning_rate  num_epochs  units  \\\n",
       "0        relu          32      0.500000       0.001000          50     32   \n",
       "1        relu          35      0.033381       0.000265          33    103   \n",
       "2     sigmoid          10      0.304321       0.001563          18    116   \n",
       "3        tanh          22      0.400652       0.000750          45    120   \n",
       "4        relu          13      0.154455       0.003917          55    108   \n",
       "5        gelu         167      0.095698       0.000015          70    108   \n",
       "6        relu          29      0.474157       0.000866          13     48   \n",
       "7        gelu          33      0.513944       0.000103          67     12   \n",
       "8        selu          26      0.209993       0.001832          34     45   \n",
       "9         elu          58      0.543356       0.000043          94     81   \n",
       "10       tanh         181      0.585590       0.001198          97     64   \n",
       "11       relu         256      0.021215       0.000020          22    123   \n",
       "12       relu         256      0.019209       0.000098          12     89   \n",
       "13       relu         256      0.580891       0.000016          23    122   \n",
       "14       relu         256      0.054057       0.000020          40    128   \n",
       "\n",
       "    job_id  objective  timestamp_submit  timestamp_gather  \n",
       "0        1   0.803279          5.007318          7.747537  \n",
       "1        2   0.836066          7.893480          9.366301  \n",
       "2        3   0.819672          9.396822         10.795727  \n",
       "3        4   0.786885         10.826229         12.536323  \n",
       "4        5   0.770492         12.567024         14.700497  \n",
       "5        6   0.622951         14.730562         16.405771  \n",
       "6        7   0.819672         16.436501         17.624854  \n",
       "7        8   0.737705         17.655086         19.627776  \n",
       "8        9   0.786885         19.728662         21.173264  \n",
       "9       10   0.803279         21.203402         24.535908  \n",
       "10      11   0.803279         26.024792         27.976763  \n",
       "11      12   0.180328         28.262971         29.387546  \n",
       "12      13   0.557377         29.675868         30.765097  \n",
       "13      14   0.737705         31.123886         32.239641  \n",
       "14      15   0.245902         32.529887         33.878031  "
      ]
     },
     "execution_count": 14,
     "metadata": {},
     "output_type": "execute_result"
    }
   ],
   "source": [
    "results = search.search(max_evals=5)\n",
    "\n",
    "results"
   ]
  },
  {
   "cell_type": "markdown",
   "id": "53d673da",
   "metadata": {
    "id": "53d673da"
   },
   "source": [
    "Now that the search is over, let us print the best configuration found during this run."
   ]
  },
  {
   "cell_type": "code",
   "execution_count": 15,
   "id": "f906a04f",
   "metadata": {
    "ExecuteTime": {
     "end_time": "2021-10-06T14:14:10.979212Z",
     "start_time": "2021-10-06T14:14:10.975696Z"
    },
    "colab": {
     "base_uri": "https://localhost:8080/"
    },
    "execution": {
     "iopub.execute_input": "2021-10-05T13:28:16.309800Z",
     "iopub.status.busy": "2021-10-05T13:28:16.309564Z",
     "iopub.status.idle": "2021-10-05T13:28:16.316422Z",
     "shell.execute_reply": "2021-10-05T13:28:16.315876Z",
     "shell.execute_reply.started": "2021-10-05T13:28:16.309775Z"
    },
    "id": "f906a04f",
    "outputId": "164bfe6d-df76-4258-d55d-e7d4125d5890"
   },
   "outputs": [
    {
     "name": "stdout",
     "output_type": "stream",
     "text": [
      "The default configuration has an accuracy of 0.820. \n",
      "The best configuration found by DeepHyper has an accuracy 0.836, \n",
      "discovered after 9.37 secondes of search.\n",
      "\n"
     ]
    },
    {
     "data": {
      "text/plain": [
       "{'activation': 'relu',\n",
       " 'batch_size': 35,\n",
       " 'dropout_rate': 0.0333810292433754,\n",
       " 'learning_rate': 0.0002654663875892,\n",
       " 'num_epochs': 33,\n",
       " 'units': 103,\n",
       " 'job_id': 2}"
      ]
     },
     "execution_count": 15,
     "metadata": {},
     "output_type": "execute_result"
    }
   ],
   "source": [
    "i_max = results.objective.argmax()\n",
    "best_config = results.iloc[i_max][:-3].to_dict()\n",
    "\n",
    "\n",
    "print(f\"The default configuration has an accuracy of {objective_default:.3f}. \\n\" \n",
    "      f\"The best configuration found by DeepHyper has an accuracy {results['objective'].iloc[i_max]:.3f}, \\n\" \n",
    "      f\"discovered after {results['timestamp_gather'].iloc[i_max]:.2f} secondes of search.\\n\")\n",
    "\n",
    "best_config"
   ]
  },
  {
   "cell_type": "markdown",
   "id": "b8349d84",
   "metadata": {
    "id": "b8349d84"
   },
   "source": [
    "## Restart from a checkpoint\n",
    "\n",
    "It can often be useful to continue the search from previous results. For example, if the allocation requested was not enough or if an unexpected crash happened. The `AMBS` searhc provides the `fit_surrogate(dataframe_of_results)` method for this use case. \n",
    "\n",
    "To simulate this we create a second evaluator `evaluator_2` and start a fresh AMBS search with strong explotation `kappa=0.001`."
   ]
  },
  {
   "cell_type": "code",
   "execution_count": 16,
   "id": "3e99249c",
   "metadata": {
    "ExecuteTime": {
     "end_time": "2021-10-06T14:14:13.791888Z",
     "start_time": "2021-10-06T14:14:13.717020Z"
    },
    "colab": {
     "base_uri": "https://localhost:8080/"
    },
    "execution": {
     "iopub.execute_input": "2021-10-05T13:28:18.176620Z",
     "iopub.status.busy": "2021-10-05T13:28:18.176439Z",
     "iopub.status.idle": "2021-10-05T13:28:18.260776Z",
     "shell.execute_reply": "2021-10-05T13:28:18.260306Z",
     "shell.execute_reply.started": "2021-10-05T13:28:18.176598Z"
    },
    "id": "3e99249c",
    "outputId": "1782a7d9-ca6a-4485-c4b4-c8824e973e1a"
   },
   "outputs": [
    {
     "name": "stdout",
     "output_type": "stream",
     "text": [
      "Created new evaluator with 1 worker and config: {'num_cpus': 1, 'num_cpus_per_task': 1, 'callbacks': [<deephyper.evaluator.callback.TqdmCallback object at 0x3427e3e50>]}\n"
     ]
    },
    {
     "name": "stderr",
     "output_type": "stream",
     "text": [
      "/Users/romainegele/Documents/Argonne/deephyper/deephyper/evaluator/_evaluator.py:99: UserWarning: Applying nest-asyncio patch for IPython Shell!\n",
      "  warnings.warn(\n"
     ]
    }
   ],
   "source": [
    "# Create a new evaluator\n",
    "evaluator_2 = get_evaluator(run)\n",
    "\n",
    "# Create a new AMBS search with strong explotation (i.e., small kappa)\n",
    "search_from_checkpoint = CBO(problem, evaluator_2, kappa=0.001)\n",
    "\n",
    "# Initialize surrogate model of Bayesian optization (in AMBS)\n",
    "# With results of previous search\n",
    "search_from_checkpoint.fit_surrogate(results)"
   ]
  },
  {
   "cell_type": "code",
   "execution_count": 17,
   "id": "9baeb24f",
   "metadata": {
    "ExecuteTime": {
     "end_time": "2021-10-06T14:15:00.807606Z",
     "start_time": "2021-10-06T14:14:15.820625Z"
    },
    "colab": {
     "base_uri": "https://localhost:8080/"
    },
    "execution": {
     "iopub.execute_input": "2021-10-05T13:28:19.996570Z",
     "iopub.status.busy": "2021-10-05T13:28:19.996390Z",
     "iopub.status.idle": "2021-10-05T13:29:18.566650Z",
     "shell.execute_reply": "2021-10-05T13:29:18.566114Z",
     "shell.execute_reply.started": "2021-10-05T13:28:19.996549Z"
    },
    "id": "9baeb24f",
    "outputId": "37a409ce-f61d-4941-8a97-32468370168b"
   },
   "outputs": [
    {
     "name": "stderr",
     "output_type": "stream",
     "text": []
    }
   ],
   "source": [
    "results_from_checkpoint = search_from_checkpoint.search(max_evals=10)"
   ]
  },
  {
   "cell_type": "code",
   "execution_count": 18,
   "id": "7f293587",
   "metadata": {
    "ExecuteTime": {
     "end_time": "2021-10-06T14:15:00.826885Z",
     "start_time": "2021-10-06T14:15:00.819039Z"
    },
    "colab": {
     "base_uri": "https://localhost:8080/",
     "height": 363
    },
    "execution": {
     "iopub.execute_input": "2021-10-05T13:31:00.645334Z",
     "iopub.status.busy": "2021-10-05T13:31:00.645102Z",
     "iopub.status.idle": "2021-10-05T13:31:00.657401Z",
     "shell.execute_reply": "2021-10-05T13:31:00.656830Z",
     "shell.execute_reply.started": "2021-10-05T13:31:00.645309Z"
    },
    "id": "7f293587",
    "outputId": "0b706201-1ec0-45e5-eae2-590bc05bd0c3"
   },
   "outputs": [
    {
     "data": {
      "text/html": [
       "<div>\n",
       "<style scoped>\n",
       "    .dataframe tbody tr th:only-of-type {\n",
       "        vertical-align: middle;\n",
       "    }\n",
       "\n",
       "    .dataframe tbody tr th {\n",
       "        vertical-align: top;\n",
       "    }\n",
       "\n",
       "    .dataframe thead th {\n",
       "        text-align: right;\n",
       "    }\n",
       "</style>\n",
       "<table border=\"1\" class=\"dataframe\">\n",
       "  <thead>\n",
       "    <tr style=\"text-align: right;\">\n",
       "      <th></th>\n",
       "      <th>activation</th>\n",
       "      <th>batch_size</th>\n",
       "      <th>dropout_rate</th>\n",
       "      <th>learning_rate</th>\n",
       "      <th>num_epochs</th>\n",
       "      <th>units</th>\n",
       "      <th>job_id</th>\n",
       "      <th>objective</th>\n",
       "      <th>timestamp_submit</th>\n",
       "      <th>timestamp_gather</th>\n",
       "    </tr>\n",
       "  </thead>\n",
       "  <tbody>\n",
       "    <tr>\n",
       "      <th>0</th>\n",
       "      <td>sigmoid</td>\n",
       "      <td>256</td>\n",
       "      <td>0.427160</td>\n",
       "      <td>0.000767</td>\n",
       "      <td>30</td>\n",
       "      <td>70</td>\n",
       "      <td>1</td>\n",
       "      <td>0.704918</td>\n",
       "      <td>1.533085</td>\n",
       "      <td>2.817155</td>\n",
       "    </tr>\n",
       "    <tr>\n",
       "      <th>1</th>\n",
       "      <td>relu</td>\n",
       "      <td>256</td>\n",
       "      <td>0.518127</td>\n",
       "      <td>0.002222</td>\n",
       "      <td>32</td>\n",
       "      <td>77</td>\n",
       "      <td>2</td>\n",
       "      <td>0.819672</td>\n",
       "      <td>3.201892</td>\n",
       "      <td>4.484528</td>\n",
       "    </tr>\n",
       "    <tr>\n",
       "      <th>2</th>\n",
       "      <td>relu</td>\n",
       "      <td>256</td>\n",
       "      <td>0.569377</td>\n",
       "      <td>0.002478</td>\n",
       "      <td>39</td>\n",
       "      <td>79</td>\n",
       "      <td>3</td>\n",
       "      <td>0.836066</td>\n",
       "      <td>4.789920</td>\n",
       "      <td>6.043683</td>\n",
       "    </tr>\n",
       "    <tr>\n",
       "      <th>3</th>\n",
       "      <td>relu</td>\n",
       "      <td>256</td>\n",
       "      <td>0.588966</td>\n",
       "      <td>0.006999</td>\n",
       "      <td>31</td>\n",
       "      <td>75</td>\n",
       "      <td>4</td>\n",
       "      <td>0.819672</td>\n",
       "      <td>6.352603</td>\n",
       "      <td>7.632020</td>\n",
       "    </tr>\n",
       "    <tr>\n",
       "      <th>4</th>\n",
       "      <td>relu</td>\n",
       "      <td>256</td>\n",
       "      <td>0.578453</td>\n",
       "      <td>0.000659</td>\n",
       "      <td>54</td>\n",
       "      <td>77</td>\n",
       "      <td>5</td>\n",
       "      <td>0.786885</td>\n",
       "      <td>8.010408</td>\n",
       "      <td>9.583746</td>\n",
       "    </tr>\n",
       "    <tr>\n",
       "      <th>5</th>\n",
       "      <td>relu</td>\n",
       "      <td>256</td>\n",
       "      <td>0.572587</td>\n",
       "      <td>0.003358</td>\n",
       "      <td>35</td>\n",
       "      <td>87</td>\n",
       "      <td>6</td>\n",
       "      <td>0.868852</td>\n",
       "      <td>9.889757</td>\n",
       "      <td>11.116933</td>\n",
       "    </tr>\n",
       "    <tr>\n",
       "      <th>6</th>\n",
       "      <td>relu</td>\n",
       "      <td>256</td>\n",
       "      <td>0.582392</td>\n",
       "      <td>0.002076</td>\n",
       "      <td>36</td>\n",
       "      <td>86</td>\n",
       "      <td>7</td>\n",
       "      <td>0.852459</td>\n",
       "      <td>11.428699</td>\n",
       "      <td>12.755969</td>\n",
       "    </tr>\n",
       "    <tr>\n",
       "      <th>7</th>\n",
       "      <td>relu</td>\n",
       "      <td>256</td>\n",
       "      <td>0.584875</td>\n",
       "      <td>0.003595</td>\n",
       "      <td>43</td>\n",
       "      <td>85</td>\n",
       "      <td>8</td>\n",
       "      <td>0.803279</td>\n",
       "      <td>13.066058</td>\n",
       "      <td>14.417546</td>\n",
       "    </tr>\n",
       "    <tr>\n",
       "      <th>8</th>\n",
       "      <td>relu</td>\n",
       "      <td>256</td>\n",
       "      <td>0.536006</td>\n",
       "      <td>0.008031</td>\n",
       "      <td>34</td>\n",
       "      <td>74</td>\n",
       "      <td>9</td>\n",
       "      <td>0.803279</td>\n",
       "      <td>14.798247</td>\n",
       "      <td>16.009628</td>\n",
       "    </tr>\n",
       "    <tr>\n",
       "      <th>9</th>\n",
       "      <td>relu</td>\n",
       "      <td>256</td>\n",
       "      <td>0.571806</td>\n",
       "      <td>0.001217</td>\n",
       "      <td>35</td>\n",
       "      <td>76</td>\n",
       "      <td>10</td>\n",
       "      <td>0.803279</td>\n",
       "      <td>16.325069</td>\n",
       "      <td>17.680495</td>\n",
       "    </tr>\n",
       "  </tbody>\n",
       "</table>\n",
       "</div>"
      ],
      "text/plain": [
       "  activation  batch_size  dropout_rate  learning_rate  num_epochs  units  \\\n",
       "0    sigmoid         256      0.427160       0.000767          30     70   \n",
       "1       relu         256      0.518127       0.002222          32     77   \n",
       "2       relu         256      0.569377       0.002478          39     79   \n",
       "3       relu         256      0.588966       0.006999          31     75   \n",
       "4       relu         256      0.578453       0.000659          54     77   \n",
       "5       relu         256      0.572587       0.003358          35     87   \n",
       "6       relu         256      0.582392       0.002076          36     86   \n",
       "7       relu         256      0.584875       0.003595          43     85   \n",
       "8       relu         256      0.536006       0.008031          34     74   \n",
       "9       relu         256      0.571806       0.001217          35     76   \n",
       "\n",
       "   job_id  objective  timestamp_submit  timestamp_gather  \n",
       "0       1   0.704918          1.533085          2.817155  \n",
       "1       2   0.819672          3.201892          4.484528  \n",
       "2       3   0.836066          4.789920          6.043683  \n",
       "3       4   0.819672          6.352603          7.632020  \n",
       "4       5   0.786885          8.010408          9.583746  \n",
       "5       6   0.868852          9.889757         11.116933  \n",
       "6       7   0.852459         11.428699         12.755969  \n",
       "7       8   0.803279         13.066058         14.417546  \n",
       "8       9   0.803279         14.798247         16.009628  \n",
       "9      10   0.803279         16.325069         17.680495  "
      ]
     },
     "execution_count": 18,
     "metadata": {},
     "output_type": "execute_result"
    }
   ],
   "source": [
    "results_from_checkpoint"
   ]
  },
  {
   "cell_type": "code",
   "execution_count": 19,
   "id": "8f28d724",
   "metadata": {
    "ExecuteTime": {
     "end_time": "2021-10-06T14:15:01.129246Z",
     "start_time": "2021-10-06T14:15:00.837350Z"
    },
    "colab": {
     "base_uri": "https://localhost:8080/"
    },
    "execution": {
     "iopub.execute_input": "2021-10-05T13:31:03.701630Z",
     "iopub.status.busy": "2021-10-05T13:31:03.701435Z",
     "iopub.status.idle": "2021-10-05T13:31:03.708209Z",
     "shell.execute_reply": "2021-10-05T13:31:03.707703Z",
     "shell.execute_reply.started": "2021-10-05T13:31:03.701608Z"
    },
    "id": "8f28d724",
    "outputId": "28516a5b-b78e-4268-ef6d-c026a910abd4"
   },
   "outputs": [
    {
     "name": "stdout",
     "output_type": "stream",
     "text": [
      "The default configuration has an accuracy of 0.820. The best configuration found by DeepHyper has an accuracy 0.869, finished after 11.12 secondes of search.\n"
     ]
    },
    {
     "data": {
      "text/plain": [
       "{'activation': 'relu',\n",
       " 'batch_size': 256,\n",
       " 'dropout_rate': 0.5725867102466046,\n",
       " 'learning_rate': 0.0033577267689664,\n",
       " 'num_epochs': 35,\n",
       " 'units': 87,\n",
       " 'job_id': 6}"
      ]
     },
     "execution_count": 19,
     "metadata": {},
     "output_type": "execute_result"
    }
   ],
   "source": [
    "i_max = results_from_checkpoint.objective.argmax()\n",
    "best_config = results_from_checkpoint.iloc[i_max][:-3].to_dict()\n",
    "\n",
    "print(f\"The default configuration has an accuracy of {objective_default:.3f}. \" \n",
    "      f\"The best configuration found by DeepHyper has an accuracy {results_from_checkpoint['objective'].iloc[i_max]:.3f}, \" \n",
    "      f\"finished after {results_from_checkpoint['timestamp_gather'].iloc[i_max]:.2f} secondes of search.\")\n",
    "\n",
    "best_config"
   ]
  },
  {
   "cell_type": "markdown",
   "id": "8b535c9d",
   "metadata": {
    "id": "8b535c9d"
   },
   "source": [
    "## Add conditional hyperparameters\n",
    "\n",
    "Now we want to add the possibility to search for a second fully-connected layer. We simply add two new lines:\n",
    "\n",
    "```python\n",
    "if config.get(\"dense_2\", False):\n",
    "    x = tf.keras.layers.Dense(config[\"dense_2:units\"], activation=config[\"dense_2:activation\"])(x)\n",
    "```"
   ]
  },
  {
   "cell_type": "code",
   "execution_count": 20,
   "id": "8a62e9f5",
   "metadata": {
    "ExecuteTime": {
     "end_time": "2021-10-06T14:15:01.344982Z",
     "start_time": "2021-10-06T14:15:01.141111Z"
    },
    "execution": {
     "iopub.execute_input": "2021-10-05T13:31:06.664412Z",
     "iopub.status.busy": "2021-10-05T13:31:06.664230Z",
     "iopub.status.idle": "2021-10-05T13:31:06.678681Z",
     "shell.execute_reply": "2021-10-05T13:31:06.678208Z",
     "shell.execute_reply.started": "2021-10-05T13:31:06.664391Z"
    },
    "id": "8a62e9f5"
   },
   "outputs": [],
   "source": [
    "def run_with_condition(config: dict):\n",
    "    tf.autograph.set_verbosity(0)\n",
    "    \n",
    "    train_dataframe, val_dataframe = load_data()\n",
    "\n",
    "    train_ds = dataframe_to_dataset(train_dataframe)\n",
    "    val_ds = dataframe_to_dataset(val_dataframe)\n",
    "\n",
    "    train_ds = train_ds.batch(config[\"batch_size\"])\n",
    "    val_ds = val_ds.batch(config[\"batch_size\"])\n",
    "\n",
    "    # Categorical features encoded as integers\n",
    "    sex = tf.keras.Input(shape=(1,), name=\"sex\", dtype=\"int64\")\n",
    "    cp = tf.keras.Input(shape=(1,), name=\"cp\", dtype=\"int64\")\n",
    "    fbs = tf.keras.Input(shape=(1,), name=\"fbs\", dtype=\"int64\")\n",
    "    restecg = tf.keras.Input(shape=(1,), name=\"restecg\", dtype=\"int64\")\n",
    "    exang = tf.keras.Input(shape=(1,), name=\"exang\", dtype=\"int64\")\n",
    "    ca = tf.keras.Input(shape=(1,), name=\"ca\", dtype=\"int64\")\n",
    "\n",
    "    # Categorical feature encoded as string\n",
    "    thal = tf.keras.Input(shape=(1,), name=\"thal\", dtype=\"string\")\n",
    "\n",
    "    # Numerical features\n",
    "    age = tf.keras.Input(shape=(1,), name=\"age\")\n",
    "    trestbps = tf.keras.Input(shape=(1,), name=\"trestbps\")\n",
    "    chol = tf.keras.Input(shape=(1,), name=\"chol\")\n",
    "    thalach = tf.keras.Input(shape=(1,), name=\"thalach\")\n",
    "    oldpeak = tf.keras.Input(shape=(1,), name=\"oldpeak\")\n",
    "    slope = tf.keras.Input(shape=(1,), name=\"slope\")\n",
    "\n",
    "    all_inputs = [\n",
    "        sex,\n",
    "        cp,\n",
    "        fbs,\n",
    "        restecg,\n",
    "        exang,\n",
    "        ca,\n",
    "        thal,\n",
    "        age,\n",
    "        trestbps,\n",
    "        chol,\n",
    "        thalach,\n",
    "        oldpeak,\n",
    "        slope,\n",
    "    ]\n",
    "\n",
    "    # Integer categorical features\n",
    "    sex_encoded = encode_categorical_feature(sex, \"sex\", train_ds, False)\n",
    "    cp_encoded = encode_categorical_feature(cp, \"cp\", train_ds, False)\n",
    "    fbs_encoded = encode_categorical_feature(fbs, \"fbs\", train_ds, False)\n",
    "    restecg_encoded = encode_categorical_feature(restecg, \"restecg\", train_ds, False)\n",
    "    exang_encoded = encode_categorical_feature(exang, \"exang\", train_ds, False)\n",
    "    ca_encoded = encode_categorical_feature(ca, \"ca\", train_ds, False)\n",
    "\n",
    "    # String categorical features\n",
    "    thal_encoded = encode_categorical_feature(thal, \"thal\", train_ds, True)\n",
    "\n",
    "    # Numerical features\n",
    "    age_encoded = encode_numerical_feature(age, \"age\", train_ds)\n",
    "    trestbps_encoded = encode_numerical_feature(trestbps, \"trestbps\", train_ds)\n",
    "    chol_encoded = encode_numerical_feature(chol, \"chol\", train_ds)\n",
    "    thalach_encoded = encode_numerical_feature(thalach, \"thalach\", train_ds)\n",
    "    oldpeak_encoded = encode_numerical_feature(oldpeak, \"oldpeak\", train_ds)\n",
    "    slope_encoded = encode_numerical_feature(slope, \"slope\", train_ds)\n",
    "\n",
    "    all_features = tf.keras.layers.concatenate(\n",
    "        [\n",
    "            sex_encoded,\n",
    "            cp_encoded,\n",
    "            fbs_encoded,\n",
    "            restecg_encoded,\n",
    "            exang_encoded,\n",
    "            slope_encoded,\n",
    "            ca_encoded,\n",
    "            thal_encoded,\n",
    "            age_encoded,\n",
    "            trestbps_encoded,\n",
    "            chol_encoded,\n",
    "            thalach_encoded,\n",
    "            oldpeak_encoded,\n",
    "        ]\n",
    "    )\n",
    "    x = tf.keras.layers.Dense(config[\"units\"], activation=config[\"activation\"])(\n",
    "        all_features\n",
    "    )\n",
    "\n",
    "    ### START - NEW LINES\n",
    "    if config.get(\"dense_2\", False):\n",
    "        x = tf.keras.layers.Dense(config[\"dense_2:units\"], activation=config[\"dense_2:activation\"])(x)\n",
    "    ### END - NEW LINES\n",
    "\n",
    "    x = tf.keras.layers.Dropout(config[\"dropout_rate\"])(x)\n",
    "    output = tf.keras.layers.Dense(1, activation=\"sigmoid\")(x)\n",
    "    model = tf.keras.Model(all_inputs, output)\n",
    "\n",
    "    optimizer = tf.keras.optimizers.Adam(learning_rate=config[\"learning_rate\"])\n",
    "    model.compile(optimizer, \"binary_crossentropy\", metrics=[\"accuracy\"])\n",
    "\n",
    "    history = model.fit(\n",
    "        train_ds, epochs=config[\"num_epochs\"], validation_data=val_ds, verbose=0\n",
    "    )\n",
    "\n",
    "    return history.history[\"val_accuracy\"][-1]"
   ]
  },
  {
   "cell_type": "markdown",
   "id": "5df1c9fb",
   "metadata": {
    "id": "5df1c9fb"
   },
   "source": [
    "To define conditionnal hyperparameters we use [ConfigSpace](https://automl.github.io/ConfigSpace/master/index.html). We define `dense_2:units` and `dense_2:activation` as active hyperparameters only when `dense_2 == True`. The `cs.EqualsCondition` help us do that. Then we call\n",
    "\n",
    "```python\n",
    "problem_with_condition.add_condition(condition)\n",
    "```\n",
    "\n",
    "to register each new condition to the `HpProblem`."
   ]
  },
  {
   "cell_type": "code",
   "execution_count": 21,
   "id": "4cda0275",
   "metadata": {
    "ExecuteTime": {
     "end_time": "2021-10-06T14:15:41.846465Z",
     "start_time": "2021-10-06T14:15:41.831051Z"
    },
    "colab": {
     "base_uri": "https://localhost:8080/"
    },
    "execution": {
     "iopub.execute_input": "2021-10-05T13:31:13.593610Z",
     "iopub.status.busy": "2021-10-05T13:31:13.593319Z",
     "iopub.status.idle": "2021-10-05T13:31:13.618632Z",
     "shell.execute_reply": "2021-10-05T13:31:13.618023Z",
     "shell.execute_reply.started": "2021-10-05T13:31:13.593579Z"
    },
    "id": "4cda0275",
    "outputId": "6b0c9ec6-7dec-4fce-8a8d-090b380411fc"
   },
   "outputs": [
    {
     "data": {
      "text/plain": [
       "Configuration space object:\n",
       "  Hyperparameters:\n",
       "    activation, Type: Categorical, Choices: {elu, gelu, hard_sigmoid, linear, relu, selu, sigmoid, softplus, softsign, swish, tanh}, Default: elu\n",
       "    batch_size, Type: UniformInteger, Range: [8, 256], Default: 45, on log-scale\n",
       "    dense_2, Type: Categorical, Choices: {True, False}, Default: True\n",
       "    dense_2:activation, Type: Categorical, Choices: {elu, gelu, hard_sigmoid, linear, relu, selu, sigmoid, softplus, softsign, swish, tanh}, Default: elu\n",
       "    dense_2:units, Type: UniformInteger, Range: [8, 128], Default: 68\n",
       "    dropout_rate, Type: UniformFloat, Range: [0.0, 0.6], Default: 0.3\n",
       "    learning_rate, Type: UniformFloat, Range: [1e-05, 0.01], Default: 0.0003162278, on log-scale\n",
       "    num_epochs, Type: UniformInteger, Range: [10, 100], Default: 55\n",
       "    units, Type: UniformInteger, Range: [8, 128], Default: 68\n",
       "  Conditions:\n",
       "    dense_2:activation | dense_2 == True\n",
       "    dense_2:units | dense_2 == True"
      ]
     },
     "execution_count": 21,
     "metadata": {},
     "output_type": "execute_result"
    }
   ],
   "source": [
    "from deephyper.problem import EqualsCondition\n",
    "\n",
    "# Define the hyperparameter problem\n",
    "problem_with_condition = HpProblem()\n",
    "\n",
    "\n",
    "# Define the same hyperparameters as before\n",
    "problem_with_condition.add_hyperparameter((8, 128), \"units\")\n",
    "problem_with_condition.add_hyperparameter(ACTIVATIONS, \"activation\")\n",
    "problem_with_condition.add_hyperparameter((0.0, 0.6), \"dropout_rate\")\n",
    "problem_with_condition.add_hyperparameter((10, 100), \"num_epochs\")\n",
    "problem_with_condition.add_hyperparameter((8, 256, \"log-uniform\"), \"batch_size\")\n",
    "problem_with_condition.add_hyperparameter((1e-5, 1e-2, \"log-uniform\"), \"learning_rate\")\n",
    "\n",
    "\n",
    "# Add a new hyperparameter \"dense_2 (bool)\" to decide if a second fully-connected layer should be created\n",
    "hp_dense_2 = problem_with_condition.add_hyperparameter([True, False], \"dense_2\")\n",
    "hp_dense_2_units = problem_with_condition.add_hyperparameter((8, 128), \"dense_2:units\")\n",
    "hp_dense_2_activation = problem_with_condition.add_hyperparameter(ACTIVATIONS, \"dense_2:activation\")\n",
    "\n",
    "problem_with_condition.add_condition(EqualsCondition(hp_dense_2_units, hp_dense_2, True))\n",
    "problem_with_condition.add_condition(EqualsCondition(hp_dense_2_activation, hp_dense_2, True))\n",
    "\n",
    "\n",
    "problem_with_condition"
   ]
  },
  {
   "cell_type": "markdown",
   "id": "fc027194",
   "metadata": {
    "id": "fc027194"
   },
   "source": [
    "We create a new evaluator `evaluator_3` and start a fresh AMBS search with this new problem `problem_with_condition`."
   ]
  },
  {
   "cell_type": "code",
   "execution_count": 22,
   "id": "70192b13",
   "metadata": {
    "ExecuteTime": {
     "end_time": "2021-10-06T14:15:44.701082Z",
     "start_time": "2021-10-06T14:15:44.697400Z"
    },
    "colab": {
     "base_uri": "https://localhost:8080/"
    },
    "execution": {
     "iopub.execute_input": "2021-10-05T13:31:15.311474Z",
     "iopub.status.busy": "2021-10-05T13:31:15.311234Z",
     "iopub.status.idle": "2021-10-05T13:31:15.318532Z",
     "shell.execute_reply": "2021-10-05T13:31:15.317880Z",
     "shell.execute_reply.started": "2021-10-05T13:31:15.311445Z"
    },
    "id": "70192b13",
    "outputId": "0120bd99-3331-4160-a0ac-ec0d259a5793"
   },
   "outputs": [
    {
     "name": "stderr",
     "output_type": "stream",
     "text": [
      "/Users/romainegele/Documents/Argonne/deephyper/deephyper/evaluator/_evaluator.py:99: UserWarning: Applying nest-asyncio patch for IPython Shell!\n",
      "  warnings.warn(\n"
     ]
    },
    {
     "name": "stdout",
     "output_type": "stream",
     "text": [
      "Created new evaluator with 1 worker and config: {'num_cpus': 1, 'num_cpus_per_task': 1, 'callbacks': [<deephyper.evaluator.callback.TqdmCallback object at 0x341d4e970>]}\n"
     ]
    }
   ],
   "source": [
    "evaluator_3 = get_evaluator(run_with_condition)\n",
    "\n",
    "search_with_condition = CBO(problem_with_condition, evaluator_3)"
   ]
  },
  {
   "cell_type": "code",
   "execution_count": 23,
   "id": "7705a8a1",
   "metadata": {
    "ExecuteTime": {
     "end_time": "2021-10-05T17:39:39.208415Z",
     "start_time": "2021-10-05T17:38:35.828400Z"
    },
    "colab": {
     "base_uri": "https://localhost:8080/"
    },
    "execution": {
     "iopub.execute_input": "2021-10-05T13:31:16.432178Z",
     "iopub.status.busy": "2021-10-05T13:31:16.431994Z",
     "iopub.status.idle": "2021-10-05T13:33:02.931919Z",
     "shell.execute_reply": "2021-10-05T13:33:02.931400Z",
     "shell.execute_reply.started": "2021-10-05T13:31:16.432154Z"
    },
    "id": "7705a8a1",
    "outputId": "fb19dd74-832d-464a-9b23-414cc89b9678"
   },
   "outputs": [
    {
     "name": "stderr",
     "output_type": "stream",
     "text": [
      "\n",
      "\u001b[A\n",
      "\u001b[A\n",
      "\u001b[A\n",
      "\u001b[A\n",
      "\u001b[A\n",
      "\u001b[A\n",
      "\u001b[A\n",
      "\u001b[A\n",
      "\u001b[A\n",
      "\u001b[A\n",
      "\u001b[A\n",
      "\u001b[A\n",
      "\u001b[A\n",
      "\u001b[A\n",
      "\u001b[A\n",
      "\u001b[A\n",
      "\u001b[A\n",
      "\u001b[A\n",
      "\u001b[A\n",
      "\u001b[A"
     ]
    }
   ],
   "source": [
    "results_with_condition = search_with_condition.search(max_evals=10)"
   ]
  },
  {
   "cell_type": "code",
   "execution_count": 24,
   "id": "4764b947",
   "metadata": {
    "ExecuteTime": {
     "end_time": "2021-10-05T17:39:39.253697Z",
     "start_time": "2021-10-05T17:39:39.235644Z"
    },
    "colab": {
     "base_uri": "https://localhost:8080/",
     "height": 363
    },
    "execution": {
     "iopub.execute_input": "2021-10-05T13:33:02.932935Z",
     "iopub.status.busy": "2021-10-05T13:33:02.932760Z",
     "iopub.status.idle": "2021-10-05T13:33:02.950032Z",
     "shell.execute_reply": "2021-10-05T13:33:02.949499Z",
     "shell.execute_reply.started": "2021-10-05T13:33:02.932912Z"
    },
    "id": "4764b947",
    "outputId": "3ad6ada2-e753-44dd-dfe8-1188e2f08eb6"
   },
   "outputs": [
    {
     "data": {
      "text/html": [
       "<div>\n",
       "<style scoped>\n",
       "    .dataframe tbody tr th:only-of-type {\n",
       "        vertical-align: middle;\n",
       "    }\n",
       "\n",
       "    .dataframe tbody tr th {\n",
       "        vertical-align: top;\n",
       "    }\n",
       "\n",
       "    .dataframe thead th {\n",
       "        text-align: right;\n",
       "    }\n",
       "</style>\n",
       "<table border=\"1\" class=\"dataframe\">\n",
       "  <thead>\n",
       "    <tr style=\"text-align: right;\">\n",
       "      <th></th>\n",
       "      <th>activation</th>\n",
       "      <th>batch_size</th>\n",
       "      <th>dense_2</th>\n",
       "      <th>dropout_rate</th>\n",
       "      <th>learning_rate</th>\n",
       "      <th>num_epochs</th>\n",
       "      <th>units</th>\n",
       "      <th>dense_2:activation</th>\n",
       "      <th>dense_2:units</th>\n",
       "      <th>job_id</th>\n",
       "      <th>objective</th>\n",
       "      <th>timestamp_submit</th>\n",
       "      <th>timestamp_gather</th>\n",
       "    </tr>\n",
       "  </thead>\n",
       "  <tbody>\n",
       "    <tr>\n",
       "      <th>0</th>\n",
       "      <td>gelu</td>\n",
       "      <td>24</td>\n",
       "      <td>False</td>\n",
       "      <td>0.522131</td>\n",
       "      <td>0.001057</td>\n",
       "      <td>44</td>\n",
       "      <td>8</td>\n",
       "      <td>NaN</td>\n",
       "      <td>NaN</td>\n",
       "      <td>1</td>\n",
       "      <td>0.836066</td>\n",
       "      <td>3.763403</td>\n",
       "      <td>5.403222</td>\n",
       "    </tr>\n",
       "    <tr>\n",
       "      <th>1</th>\n",
       "      <td>softsign</td>\n",
       "      <td>47</td>\n",
       "      <td>True</td>\n",
       "      <td>0.377181</td>\n",
       "      <td>0.000019</td>\n",
       "      <td>47</td>\n",
       "      <td>127</td>\n",
       "      <td>elu</td>\n",
       "      <td>75.0</td>\n",
       "      <td>2</td>\n",
       "      <td>0.786885</td>\n",
       "      <td>5.769829</td>\n",
       "      <td>7.444927</td>\n",
       "    </tr>\n",
       "    <tr>\n",
       "      <th>2</th>\n",
       "      <td>hard_sigmoid</td>\n",
       "      <td>25</td>\n",
       "      <td>False</td>\n",
       "      <td>0.333931</td>\n",
       "      <td>0.000461</td>\n",
       "      <td>12</td>\n",
       "      <td>33</td>\n",
       "      <td>NaN</td>\n",
       "      <td>NaN</td>\n",
       "      <td>3</td>\n",
       "      <td>0.786885</td>\n",
       "      <td>7.735531</td>\n",
       "      <td>8.905337</td>\n",
       "    </tr>\n",
       "    <tr>\n",
       "      <th>3</th>\n",
       "      <td>softsign</td>\n",
       "      <td>8</td>\n",
       "      <td>True</td>\n",
       "      <td>0.203617</td>\n",
       "      <td>0.000153</td>\n",
       "      <td>77</td>\n",
       "      <td>24</td>\n",
       "      <td>softplus</td>\n",
       "      <td>20.0</td>\n",
       "      <td>4</td>\n",
       "      <td>0.836066</td>\n",
       "      <td>9.270190</td>\n",
       "      <td>12.828704</td>\n",
       "    </tr>\n",
       "    <tr>\n",
       "      <th>4</th>\n",
       "      <td>tanh</td>\n",
       "      <td>232</td>\n",
       "      <td>False</td>\n",
       "      <td>0.544339</td>\n",
       "      <td>0.000236</td>\n",
       "      <td>17</td>\n",
       "      <td>15</td>\n",
       "      <td>NaN</td>\n",
       "      <td>NaN</td>\n",
       "      <td>5</td>\n",
       "      <td>0.245902</td>\n",
       "      <td>13.121197</td>\n",
       "      <td>14.197206</td>\n",
       "    </tr>\n",
       "    <tr>\n",
       "      <th>5</th>\n",
       "      <td>linear</td>\n",
       "      <td>31</td>\n",
       "      <td>True</td>\n",
       "      <td>0.431446</td>\n",
       "      <td>0.002055</td>\n",
       "      <td>27</td>\n",
       "      <td>114</td>\n",
       "      <td>tanh</td>\n",
       "      <td>69.0</td>\n",
       "      <td>6</td>\n",
       "      <td>0.803279</td>\n",
       "      <td>14.490091</td>\n",
       "      <td>15.919840</td>\n",
       "    </tr>\n",
       "    <tr>\n",
       "      <th>6</th>\n",
       "      <td>swish</td>\n",
       "      <td>185</td>\n",
       "      <td>True</td>\n",
       "      <td>0.143728</td>\n",
       "      <td>0.000066</td>\n",
       "      <td>36</td>\n",
       "      <td>126</td>\n",
       "      <td>relu</td>\n",
       "      <td>88.0</td>\n",
       "      <td>7</td>\n",
       "      <td>0.819672</td>\n",
       "      <td>16.282540</td>\n",
       "      <td>17.669768</td>\n",
       "    </tr>\n",
       "    <tr>\n",
       "      <th>7</th>\n",
       "      <td>selu</td>\n",
       "      <td>85</td>\n",
       "      <td>True</td>\n",
       "      <td>0.513058</td>\n",
       "      <td>0.000975</td>\n",
       "      <td>20</td>\n",
       "      <td>24</td>\n",
       "      <td>elu</td>\n",
       "      <td>77.0</td>\n",
       "      <td>8</td>\n",
       "      <td>0.836066</td>\n",
       "      <td>17.957845</td>\n",
       "      <td>19.113598</td>\n",
       "    </tr>\n",
       "    <tr>\n",
       "      <th>8</th>\n",
       "      <td>softplus</td>\n",
       "      <td>256</td>\n",
       "      <td>False</td>\n",
       "      <td>0.541869</td>\n",
       "      <td>0.000032</td>\n",
       "      <td>44</td>\n",
       "      <td>123</td>\n",
       "      <td>NaN</td>\n",
       "      <td>NaN</td>\n",
       "      <td>9</td>\n",
       "      <td>0.213115</td>\n",
       "      <td>19.404429</td>\n",
       "      <td>20.872728</td>\n",
       "    </tr>\n",
       "    <tr>\n",
       "      <th>9</th>\n",
       "      <td>hard_sigmoid</td>\n",
       "      <td>57</td>\n",
       "      <td>True</td>\n",
       "      <td>0.221024</td>\n",
       "      <td>0.000014</td>\n",
       "      <td>77</td>\n",
       "      <td>101</td>\n",
       "      <td>selu</td>\n",
       "      <td>56.0</td>\n",
       "      <td>10</td>\n",
       "      <td>0.770492</td>\n",
       "      <td>21.233461</td>\n",
       "      <td>23.194847</td>\n",
       "    </tr>\n",
       "  </tbody>\n",
       "</table>\n",
       "</div>"
      ],
      "text/plain": [
       "     activation  batch_size  dense_2  dropout_rate  learning_rate  num_epochs  \\\n",
       "0          gelu          24    False      0.522131       0.001057          44   \n",
       "1      softsign          47     True      0.377181       0.000019          47   \n",
       "2  hard_sigmoid          25    False      0.333931       0.000461          12   \n",
       "3      softsign           8     True      0.203617       0.000153          77   \n",
       "4          tanh         232    False      0.544339       0.000236          17   \n",
       "5        linear          31     True      0.431446       0.002055          27   \n",
       "6         swish         185     True      0.143728       0.000066          36   \n",
       "7          selu          85     True      0.513058       0.000975          20   \n",
       "8      softplus         256    False      0.541869       0.000032          44   \n",
       "9  hard_sigmoid          57     True      0.221024       0.000014          77   \n",
       "\n",
       "   units dense_2:activation  dense_2:units  job_id  objective  \\\n",
       "0      8                NaN            NaN       1   0.836066   \n",
       "1    127                elu           75.0       2   0.786885   \n",
       "2     33                NaN            NaN       3   0.786885   \n",
       "3     24           softplus           20.0       4   0.836066   \n",
       "4     15                NaN            NaN       5   0.245902   \n",
       "5    114               tanh           69.0       6   0.803279   \n",
       "6    126               relu           88.0       7   0.819672   \n",
       "7     24                elu           77.0       8   0.836066   \n",
       "8    123                NaN            NaN       9   0.213115   \n",
       "9    101               selu           56.0      10   0.770492   \n",
       "\n",
       "   timestamp_submit  timestamp_gather  \n",
       "0          3.763403          5.403222  \n",
       "1          5.769829          7.444927  \n",
       "2          7.735531          8.905337  \n",
       "3          9.270190         12.828704  \n",
       "4         13.121197         14.197206  \n",
       "5         14.490091         15.919840  \n",
       "6         16.282540         17.669768  \n",
       "7         17.957845         19.113598  \n",
       "8         19.404429         20.872728  \n",
       "9         21.233461         23.194847  "
      ]
     },
     "execution_count": 24,
     "metadata": {},
     "output_type": "execute_result"
    }
   ],
   "source": [
    "results_with_condition"
   ]
  },
  {
   "cell_type": "markdown",
   "id": "63ca8219",
   "metadata": {
    "id": "63ca8219"
   },
   "source": [
    "Finally, let us print out the best configuration found from this conditionned search space."
   ]
  },
  {
   "cell_type": "code",
   "execution_count": 25,
   "id": "34f26be4",
   "metadata": {
    "ExecuteTime": {
     "end_time": "2021-10-05T17:39:41.791938Z",
     "start_time": "2021-10-05T17:39:41.784904Z"
    },
    "colab": {
     "base_uri": "https://localhost:8080/"
    },
    "execution": {
     "iopub.execute_input": "2021-10-05T13:33:02.951023Z",
     "iopub.status.busy": "2021-10-05T13:33:02.950816Z",
     "iopub.status.idle": "2021-10-05T13:33:03.295308Z",
     "shell.execute_reply": "2021-10-05T13:33:03.294708Z",
     "shell.execute_reply.started": "2021-10-05T13:33:02.950999Z"
    },
    "id": "34f26be4",
    "outputId": "df2acd84-1cf1-4ece-ad03-6fce02d5d72e"
   },
   "outputs": [
    {
     "name": "stdout",
     "output_type": "stream",
     "text": [
      "The default configuration has an accuracy of 0.820. The best configuration found by DeepHyper has an accuracy 0.836, finished after 5.40 seconds of search.\n"
     ]
    },
    {
     "data": {
      "text/plain": [
       "{'activation': 'gelu',\n",
       " 'batch_size': 24,\n",
       " 'dense_2': False,\n",
       " 'dropout_rate': 0.5221310827728567,\n",
       " 'learning_rate': 0.0010573740607372,\n",
       " 'num_epochs': 44,\n",
       " 'units': 8,\n",
       " 'dense_2:activation': nan,\n",
       " 'dense_2:units': nan,\n",
       " 'job_id': 1}"
      ]
     },
     "execution_count": 25,
     "metadata": {},
     "output_type": "execute_result"
    }
   ],
   "source": [
    "i_max = results_with_condition.objective.argmax()\n",
    "best_config = results_with_condition.iloc[i_max][:-3].to_dict()\n",
    "\n",
    "print(f\"The default configuration has an accuracy of {objective_default:.3f}. \" \n",
    "      f\"The best configuration found by DeepHyper has an accuracy {results_with_condition['objective'].iloc[i_max]:.3f}, \" \n",
    "      f\"finished after {results_with_condition['timestamp_gather'].iloc[i_max]:.2f} seconds of search.\")\n",
    "\n",
    "best_config"
   ]
  }
 ],
 "metadata": {
  "colab": {
   "name": "tutorial_01.ipynb",
   "provenance": []
  },
  "interpreter": {
   "hash": "9dc039a2a4f4ad8a9dc018393b0776cc00e1bb4d428a37e9ad776085656c6f7f"
  },
  "kernelspec": {
   "display_name": "Python 3.9.13 ('dh-env-test')",
   "language": "python",
   "name": "python3"
  },
  "language_info": {
   "codemirror_mode": {
    "name": "ipython",
    "version": 3
   },
   "file_extension": ".py",
   "mimetype": "text/x-python",
   "name": "python",
   "nbconvert_exporter": "python",
   "pygments_lexer": "ipython3",
   "version": "3.9.13"
  },
  "latex_envs": {
   "LaTeX_envs_menu_present": true,
   "autoclose": false,
   "autocomplete": true,
   "bibliofile": "biblio.bib",
   "cite_by": "apalike",
   "current_citInitial": 1,
   "eqLabelWithNumbers": true,
   "eqNumInitial": 1,
   "hotkeys": {
    "equation": ""
   },
   "labels_anchors": false,
   "latex_user_defs": false,
   "report_style_numbering": false,
   "user_envs_cfg": false
  },
  "nbTranslate": {
   "displayLangs": [
    "*"
   ],
   "hotkey": "alt-t",
   "langInMainMenu": true,
   "sourceLang": "en",
   "targetLang": "fr",
   "useGoogleTranslate": true
  },
  "toc": {
   "base_numbering": 1,
   "nav_menu": {},
   "number_sections": false,
   "sideBar": false,
   "skip_h1_title": true,
   "title_cell": "Table of Contents",
   "title_sidebar": "Contents",
   "toc_cell": true,
   "toc_position": {
    "height": "calc(100% - 180px)",
    "left": "10px",
    "top": "150px",
    "width": "165px"
   },
   "toc_section_display": false,
   "toc_window_display": false
  },
  "varInspector": {
   "cols": {
    "lenName": 16,
    "lenType": 16,
    "lenVar": 40
   },
   "kernels_config": {
    "python": {
     "delete_cmd_postfix": "",
     "delete_cmd_prefix": "del ",
     "library": "var_list.py",
     "varRefreshCmd": "print(var_dic_list())"
    },
    "r": {
     "delete_cmd_postfix": ") ",
     "delete_cmd_prefix": "rm(",
     "library": "var_list.r",
     "varRefreshCmd": "cat(var_dic_list()) "
    }
   },
   "types_to_exclude": [
    "module",
    "function",
    "builtin_function_or_method",
    "instance",
    "_Feature"
   ],
   "window_display": false
  }
 },
 "nbformat": 4,
 "nbformat_minor": 5
}
