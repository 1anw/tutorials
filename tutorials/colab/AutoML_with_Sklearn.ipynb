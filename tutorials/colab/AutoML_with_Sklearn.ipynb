{
  "nbformat": 4,
  "nbformat_minor": 5,
  "metadata": {
    "kernelspec": {
      "display_name": "Python 3 (ipykernel)",
      "language": "python",
      "name": "python3"
    },
    "language_info": {
      "codemirror_mode": {
        "name": "ipython",
        "version": 3
      },
      "file_extension": ".py",
      "mimetype": "text/x-python",
      "name": "python",
      "nbconvert_exporter": "python",
      "pygments_lexer": "ipython3",
      "version": "3.8.11"
    },
    "colab": {
      "name": "AutoML_with_Sklearn.ipynb",
      "provenance": []
    }
  },
  "cells": [
    {
      "cell_type": "markdown",
      "metadata": {
        "id": "84b29a6a"
      },
      "source": [
        "# Automated Machine Learning with Scikit-Learn\n",
        "\n",
        "[![Open In Colab](https://colab.research.google.com/assets/colab-badge.svg)](https://colab.research.google.com/github/deephyper/tutorials/blob/main/tutorials/colab/AutoML_with_Sklearn.ipynb)\n",
        "\n",
        "In this tutorial, we will show how to automatically search among different machine learning algorithms from [Scikit-Learn](https://scikit-learn.org/stable/). Automated machine learning only requires the user to link the data with a predifined problem and run function that we provide.\n",
        "\n",
        "Let us start by installing DeepHyper."
      ],
      "id": "84b29a6a"
    },
    {
      "cell_type": "code",
      "metadata": {
        "id": "f10ffe4b",
        "outputId": "af4e4692-7ca9-4782-8da5-aa0cbf6f3fbb",
        "colab": {
          "base_uri": "https://localhost:8080/"
        }
      },
      "source": [
        "!pip install deephyper"
      ],
      "id": "f10ffe4b",
      "execution_count": 1,
      "outputs": [
        {
          "output_type": "stream",
          "name": "stdout",
          "text": [
            "Requirement already satisfied: deephyper in /usr/local/lib/python3.7/dist-packages (0.3.3)\n",
            "Requirement already satisfied: networkx in /usr/local/lib/python3.7/dist-packages (from deephyper) (2.6.3)\n",
            "Requirement already satisfied: tensorflow>=2.0.0 in /usr/local/lib/python3.7/dist-packages (from deephyper) (2.7.0)\n",
            "Requirement already satisfied: tqdm in /usr/local/lib/python3.7/dist-packages (from deephyper) (4.62.3)\n",
            "Requirement already satisfied: statsmodels in /usr/local/lib/python3.7/dist-packages (from deephyper) (0.10.2)\n",
            "Requirement already satisfied: scikit-learn>=0.23.1 in /usr/local/lib/python3.7/dist-packages (from deephyper) (1.0.1)\n",
            "Requirement already satisfied: pydot in /usr/local/lib/python3.7/dist-packages (from deephyper) (1.3.0)\n",
            "Requirement already satisfied: pandas>=0.24.2 in /usr/local/lib/python3.7/dist-packages (from deephyper) (1.1.5)\n",
            "Requirement already satisfied: tensorflow-probability in /usr/local/lib/python3.7/dist-packages (from deephyper) (0.14.1)\n",
            "Requirement already satisfied: ray[default]>=1.3.0 in /usr/local/lib/python3.7/dist-packages (from deephyper) (1.8.0)\n",
            "Requirement already satisfied: xgboost in /usr/local/lib/python3.7/dist-packages (from deephyper) (0.90)\n",
            "Requirement already satisfied: matplotlib>=3.0.3 in /usr/local/lib/python3.7/dist-packages (from deephyper) (3.2.2)\n",
            "Requirement already satisfied: numpy in /usr/local/lib/python3.7/dist-packages (from deephyper) (1.19.5)\n",
            "Requirement already satisfied: Jinja2 in /usr/local/lib/python3.7/dist-packages (from deephyper) (2.11.3)\n",
            "Requirement already satisfied: typeguard in /usr/local/lib/python3.7/dist-packages (from deephyper) (2.7.1)\n",
            "Requirement already satisfied: dh-scikit-optimize==0.9.4 in /usr/local/lib/python3.7/dist-packages (from deephyper) (0.9.4)\n",
            "Requirement already satisfied: joblib>=0.10.3 in /usr/local/lib/python3.7/dist-packages (from deephyper) (1.1.0)\n",
            "Requirement already satisfied: openml==0.10.2 in /usr/local/lib/python3.7/dist-packages (from deephyper) (0.10.2)\n",
            "Requirement already satisfied: ConfigSpace>=0.4.18 in /usr/local/lib/python3.7/dist-packages (from deephyper) (0.4.20)\n",
            "Requirement already satisfied: pyaml>=16.9 in /usr/local/lib/python3.7/dist-packages (from dh-scikit-optimize==0.9.4->deephyper) (21.10.1)\n",
            "Requirement already satisfied: scipy>=0.19.1 in /usr/local/lib/python3.7/dist-packages (from dh-scikit-optimize==0.9.4->deephyper) (1.4.1)\n",
            "Requirement already satisfied: liac-arff>=2.4.0 in /usr/local/lib/python3.7/dist-packages (from openml==0.10.2->deephyper) (2.5.0)\n",
            "Requirement already satisfied: xmltodict in /usr/local/lib/python3.7/dist-packages (from openml==0.10.2->deephyper) (0.12.0)\n",
            "Requirement already satisfied: requests in /usr/local/lib/python3.7/dist-packages (from openml==0.10.2->deephyper) (2.23.0)\n",
            "Requirement already satisfied: python-dateutil in /usr/local/lib/python3.7/dist-packages (from openml==0.10.2->deephyper) (2.8.2)\n",
            "Requirement already satisfied: pyparsing in /usr/local/lib/python3.7/dist-packages (from ConfigSpace>=0.4.18->deephyper) (2.4.7)\n",
            "Requirement already satisfied: cython in /usr/local/lib/python3.7/dist-packages (from ConfigSpace>=0.4.18->deephyper) (0.29.24)\n",
            "Requirement already satisfied: kiwisolver>=1.0.1 in /usr/local/lib/python3.7/dist-packages (from matplotlib>=3.0.3->deephyper) (1.3.2)\n",
            "Requirement already satisfied: cycler>=0.10 in /usr/local/lib/python3.7/dist-packages (from matplotlib>=3.0.3->deephyper) (0.11.0)\n",
            "Requirement already satisfied: pytz>=2017.2 in /usr/local/lib/python3.7/dist-packages (from pandas>=0.24.2->deephyper) (2018.9)\n",
            "Requirement already satisfied: PyYAML in /usr/local/lib/python3.7/dist-packages (from pyaml>=16.9->dh-scikit-optimize==0.9.4->deephyper) (3.13)\n",
            "Requirement already satisfied: six>=1.5 in /usr/local/lib/python3.7/dist-packages (from python-dateutil->openml==0.10.2->deephyper) (1.15.0)\n",
            "Requirement already satisfied: grpcio>=1.28.1 in /usr/local/lib/python3.7/dist-packages (from ray[default]>=1.3.0->deephyper) (1.41.1)\n",
            "Requirement already satisfied: click>=7.0 in /usr/local/lib/python3.7/dist-packages (from ray[default]>=1.3.0->deephyper) (7.1.2)\n",
            "Requirement already satisfied: protobuf>=3.15.3 in /usr/local/lib/python3.7/dist-packages (from ray[default]>=1.3.0->deephyper) (3.17.3)\n",
            "Requirement already satisfied: redis>=3.5.0 in /usr/local/lib/python3.7/dist-packages (from ray[default]>=1.3.0->deephyper) (4.0.1)\n",
            "Requirement already satisfied: filelock in /usr/local/lib/python3.7/dist-packages (from ray[default]>=1.3.0->deephyper) (3.3.2)\n",
            "Requirement already satisfied: msgpack<2.0.0,>=1.0.0 in /usr/local/lib/python3.7/dist-packages (from ray[default]>=1.3.0->deephyper) (1.0.2)\n",
            "Requirement already satisfied: jsonschema in /usr/local/lib/python3.7/dist-packages (from ray[default]>=1.3.0->deephyper) (2.6.0)\n",
            "Requirement already satisfied: attrs in /usr/local/lib/python3.7/dist-packages (from ray[default]>=1.3.0->deephyper) (21.2.0)\n",
            "Requirement already satisfied: colorful in /usr/local/lib/python3.7/dist-packages (from ray[default]>=1.3.0->deephyper) (0.5.4)\n",
            "Requirement already satisfied: prometheus-client>=0.7.1 in /usr/local/lib/python3.7/dist-packages (from ray[default]>=1.3.0->deephyper) (0.12.0)\n",
            "Requirement already satisfied: aiohttp>=3.7 in /usr/local/lib/python3.7/dist-packages (from ray[default]>=1.3.0->deephyper) (3.8.1)\n",
            "Requirement already satisfied: aioredis<2 in /usr/local/lib/python3.7/dist-packages (from ray[default]>=1.3.0->deephyper) (1.3.1)\n",
            "Requirement already satisfied: aiohttp-cors in /usr/local/lib/python3.7/dist-packages (from ray[default]>=1.3.0->deephyper) (0.7.0)\n",
            "Requirement already satisfied: gpustat>=1.0.0b1 in /usr/local/lib/python3.7/dist-packages (from ray[default]>=1.3.0->deephyper) (1.0.0b1)\n",
            "Requirement already satisfied: py-spy>=0.2.0 in /usr/local/lib/python3.7/dist-packages (from ray[default]>=1.3.0->deephyper) (0.3.11)\n",
            "Requirement already satisfied: opencensus in /usr/local/lib/python3.7/dist-packages (from ray[default]>=1.3.0->deephyper) (0.8.0)\n",
            "Requirement already satisfied: aiosignal>=1.1.2 in /usr/local/lib/python3.7/dist-packages (from aiohttp>=3.7->ray[default]>=1.3.0->deephyper) (1.2.0)\n",
            "Requirement already satisfied: yarl<2.0,>=1.0 in /usr/local/lib/python3.7/dist-packages (from aiohttp>=3.7->ray[default]>=1.3.0->deephyper) (1.7.2)\n",
            "Requirement already satisfied: typing-extensions>=3.7.4 in /usr/local/lib/python3.7/dist-packages (from aiohttp>=3.7->ray[default]>=1.3.0->deephyper) (3.10.0.2)\n",
            "Requirement already satisfied: async-timeout<5.0,>=4.0.0a3 in /usr/local/lib/python3.7/dist-packages (from aiohttp>=3.7->ray[default]>=1.3.0->deephyper) (4.0.1)\n",
            "Requirement already satisfied: charset-normalizer<3.0,>=2.0 in /usr/local/lib/python3.7/dist-packages (from aiohttp>=3.7->ray[default]>=1.3.0->deephyper) (2.0.7)\n",
            "Requirement already satisfied: asynctest==0.13.0 in /usr/local/lib/python3.7/dist-packages (from aiohttp>=3.7->ray[default]>=1.3.0->deephyper) (0.13.0)\n",
            "Requirement already satisfied: frozenlist>=1.1.1 in /usr/local/lib/python3.7/dist-packages (from aiohttp>=3.7->ray[default]>=1.3.0->deephyper) (1.2.0)\n",
            "Requirement already satisfied: multidict<7.0,>=4.5 in /usr/local/lib/python3.7/dist-packages (from aiohttp>=3.7->ray[default]>=1.3.0->deephyper) (5.2.0)\n",
            "Requirement already satisfied: hiredis in /usr/local/lib/python3.7/dist-packages (from aioredis<2->ray[default]>=1.3.0->deephyper) (2.0.0)\n",
            "Requirement already satisfied: blessed>=1.17.1 in /usr/local/lib/python3.7/dist-packages (from gpustat>=1.0.0b1->ray[default]>=1.3.0->deephyper) (1.19.0)\n",
            "Requirement already satisfied: nvidia-ml-py3>=7.352.0 in /usr/local/lib/python3.7/dist-packages (from gpustat>=1.0.0b1->ray[default]>=1.3.0->deephyper) (7.352.0)\n",
            "Requirement already satisfied: psutil in /usr/local/lib/python3.7/dist-packages (from gpustat>=1.0.0b1->ray[default]>=1.3.0->deephyper) (5.4.8)\n",
            "Requirement already satisfied: wcwidth>=0.1.4 in /usr/local/lib/python3.7/dist-packages (from blessed>=1.17.1->gpustat>=1.0.0b1->ray[default]>=1.3.0->deephyper) (0.2.5)\n",
            "Requirement already satisfied: deprecated in /usr/local/lib/python3.7/dist-packages (from redis>=3.5.0->ray[default]>=1.3.0->deephyper) (1.2.13)\n",
            "Requirement already satisfied: threadpoolctl>=2.0.0 in /usr/local/lib/python3.7/dist-packages (from scikit-learn>=0.23.1->deephyper) (3.0.0)\n",
            "Requirement already satisfied: flatbuffers<3.0,>=1.12 in /usr/local/lib/python3.7/dist-packages (from tensorflow>=2.0.0->deephyper) (2.0)\n",
            "Requirement already satisfied: keras<2.8,>=2.7.0rc0 in /usr/local/lib/python3.7/dist-packages (from tensorflow>=2.0.0->deephyper) (2.7.0)\n",
            "Requirement already satisfied: wheel<1.0,>=0.32.0 in /usr/local/lib/python3.7/dist-packages (from tensorflow>=2.0.0->deephyper) (0.37.0)\n",
            "Requirement already satisfied: libclang>=9.0.1 in /usr/local/lib/python3.7/dist-packages (from tensorflow>=2.0.0->deephyper) (12.0.0)\n",
            "Requirement already satisfied: h5py>=2.9.0 in /usr/local/lib/python3.7/dist-packages (from tensorflow>=2.0.0->deephyper) (3.1.0)\n",
            "Requirement already satisfied: opt-einsum>=2.3.2 in /usr/local/lib/python3.7/dist-packages (from tensorflow>=2.0.0->deephyper) (3.3.0)\n",
            "Requirement already satisfied: keras-preprocessing>=1.1.1 in /usr/local/lib/python3.7/dist-packages (from tensorflow>=2.0.0->deephyper) (1.1.2)\n",
            "Requirement already satisfied: tensorflow-estimator<2.8,~=2.7.0rc0 in /usr/local/lib/python3.7/dist-packages (from tensorflow>=2.0.0->deephyper) (2.7.0)\n",
            "Requirement already satisfied: tensorflow-io-gcs-filesystem>=0.21.0 in /usr/local/lib/python3.7/dist-packages (from tensorflow>=2.0.0->deephyper) (0.22.0)\n",
            "Requirement already satisfied: google-pasta>=0.1.1 in /usr/local/lib/python3.7/dist-packages (from tensorflow>=2.0.0->deephyper) (0.2.0)\n",
            "Requirement already satisfied: astunparse>=1.6.0 in /usr/local/lib/python3.7/dist-packages (from tensorflow>=2.0.0->deephyper) (1.6.3)\n",
            "Requirement already satisfied: termcolor>=1.1.0 in /usr/local/lib/python3.7/dist-packages (from tensorflow>=2.0.0->deephyper) (1.1.0)\n",
            "Requirement already satisfied: tensorboard~=2.6 in /usr/local/lib/python3.7/dist-packages (from tensorflow>=2.0.0->deephyper) (2.7.0)\n",
            "Requirement already satisfied: wrapt>=1.11.0 in /usr/local/lib/python3.7/dist-packages (from tensorflow>=2.0.0->deephyper) (1.13.3)\n",
            "Requirement already satisfied: absl-py>=0.4.0 in /usr/local/lib/python3.7/dist-packages (from tensorflow>=2.0.0->deephyper) (0.12.0)\n",
            "Requirement already satisfied: gast<0.5.0,>=0.2.1 in /usr/local/lib/python3.7/dist-packages (from tensorflow>=2.0.0->deephyper) (0.4.0)\n",
            "Requirement already satisfied: cached-property in /usr/local/lib/python3.7/dist-packages (from h5py>=2.9.0->tensorflow>=2.0.0->deephyper) (1.5.2)\n",
            "Requirement already satisfied: markdown>=2.6.8 in /usr/local/lib/python3.7/dist-packages (from tensorboard~=2.6->tensorflow>=2.0.0->deephyper) (3.3.4)\n",
            "Requirement already satisfied: tensorboard-data-server<0.7.0,>=0.6.0 in /usr/local/lib/python3.7/dist-packages (from tensorboard~=2.6->tensorflow>=2.0.0->deephyper) (0.6.1)\n",
            "Requirement already satisfied: tensorboard-plugin-wit>=1.6.0 in /usr/local/lib/python3.7/dist-packages (from tensorboard~=2.6->tensorflow>=2.0.0->deephyper) (1.8.0)\n",
            "Requirement already satisfied: werkzeug>=0.11.15 in /usr/local/lib/python3.7/dist-packages (from tensorboard~=2.6->tensorflow>=2.0.0->deephyper) (1.0.1)\n",
            "Requirement already satisfied: setuptools>=41.0.0 in /usr/local/lib/python3.7/dist-packages (from tensorboard~=2.6->tensorflow>=2.0.0->deephyper) (57.4.0)\n",
            "Requirement already satisfied: google-auth<3,>=1.6.3 in /usr/local/lib/python3.7/dist-packages (from tensorboard~=2.6->tensorflow>=2.0.0->deephyper) (1.35.0)\n",
            "Requirement already satisfied: google-auth-oauthlib<0.5,>=0.4.1 in /usr/local/lib/python3.7/dist-packages (from tensorboard~=2.6->tensorflow>=2.0.0->deephyper) (0.4.6)\n",
            "Requirement already satisfied: rsa<5,>=3.1.4 in /usr/local/lib/python3.7/dist-packages (from google-auth<3,>=1.6.3->tensorboard~=2.6->tensorflow>=2.0.0->deephyper) (4.7.2)\n",
            "Requirement already satisfied: pyasn1-modules>=0.2.1 in /usr/local/lib/python3.7/dist-packages (from google-auth<3,>=1.6.3->tensorboard~=2.6->tensorflow>=2.0.0->deephyper) (0.2.8)\n",
            "Requirement already satisfied: cachetools<5.0,>=2.0.0 in /usr/local/lib/python3.7/dist-packages (from google-auth<3,>=1.6.3->tensorboard~=2.6->tensorflow>=2.0.0->deephyper) (4.2.4)\n",
            "Requirement already satisfied: requests-oauthlib>=0.7.0 in /usr/local/lib/python3.7/dist-packages (from google-auth-oauthlib<0.5,>=0.4.1->tensorboard~=2.6->tensorflow>=2.0.0->deephyper) (1.3.0)\n",
            "Requirement already satisfied: importlib-metadata in /usr/local/lib/python3.7/dist-packages (from markdown>=2.6.8->tensorboard~=2.6->tensorflow>=2.0.0->deephyper) (4.8.2)\n",
            "Requirement already satisfied: pyasn1<0.5.0,>=0.4.6 in /usr/local/lib/python3.7/dist-packages (from pyasn1-modules>=0.2.1->google-auth<3,>=1.6.3->tensorboard~=2.6->tensorflow>=2.0.0->deephyper) (0.4.8)\n",
            "Requirement already satisfied: chardet<4,>=3.0.2 in /usr/local/lib/python3.7/dist-packages (from requests->openml==0.10.2->deephyper) (3.0.4)\n",
            "Requirement already satisfied: idna<3,>=2.5 in /usr/local/lib/python3.7/dist-packages (from requests->openml==0.10.2->deephyper) (2.10)\n",
            "Requirement already satisfied: urllib3!=1.25.0,!=1.25.1,<1.26,>=1.21.1 in /usr/local/lib/python3.7/dist-packages (from requests->openml==0.10.2->deephyper) (1.24.3)\n",
            "Requirement already satisfied: certifi>=2017.4.17 in /usr/local/lib/python3.7/dist-packages (from requests->openml==0.10.2->deephyper) (2021.10.8)\n",
            "Requirement already satisfied: oauthlib>=3.0.0 in /usr/local/lib/python3.7/dist-packages (from requests-oauthlib>=0.7.0->google-auth-oauthlib<0.5,>=0.4.1->tensorboard~=2.6->tensorflow>=2.0.0->deephyper) (3.1.1)\n",
            "Requirement already satisfied: zipp>=0.5 in /usr/local/lib/python3.7/dist-packages (from importlib-metadata->markdown>=2.6.8->tensorboard~=2.6->tensorflow>=2.0.0->deephyper) (3.6.0)\n",
            "Requirement already satisfied: MarkupSafe>=0.23 in /usr/local/lib/python3.7/dist-packages (from Jinja2->deephyper) (2.0.1)\n",
            "Requirement already satisfied: opencensus-context==0.1.2 in /usr/local/lib/python3.7/dist-packages (from opencensus->ray[default]>=1.3.0->deephyper) (0.1.2)\n",
            "Requirement already satisfied: google-api-core<3.0.0,>=1.0.0 in /usr/local/lib/python3.7/dist-packages (from opencensus->ray[default]>=1.3.0->deephyper) (1.26.3)\n",
            "Requirement already satisfied: googleapis-common-protos<2.0dev,>=1.6.0 in /usr/local/lib/python3.7/dist-packages (from google-api-core<3.0.0,>=1.0.0->opencensus->ray[default]>=1.3.0->deephyper) (1.53.0)\n",
            "Requirement already satisfied: packaging>=14.3 in /usr/local/lib/python3.7/dist-packages (from google-api-core<3.0.0,>=1.0.0->opencensus->ray[default]>=1.3.0->deephyper) (21.2)\n",
            "Requirement already satisfied: patsy>=0.4.0 in /usr/local/lib/python3.7/dist-packages (from statsmodels->deephyper) (0.5.2)\n",
            "Requirement already satisfied: cloudpickle>=1.3 in /usr/local/lib/python3.7/dist-packages (from tensorflow-probability->deephyper) (1.3.0)\n",
            "Requirement already satisfied: dm-tree in /usr/local/lib/python3.7/dist-packages (from tensorflow-probability->deephyper) (0.1.6)\n",
            "Requirement already satisfied: decorator in /usr/local/lib/python3.7/dist-packages (from tensorflow-probability->deephyper) (4.4.2)\n"
          ]
        }
      ]
    },
    {
      "cell_type": "markdown",
      "metadata": {
        "id": "78d70731"
      },
      "source": [
        "<div class=\"alert alert-warning\">\n",
        "\n",
        "<b>Warning</b>\n",
        "    \n",
        "By design asyncio does not allow nested event loops. Jupyter is using Tornado which already starts an event loop. Therefore the following patch is required to run this tutorial.\n",
        "    \n",
        "</div>"
      ],
      "id": "78d70731"
    },
    {
      "cell_type": "code",
      "metadata": {
        "id": "84dd41a6",
        "outputId": "072b903b-2631-4ed5-8b64-795b1966c409",
        "colab": {
          "base_uri": "https://localhost:8080/"
        }
      },
      "source": [
        "!pip install nest_asyncio\n",
        "\n",
        "import nest_asyncio\n",
        "nest_asyncio.apply()"
      ],
      "id": "84dd41a6",
      "execution_count": 2,
      "outputs": [
        {
          "output_type": "stream",
          "name": "stdout",
          "text": [
            "Requirement already satisfied: nest_asyncio in /usr/local/lib/python3.7/dist-packages (1.5.1)\n"
          ]
        }
      ]
    },
    {
      "cell_type": "markdown",
      "metadata": {
        "id": "57b226bd"
      },
      "source": [
        "## Classification\n",
        "\n",
        "On this part of the tutorial we focus on the classification case.\n",
        "\n",
        "Create `run` function to train and evaluate the model corresponding to the configuration generated by the search. This function has to return a scalar value (typically, validation accuracy), which will be maximized by the search algorithm. In the case of *automated machine learning* we use the `run` function provided at `deephyper.sklearn.classifier.run_autosklearn1` and wrap it with our data such as:"
      ],
      "id": "57b226bd"
    },
    {
      "cell_type": "code",
      "metadata": {
        "id": "a47214b3"
      },
      "source": [
        "from deephyper.sklearn.classifier import run_autosklearn1\n",
        "\n",
        "\n",
        "def load_data():\n",
        "    from sklearn.datasets import load_breast_cancer\n",
        "\n",
        "    X, y = load_breast_cancer(return_X_y=True)\n",
        "\n",
        "    return X, y\n",
        "\n",
        "\n",
        "def run(config):\n",
        "    return run_autosklearn1(config, load_data)"
      ],
      "id": "a47214b3",
      "execution_count": 3,
      "outputs": []
    },
    {
      "cell_type": "markdown",
      "metadata": {
        "id": "4b325396"
      },
      "source": [
        "We are ready to go! But, let us look at the problem provided by DeepHyper in `deephyper.sklearn.classifier.problem_autosklearn1` to understand better what is happening under the hood."
      ],
      "id": "4b325396"
    },
    {
      "cell_type": "code",
      "metadata": {
        "id": "00027653",
        "outputId": "4203ef0e-2ae0-4047-e74d-8cc593a498fc",
        "colab": {
          "base_uri": "https://localhost:8080/"
        }
      },
      "source": [
        "from deephyper.sklearn.classifier import problem_autosklearn1\n",
        "\n",
        "problem_autosklearn1"
      ],
      "id": "00027653",
      "execution_count": 4,
      "outputs": [
        {
          "output_type": "execute_result",
          "data": {
            "text/plain": [
              "Configuration space object:\n",
              "  Hyperparameters:\n",
              "    C, Type: UniformFloat, Range: [1e-05, 10.0], Default: 0.01, on log-scale\n",
              "    alpha, Type: UniformFloat, Range: [1e-05, 10.0], Default: 0.01, on log-scale\n",
              "    classifier, Type: Categorical, Choices: {RandomForest, Logistic, AdaBoost, KNeighbors, MLP, SVC, XGBoost}, Default: RandomForest\n",
              "    gamma, Type: UniformFloat, Range: [1e-05, 10.0], Default: 0.01, on log-scale\n",
              "    kernel, Type: Categorical, Choices: {linear, poly, rbf, sigmoid}, Default: linear\n",
              "    max_depth, Type: UniformInteger, Range: [2, 100], Default: 14, on log-scale\n",
              "    n_estimators, Type: UniformInteger, Range: [1, 2000], Default: 45, on log-scale\n",
              "    n_neighbors, Type: UniformInteger, Range: [1, 100], Default: 50\n",
              "  Conditions:\n",
              "    (C | classifier == 'Logistic' || C | classifier == 'SVC')\n",
              "    (gamma | kernel == 'rbf' || gamma | kernel == 'poly' || gamma | kernel == 'sigmoid')\n",
              "    (n_estimators | classifier == 'RandomForest' || n_estimators | classifier == 'AdaBoost')\n",
              "    alpha | classifier == 'MLP'\n",
              "    kernel | classifier == 'SVC'\n",
              "    max_depth | classifier == 'RandomForest'\n",
              "    n_neighbors | classifier == 'KNeighbors'"
            ]
          },
          "metadata": {},
          "execution_count": 4
        }
      ]
    },
    {
      "cell_type": "markdown",
      "metadata": {
        "id": "b452fe5b"
      },
      "source": [
        "Create an `Evaluator` object using the `ray` backend to distribute the evaluation of the run-function defined previously."
      ],
      "id": "b452fe5b"
    },
    {
      "cell_type": "code",
      "metadata": {
        "id": "197f723d",
        "outputId": "88fe87ba-5ef2-4d21-eb4f-33b4f6016d50",
        "colab": {
          "base_uri": "https://localhost:8080/"
        }
      },
      "source": [
        "from deephyper.evaluator import Evaluator\n",
        "from deephyper.evaluator.callback import LoggerCallback\n",
        "\n",
        "evaluator = Evaluator.create(run, \n",
        "                 method=\"ray\", \n",
        "                 method_kwargs={\n",
        "                     \"address\": None, \n",
        "                     \"num_cpus\": 1,\n",
        "                     \"num_cpus_per_task\": 1,\n",
        "                     \"callbacks\": [LoggerCallback()]\n",
        "                 })\n",
        "\n",
        "print(\"Number of workers: \", evaluator.num_workers)"
      ],
      "id": "197f723d",
      "execution_count": 5,
      "outputs": [
        {
          "output_type": "stream",
          "name": "stdout",
          "text": [
            "Number of workers:  1\n"
          ]
        }
      ]
    },
    {
      "cell_type": "markdown",
      "metadata": {
        "id": "1b6cd751"
      },
      "source": [
        "<div class=\"alert alert-info\">\n",
        "    \n",
        "<b>Tip</b> \n",
        "    \n",
        "If you execute this tutorial locally, you can open the ray-dashboard at an address like <a>http://127.0.0.1:port</a> in a browser to monitor the CPU usage of the execution.\n",
        "    \n",
        "</div>\n",
        "\n",
        "Finally, you can define a Bayesian optimization search called `AMBS` (for Asynchronous Model-Based Search) and link to it the defined `problem_autosklearn1` and `evaluator`."
      ],
      "id": "1b6cd751"
    },
    {
      "cell_type": "code",
      "metadata": {
        "id": "b2e09062"
      },
      "source": [
        "from deephyper.search.hps import AMBS\n",
        "\n",
        "search = AMBS(problem_autosklearn1, evaluator)"
      ],
      "id": "b2e09062",
      "execution_count": 6,
      "outputs": []
    },
    {
      "cell_type": "code",
      "metadata": {
        "id": "0892e8a0",
        "outputId": "f736ee3a-2c06-447f-91ff-cf548ec92f48",
        "colab": {
          "base_uri": "https://localhost:8080/"
        }
      },
      "source": [
        "results = search.search(10)"
      ],
      "id": "0892e8a0",
      "execution_count": 7,
      "outputs": [
        {
          "output_type": "stream",
          "name": "stdout",
          "text": [
            "[00001] -- best objective: -1.00000 -- received objective: -1.00000\n",
            "[00002] -- best objective: 0.96277 -- received objective: 0.96277\n",
            "[00003] -- best objective: 0.96277 -- received objective: 0.94149\n",
            "[00004] -- best objective: 0.97872 -- received objective: 0.97872\n"
          ]
        },
        {
          "output_type": "stream",
          "name": "stderr",
          "text": [
            "\u001b[2m\u001b[36m(pid=733)\u001b[0m /usr/local/lib/python3.7/dist-packages/sklearn/neural_network/_multilayer_perceptron.py:696: ConvergenceWarning: Stochastic Optimizer: Maximum iterations (200) reached and the optimization hasn't converged yet.\n",
            "\u001b[2m\u001b[36m(pid=733)\u001b[0m   ConvergenceWarning,\n"
          ]
        },
        {
          "output_type": "stream",
          "name": "stdout",
          "text": [
            "[00005] -- best objective: 0.97872 -- received objective: 0.97872\n"
          ]
        },
        {
          "output_type": "stream",
          "name": "stderr",
          "text": [
            "\u001b[2m\u001b[36m(pid=733)\u001b[0m /usr/local/lib/python3.7/dist-packages/sklearn/neural_network/_multilayer_perceptron.py:696: ConvergenceWarning: Stochastic Optimizer: Maximum iterations (200) reached and the optimization hasn't converged yet.\n",
            "\u001b[2m\u001b[36m(pid=733)\u001b[0m   ConvergenceWarning,\n"
          ]
        },
        {
          "output_type": "stream",
          "name": "stdout",
          "text": [
            "[00006] -- best objective: 0.97872 -- received objective: 0.95745\n",
            "[00007] -- best objective: 0.97872 -- received objective: 0.96809\n",
            "[00008] -- best objective: 0.97872 -- received objective: 0.97340\n",
            "[00009] -- best objective: 0.97872 -- received objective: 0.96277\n",
            "[00010] -- best objective: 0.97872 -- received objective: 0.96809\n"
          ]
        }
      ]
    },
    {
      "cell_type": "markdown",
      "metadata": {
        "id": "c02b4096"
      },
      "source": [
        "Once the search is over, a file named `results.csv` is saved in the current directory. The same dataframe is returned by the `search.search(...)` call. It contains the hyperparameters configurations evaluated during the search and their corresponding `objective` value (i.e, validation accuracy), `duration` of computation and time of computation with `elapsed_sec`."
      ],
      "id": "c02b4096"
    },
    {
      "cell_type": "code",
      "metadata": {
        "scrolled": true,
        "id": "15e7aed4",
        "outputId": "e4c1ceb7-af44-41d4-f83a-244ddc8c201e",
        "colab": {
          "base_uri": "https://localhost:8080/",
          "height": 359
        }
      },
      "source": [
        "results"
      ],
      "id": "15e7aed4",
      "execution_count": 8,
      "outputs": [
        {
          "output_type": "execute_result",
          "data": {
            "text/html": [
              "<div>\n",
              "<style scoped>\n",
              "    .dataframe tbody tr th:only-of-type {\n",
              "        vertical-align: middle;\n",
              "    }\n",
              "\n",
              "    .dataframe tbody tr th {\n",
              "        vertical-align: top;\n",
              "    }\n",
              "\n",
              "    .dataframe thead th {\n",
              "        text-align: right;\n",
              "    }\n",
              "</style>\n",
              "<table border=\"1\" class=\"dataframe\">\n",
              "  <thead>\n",
              "    <tr style=\"text-align: right;\">\n",
              "      <th></th>\n",
              "      <th>classifier</th>\n",
              "      <th>C</th>\n",
              "      <th>alpha</th>\n",
              "      <th>kernel</th>\n",
              "      <th>max_depth</th>\n",
              "      <th>n_estimators</th>\n",
              "      <th>n_neighbors</th>\n",
              "      <th>gamma</th>\n",
              "      <th>id</th>\n",
              "      <th>objective</th>\n",
              "      <th>elapsed_sec</th>\n",
              "      <th>duration</th>\n",
              "    </tr>\n",
              "  </thead>\n",
              "  <tbody>\n",
              "    <tr>\n",
              "      <th>0</th>\n",
              "      <td>AdaBoost</td>\n",
              "      <td>NaN</td>\n",
              "      <td>NaN</td>\n",
              "      <td>NaN</td>\n",
              "      <td>NaN</td>\n",
              "      <td>1.0</td>\n",
              "      <td>NaN</td>\n",
              "      <td>NaN</td>\n",
              "      <td>1</td>\n",
              "      <td>-1.000000</td>\n",
              "      <td>13.452292</td>\n",
              "      <td>3.579814</td>\n",
              "    </tr>\n",
              "    <tr>\n",
              "      <th>1</th>\n",
              "      <td>KNeighbors</td>\n",
              "      <td>NaN</td>\n",
              "      <td>NaN</td>\n",
              "      <td>NaN</td>\n",
              "      <td>NaN</td>\n",
              "      <td>NaN</td>\n",
              "      <td>12.0</td>\n",
              "      <td>NaN</td>\n",
              "      <td>2</td>\n",
              "      <td>0.962766</td>\n",
              "      <td>15.119490</td>\n",
              "      <td>0.128026</td>\n",
              "    </tr>\n",
              "    <tr>\n",
              "      <th>2</th>\n",
              "      <td>KNeighbors</td>\n",
              "      <td>NaN</td>\n",
              "      <td>NaN</td>\n",
              "      <td>NaN</td>\n",
              "      <td>NaN</td>\n",
              "      <td>NaN</td>\n",
              "      <td>26.0</td>\n",
              "      <td>NaN</td>\n",
              "      <td>3</td>\n",
              "      <td>0.941489</td>\n",
              "      <td>16.815022</td>\n",
              "      <td>0.126511</td>\n",
              "    </tr>\n",
              "    <tr>\n",
              "      <th>3</th>\n",
              "      <td>MLP</td>\n",
              "      <td>NaN</td>\n",
              "      <td>0.001721</td>\n",
              "      <td>NaN</td>\n",
              "      <td>NaN</td>\n",
              "      <td>NaN</td>\n",
              "      <td>NaN</td>\n",
              "      <td>NaN</td>\n",
              "      <td>4</td>\n",
              "      <td>0.978723</td>\n",
              "      <td>18.776632</td>\n",
              "      <td>0.450363</td>\n",
              "    </tr>\n",
              "    <tr>\n",
              "      <th>4</th>\n",
              "      <td>MLP</td>\n",
              "      <td>NaN</td>\n",
              "      <td>0.719261</td>\n",
              "      <td>NaN</td>\n",
              "      <td>NaN</td>\n",
              "      <td>NaN</td>\n",
              "      <td>NaN</td>\n",
              "      <td>NaN</td>\n",
              "      <td>5</td>\n",
              "      <td>0.978723</td>\n",
              "      <td>20.717520</td>\n",
              "      <td>0.451758</td>\n",
              "    </tr>\n",
              "    <tr>\n",
              "      <th>5</th>\n",
              "      <td>RandomForest</td>\n",
              "      <td>NaN</td>\n",
              "      <td>NaN</td>\n",
              "      <td>NaN</td>\n",
              "      <td>7.0</td>\n",
              "      <td>1284.0</td>\n",
              "      <td>NaN</td>\n",
              "      <td>NaN</td>\n",
              "      <td>6</td>\n",
              "      <td>0.957447</td>\n",
              "      <td>25.709774</td>\n",
              "      <td>3.390466</td>\n",
              "    </tr>\n",
              "    <tr>\n",
              "      <th>6</th>\n",
              "      <td>RandomForest</td>\n",
              "      <td>NaN</td>\n",
              "      <td>NaN</td>\n",
              "      <td>NaN</td>\n",
              "      <td>18.0</td>\n",
              "      <td>140.0</td>\n",
              "      <td>NaN</td>\n",
              "      <td>NaN</td>\n",
              "      <td>7</td>\n",
              "      <td>0.968085</td>\n",
              "      <td>27.733081</td>\n",
              "      <td>0.481195</td>\n",
              "    </tr>\n",
              "    <tr>\n",
              "      <th>7</th>\n",
              "      <td>AdaBoost</td>\n",
              "      <td>NaN</td>\n",
              "      <td>NaN</td>\n",
              "      <td>NaN</td>\n",
              "      <td>NaN</td>\n",
              "      <td>256.0</td>\n",
              "      <td>NaN</td>\n",
              "      <td>NaN</td>\n",
              "      <td>8</td>\n",
              "      <td>0.973404</td>\n",
              "      <td>30.094701</td>\n",
              "      <td>0.792026</td>\n",
              "    </tr>\n",
              "    <tr>\n",
              "      <th>8</th>\n",
              "      <td>AdaBoost</td>\n",
              "      <td>NaN</td>\n",
              "      <td>NaN</td>\n",
              "      <td>NaN</td>\n",
              "      <td>NaN</td>\n",
              "      <td>13.0</td>\n",
              "      <td>NaN</td>\n",
              "      <td>NaN</td>\n",
              "      <td>9</td>\n",
              "      <td>0.962766</td>\n",
              "      <td>31.660862</td>\n",
              "      <td>0.056839</td>\n",
              "    </tr>\n",
              "    <tr>\n",
              "      <th>9</th>\n",
              "      <td>AdaBoost</td>\n",
              "      <td>NaN</td>\n",
              "      <td>NaN</td>\n",
              "      <td>NaN</td>\n",
              "      <td>NaN</td>\n",
              "      <td>7.0</td>\n",
              "      <td>NaN</td>\n",
              "      <td>NaN</td>\n",
              "      <td>10</td>\n",
              "      <td>0.968085</td>\n",
              "      <td>33.250499</td>\n",
              "      <td>0.037967</td>\n",
              "    </tr>\n",
              "  </tbody>\n",
              "</table>\n",
              "</div>"
            ],
            "text/plain": [
              "     classifier   C     alpha  kernel  ...  id  objective  elapsed_sec  duration\n",
              "0      AdaBoost NaN       NaN     NaN  ...   1  -1.000000    13.452292  3.579814\n",
              "1    KNeighbors NaN       NaN     NaN  ...   2   0.962766    15.119490  0.128026\n",
              "2    KNeighbors NaN       NaN     NaN  ...   3   0.941489    16.815022  0.126511\n",
              "3           MLP NaN  0.001721     NaN  ...   4   0.978723    18.776632  0.450363\n",
              "4           MLP NaN  0.719261     NaN  ...   5   0.978723    20.717520  0.451758\n",
              "5  RandomForest NaN       NaN     NaN  ...   6   0.957447    25.709774  3.390466\n",
              "6  RandomForest NaN       NaN     NaN  ...   7   0.968085    27.733081  0.481195\n",
              "7      AdaBoost NaN       NaN     NaN  ...   8   0.973404    30.094701  0.792026\n",
              "8      AdaBoost NaN       NaN     NaN  ...   9   0.962766    31.660862  0.056839\n",
              "9      AdaBoost NaN       NaN     NaN  ...  10   0.968085    33.250499  0.037967\n",
              "\n",
              "[10 rows x 12 columns]"
            ]
          },
          "metadata": {},
          "execution_count": 8
        }
      ]
    },
    {
      "cell_type": "markdown",
      "metadata": {
        "id": "c6d51e46"
      },
      "source": [
        "The `deephyper-analytics` command line is a way of analyzing this type of file. For example, we want to output the best configuration we can use the `topk` functionnality."
      ],
      "id": "c6d51e46"
    },
    {
      "cell_type": "code",
      "metadata": {
        "scrolled": false,
        "id": "d7da7c6b",
        "outputId": "db4402e7-cd45-445e-ec99-6312711fb5ba",
        "colab": {
          "base_uri": "https://localhost:8080/"
        }
      },
      "source": [
        "!deephyper-analytics topk results.csv -k 3"
      ],
      "id": "d7da7c6b",
      "execution_count": 9,
      "outputs": [
        {
          "output_type": "stream",
          "name": "stdout",
          "text": [
            "'0': {C: null, alpha: 0.0017211808, classifier: MLP, duration: 0.4503633976, elapsed_sec: 18.7766315937,\n",
            "  gamma: null, id: 4, kernel: null, max_depth: null, n_estimators: null, n_neighbors: null,\n",
            "  objective: 0.9787234043}\n",
            "'1': {C: null, alpha: 0.7192606656, classifier: MLP, duration: 0.4517583847, elapsed_sec: 20.7175195217,\n",
            "  gamma: null, id: 5, kernel: null, max_depth: null, n_estimators: null, n_neighbors: null,\n",
            "  objective: 0.9787234043}\n",
            "'2': {C: null, alpha: null, classifier: AdaBoost, duration: 0.7920260429, elapsed_sec: 30.0947012901,\n",
            "  gamma: null, id: 8, kernel: null, max_depth: null, n_estimators: 256.0, n_neighbors: null,\n",
            "  objective: 0.9734042553}\n",
            "\n"
          ]
        }
      ]
    },
    {
      "cell_type": "markdown",
      "metadata": {
        "id": "958d70ab"
      },
      "source": [
        "## Regression\n",
        "\n",
        "On this part of the tutorial we focus on the regression case.\n",
        "\n",
        "Create `run` function to train and evaluate the model corresponding to the configuration generated by the search. This function has to return a scalar value (typically, validation $R^2$), which will be maximized by the search algorithm. In the case of *automated machine learning* we use the `run`-function provided at `deephyper.sklearn.regressor.run_autosklearn1` and wrap it with our data such as:"
      ],
      "id": "958d70ab"
    },
    {
      "cell_type": "code",
      "metadata": {
        "id": "96e17111"
      },
      "source": [
        "from deephyper.sklearn.regressor import run_autosklearn1\n",
        "\n",
        "\n",
        "def load_data():\n",
        "    from sklearn.datasets import fetch_california_housing\n",
        "\n",
        "    X, y = fetch_california_housing(return_X_y=True)\n",
        "    return X, y\n",
        "\n",
        "\n",
        "def run(config):\n",
        "    return run_autosklearn1(config, load_data)"
      ],
      "id": "96e17111",
      "execution_count": 10,
      "outputs": []
    },
    {
      "cell_type": "markdown",
      "metadata": {
        "id": "8e608783"
      },
      "source": [
        "We are ready to go! But, let us look at the problem provided by DeepHyper to understand better what is happening under the hood. "
      ],
      "id": "8e608783"
    },
    {
      "cell_type": "code",
      "metadata": {
        "id": "c4f149a1",
        "outputId": "a1d25c3e-a7fa-4f64-d625-655d9fc1d841",
        "colab": {
          "base_uri": "https://localhost:8080/"
        }
      },
      "source": [
        "from deephyper.sklearn.regressor import problem_autosklearn1\n",
        "\n",
        "problem_autosklearn1"
      ],
      "id": "c4f149a1",
      "execution_count": 11,
      "outputs": [
        {
          "output_type": "execute_result",
          "data": {
            "text/plain": [
              "Configuration space object:\n",
              "  Hyperparameters:\n",
              "    C, Type: UniformFloat, Range: [1e-05, 10.0], Default: 0.01, on log-scale\n",
              "    alpha, Type: UniformFloat, Range: [1e-05, 10.0], Default: 0.01, on log-scale\n",
              "    gamma, Type: UniformFloat, Range: [1e-05, 10.0], Default: 0.01, on log-scale\n",
              "    kernel, Type: Categorical, Choices: {linear, poly, rbf, sigmoid}, Default: linear\n",
              "    max_depth, Type: UniformInteger, Range: [2, 100], Default: 14, on log-scale\n",
              "    n_estimators, Type: UniformInteger, Range: [1, 2000], Default: 45, on log-scale\n",
              "    n_neighbors, Type: UniformInteger, Range: [1, 100], Default: 50\n",
              "    regressor, Type: Categorical, Choices: {RandomForest, Linear, AdaBoost, KNeighbors, MLP, SVR, XGBoost}, Default: RandomForest\n",
              "  Conditions:\n",
              "    (gamma | kernel == 'rbf' || gamma | kernel == 'poly' || gamma | kernel == 'sigmoid')\n",
              "    (n_estimators | regressor == 'RandomForest' || n_estimators | regressor == 'AdaBoost')\n",
              "    C | regressor == 'SVR'\n",
              "    alpha | regressor == 'MLP'\n",
              "    kernel | regressor == 'SVR'\n",
              "    max_depth | regressor == 'RandomForest'\n",
              "    n_neighbors | regressor == 'KNeighbors'"
            ]
          },
          "metadata": {},
          "execution_count": 11
        }
      ]
    },
    {
      "cell_type": "markdown",
      "metadata": {
        "id": "65efded9"
      },
      "source": [
        "Create an `Evaluator` object using the `ray` backend to distribute the evaluation of the run-function defined previously."
      ],
      "id": "65efded9"
    },
    {
      "cell_type": "code",
      "metadata": {
        "id": "6dfb2657",
        "outputId": "c9041c9c-78ab-43ca-98ea-f7cee67022ce",
        "colab": {
          "base_uri": "https://localhost:8080/"
        }
      },
      "source": [
        "from deephyper.evaluator import Evaluator\n",
        "from deephyper.evaluator.callback import LoggerCallback\n",
        "\n",
        "evaluator = Evaluator.create(run, \n",
        "                 method=\"ray\", \n",
        "                 method_kwargs={\n",
        "                     \"address\": None, \n",
        "                     \"num_cpus\": 2,\n",
        "                     \"num_cpus_per_task\": 1,\n",
        "                     \"callbacks\": [LoggerCallback()]\n",
        "                 })\n",
        "\n",
        "print(\"Number of workers: \", evaluator.num_workers)"
      ],
      "id": "6dfb2657",
      "execution_count": 12,
      "outputs": [
        {
          "output_type": "stream",
          "name": "stdout",
          "text": [
            "Number of workers:  1\n"
          ]
        }
      ]
    },
    {
      "cell_type": "markdown",
      "metadata": {
        "id": "1c183316"
      },
      "source": [
        "<div class=\"alert alert-info\">\n",
        "    \n",
        "<b>Tip</b> \n",
        "    \n",
        "You can open the ray-dashboard at an address like <a>http://127.0.0.1:port</a> in a browser to monitor the CPU usage of the execution.\n",
        "    \n",
        "</div>\n",
        "\n",
        "Finally, you can define a Bayesian optimization search called `AMBS` (for Asynchronous Model-Based Search) and link to it the defined `Problem` and `evaluator`."
      ],
      "id": "1c183316"
    },
    {
      "cell_type": "code",
      "metadata": {
        "id": "29536e8a"
      },
      "source": [
        "from deephyper.search.hps import AMBS\n",
        "\n",
        "search = AMBS(problem_autosklearn1, evaluator)"
      ],
      "id": "29536e8a",
      "execution_count": 13,
      "outputs": []
    },
    {
      "cell_type": "code",
      "metadata": {
        "id": "5186587f",
        "outputId": "73e015e9-a0fc-414f-b67e-17c9aa430edf",
        "colab": {
          "base_uri": "https://localhost:8080/"
        }
      },
      "source": [
        "results = search.search(10)"
      ],
      "id": "5186587f",
      "execution_count": 14,
      "outputs": [
        {
          "output_type": "stream",
          "name": "stdout",
          "text": [
            "[00001] -- best objective: -0.05886 -- received objective: -0.05886\n",
            "[00002] -- best objective: 0.56451 -- received objective: 0.56451\n",
            "[00003] -- best objective: 0.56451 -- received objective: 0.44250\n"
          ]
        },
        {
          "output_type": "stream",
          "name": "stderr",
          "text": [
            "\u001b[2m\u001b[36m(pid=733)\u001b[0m [14:49:38] WARNING: /workspace/src/objective/regression_obj.cu:152: reg:linear is now deprecated in favor of reg:squarederror.\n"
          ]
        },
        {
          "output_type": "stream",
          "name": "stdout",
          "text": [
            "[00004] -- best objective: 0.78391 -- received objective: 0.78391\n",
            "[00005] -- best objective: 0.78391 -- received objective: 0.76766\n",
            "[00006] -- best objective: 0.78391 -- received objective: 0.57538\n",
            "[00007] -- best objective: 0.78391 -- received objective: 0.47485\n",
            "[00008] -- best objective: 0.78391 -- received objective: 0.77684\n"
          ]
        },
        {
          "output_type": "stream",
          "name": "stderr",
          "text": [
            "\u001b[2m\u001b[36m(pid=733)\u001b[0m /usr/local/lib/python3.7/dist-packages/sklearn/neural_network/_multilayer_perceptron.py:696: ConvergenceWarning: Stochastic Optimizer: Maximum iterations (200) reached and the optimization hasn't converged yet.\n",
            "\u001b[2m\u001b[36m(pid=733)\u001b[0m   ConvergenceWarning,\n"
          ]
        },
        {
          "output_type": "stream",
          "name": "stdout",
          "text": [
            "[00009] -- best objective: 0.80735 -- received objective: 0.80735\n",
            "[00010] -- best objective: 0.80735 -- received objective: 0.71937\n"
          ]
        }
      ]
    },
    {
      "cell_type": "markdown",
      "metadata": {
        "id": "6ad5e4ce"
      },
      "source": [
        "Once the search is over, a file named `results.csv` is saved in the current directory. The same dataframe is returned by the `search.search(...)` call. It contains the hyperparameters configurations evaluated during the search and their corresponding `objective` value (i.e, validation accuracy), `duration` of computation and time of computation with `elapsed_sec`."
      ],
      "id": "6ad5e4ce"
    },
    {
      "cell_type": "code",
      "metadata": {
        "id": "d63fafaa",
        "outputId": "af444ad2-f167-4b97-cbd5-d8cd947d4ac8",
        "colab": {
          "base_uri": "https://localhost:8080/",
          "height": 359
        }
      },
      "source": [
        "results"
      ],
      "id": "d63fafaa",
      "execution_count": 16,
      "outputs": [
        {
          "output_type": "execute_result",
          "data": {
            "text/html": [
              "<div>\n",
              "<style scoped>\n",
              "    .dataframe tbody tr th:only-of-type {\n",
              "        vertical-align: middle;\n",
              "    }\n",
              "\n",
              "    .dataframe tbody tr th {\n",
              "        vertical-align: top;\n",
              "    }\n",
              "\n",
              "    .dataframe thead th {\n",
              "        text-align: right;\n",
              "    }\n",
              "</style>\n",
              "<table border=\"1\" class=\"dataframe\">\n",
              "  <thead>\n",
              "    <tr style=\"text-align: right;\">\n",
              "      <th></th>\n",
              "      <th>regressor</th>\n",
              "      <th>C</th>\n",
              "      <th>alpha</th>\n",
              "      <th>kernel</th>\n",
              "      <th>max_depth</th>\n",
              "      <th>n_estimators</th>\n",
              "      <th>n_neighbors</th>\n",
              "      <th>gamma</th>\n",
              "      <th>id</th>\n",
              "      <th>objective</th>\n",
              "      <th>elapsed_sec</th>\n",
              "      <th>duration</th>\n",
              "    </tr>\n",
              "  </thead>\n",
              "  <tbody>\n",
              "    <tr>\n",
              "      <th>0</th>\n",
              "      <td>SVR</td>\n",
              "      <td>0.000317</td>\n",
              "      <td>NaN</td>\n",
              "      <td>sigmoid</td>\n",
              "      <td>NaN</td>\n",
              "      <td>NaN</td>\n",
              "      <td>NaN</td>\n",
              "      <td>0.000371</td>\n",
              "      <td>1</td>\n",
              "      <td>-0.058856</td>\n",
              "      <td>26.522054</td>\n",
              "      <td>22.169491</td>\n",
              "    </tr>\n",
              "    <tr>\n",
              "      <th>1</th>\n",
              "      <td>AdaBoost</td>\n",
              "      <td>NaN</td>\n",
              "      <td>NaN</td>\n",
              "      <td>NaN</td>\n",
              "      <td>NaN</td>\n",
              "      <td>13.0</td>\n",
              "      <td>NaN</td>\n",
              "      <td>NaN</td>\n",
              "      <td>2</td>\n",
              "      <td>0.564506</td>\n",
              "      <td>28.500448</td>\n",
              "      <td>0.489093</td>\n",
              "    </tr>\n",
              "    <tr>\n",
              "      <th>2</th>\n",
              "      <td>AdaBoost</td>\n",
              "      <td>NaN</td>\n",
              "      <td>NaN</td>\n",
              "      <td>NaN</td>\n",
              "      <td>NaN</td>\n",
              "      <td>322.0</td>\n",
              "      <td>NaN</td>\n",
              "      <td>NaN</td>\n",
              "      <td>3</td>\n",
              "      <td>0.442501</td>\n",
              "      <td>31.241331</td>\n",
              "      <td>1.240041</td>\n",
              "    </tr>\n",
              "    <tr>\n",
              "      <th>3</th>\n",
              "      <td>XGBoost</td>\n",
              "      <td>NaN</td>\n",
              "      <td>NaN</td>\n",
              "      <td>NaN</td>\n",
              "      <td>NaN</td>\n",
              "      <td>NaN</td>\n",
              "      <td>NaN</td>\n",
              "      <td>NaN</td>\n",
              "      <td>4</td>\n",
              "      <td>0.783908</td>\n",
              "      <td>33.657469</td>\n",
              "      <td>1.129844</td>\n",
              "    </tr>\n",
              "    <tr>\n",
              "      <th>4</th>\n",
              "      <td>MLP</td>\n",
              "      <td>NaN</td>\n",
              "      <td>0.074061</td>\n",
              "      <td>NaN</td>\n",
              "      <td>NaN</td>\n",
              "      <td>NaN</td>\n",
              "      <td>NaN</td>\n",
              "      <td>NaN</td>\n",
              "      <td>5</td>\n",
              "      <td>0.767663</td>\n",
              "      <td>46.345952</td>\n",
              "      <td>11.166475</td>\n",
              "    </tr>\n",
              "    <tr>\n",
              "      <th>5</th>\n",
              "      <td>SVR</td>\n",
              "      <td>1.562227</td>\n",
              "      <td>NaN</td>\n",
              "      <td>linear</td>\n",
              "      <td>NaN</td>\n",
              "      <td>NaN</td>\n",
              "      <td>NaN</td>\n",
              "      <td>NaN</td>\n",
              "      <td>6</td>\n",
              "      <td>0.575381</td>\n",
              "      <td>72.394516</td>\n",
              "      <td>24.590795</td>\n",
              "    </tr>\n",
              "    <tr>\n",
              "      <th>6</th>\n",
              "      <td>SVR</td>\n",
              "      <td>0.008012</td>\n",
              "      <td>NaN</td>\n",
              "      <td>rbf</td>\n",
              "      <td>NaN</td>\n",
              "      <td>NaN</td>\n",
              "      <td>NaN</td>\n",
              "      <td>0.012148</td>\n",
              "      <td>7</td>\n",
              "      <td>0.474847</td>\n",
              "      <td>91.398495</td>\n",
              "      <td>17.416007</td>\n",
              "    </tr>\n",
              "    <tr>\n",
              "      <th>7</th>\n",
              "      <td>MLP</td>\n",
              "      <td>NaN</td>\n",
              "      <td>0.000198</td>\n",
              "      <td>NaN</td>\n",
              "      <td>NaN</td>\n",
              "      <td>NaN</td>\n",
              "      <td>NaN</td>\n",
              "      <td>NaN</td>\n",
              "      <td>8</td>\n",
              "      <td>0.776843</td>\n",
              "      <td>104.560521</td>\n",
              "      <td>11.689193</td>\n",
              "    </tr>\n",
              "    <tr>\n",
              "      <th>8</th>\n",
              "      <td>RandomForest</td>\n",
              "      <td>NaN</td>\n",
              "      <td>NaN</td>\n",
              "      <td>NaN</td>\n",
              "      <td>29.0</td>\n",
              "      <td>988.0</td>\n",
              "      <td>NaN</td>\n",
              "      <td>NaN</td>\n",
              "      <td>9</td>\n",
              "      <td>0.807347</td>\n",
              "      <td>182.046024</td>\n",
              "      <td>75.990584</td>\n",
              "    </tr>\n",
              "    <tr>\n",
              "      <th>9</th>\n",
              "      <td>RandomForest</td>\n",
              "      <td>NaN</td>\n",
              "      <td>NaN</td>\n",
              "      <td>NaN</td>\n",
              "      <td>7.0</td>\n",
              "      <td>70.0</td>\n",
              "      <td>NaN</td>\n",
              "      <td>NaN</td>\n",
              "      <td>10</td>\n",
              "      <td>0.719367</td>\n",
              "      <td>186.149946</td>\n",
              "      <td>2.577926</td>\n",
              "    </tr>\n",
              "  </tbody>\n",
              "</table>\n",
              "</div>"
            ],
            "text/plain": [
              "      regressor         C     alpha  ... objective  elapsed_sec   duration\n",
              "0           SVR  0.000317       NaN  ... -0.058856    26.522054  22.169491\n",
              "1      AdaBoost       NaN       NaN  ...  0.564506    28.500448   0.489093\n",
              "2      AdaBoost       NaN       NaN  ...  0.442501    31.241331   1.240041\n",
              "3       XGBoost       NaN       NaN  ...  0.783908    33.657469   1.129844\n",
              "4           MLP       NaN  0.074061  ...  0.767663    46.345952  11.166475\n",
              "5           SVR  1.562227       NaN  ...  0.575381    72.394516  24.590795\n",
              "6           SVR  0.008012       NaN  ...  0.474847    91.398495  17.416007\n",
              "7           MLP       NaN  0.000198  ...  0.776843   104.560521  11.689193\n",
              "8  RandomForest       NaN       NaN  ...  0.807347   182.046024  75.990584\n",
              "9  RandomForest       NaN       NaN  ...  0.719367   186.149946   2.577926\n",
              "\n",
              "[10 rows x 12 columns]"
            ]
          },
          "metadata": {},
          "execution_count": 16
        }
      ]
    },
    {
      "cell_type": "markdown",
      "metadata": {
        "id": "1ed9141f"
      },
      "source": [
        "The `deephyper-analytics` command line is a way of analyzing this type of file. For example, we want to output the best configuration we can use the `topk` functionnality."
      ],
      "id": "1ed9141f"
    },
    {
      "cell_type": "code",
      "metadata": {
        "id": "0754dde8",
        "outputId": "8e2e576d-6082-45f2-b67e-7234dde266d7",
        "colab": {
          "base_uri": "https://localhost:8080/"
        }
      },
      "source": [
        "!deephyper-analytics topk results.csv -k 3"
      ],
      "id": "0754dde8",
      "execution_count": 17,
      "outputs": [
        {
          "output_type": "stream",
          "name": "stdout",
          "text": [
            "'0': {C: null, alpha: null, duration: 75.9905841351, elapsed_sec: 182.0460243225,\n",
            "  gamma: null, id: 9, kernel: null, max_depth: 29.0, n_estimators: 988.0, n_neighbors: null,\n",
            "  objective: 0.8073473164, regressor: RandomForest}\n",
            "'1': {C: null, alpha: null, duration: 1.1298441887, elapsed_sec: 33.6574685574, gamma: null,\n",
            "  id: 4, kernel: null, max_depth: null, n_estimators: null, n_neighbors: null, objective: 0.7839078942,\n",
            "  regressor: XGBoost}\n",
            "'2': {C: null, alpha: 0.0001976475, duration: 11.6891927719, elapsed_sec: 104.560520649,\n",
            "  gamma: null, id: 8, kernel: null, max_depth: null, n_estimators: null, n_neighbors: null,\n",
            "  objective: 0.7768434694, regressor: MLP}\n",
            "\n"
          ]
        }
      ]
    }
  ]
}