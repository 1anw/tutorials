{
 "cells": [
  {
   "cell_type": "markdown",
   "id": "af205a35",
   "metadata": {
    "id": "af205a35"
   },
   "source": [
    "# Neural Architecture Search (Basic)\n",
    "\n",
    "[![Open In Colab](https://colab.research.google.com/assets/colab-badge.svg)](https://colab.research.google.com/github/deephyper/tutorials/blob/main/tutorials/colab/NAS_basic.ipynb)\n",
    "\n",
    "In this tutorial we will learn the basics of neural architecture search (NAS). We will use artificial data generated from a polynomial function. Then, we will discover how to create a search space of neural architecture using a directed graph. Finally, we will see how to define the NAS settings and how to execute the search.\n",
    "\n"
   ]
  },
  {
   "cell_type": "code",
   "execution_count": 1,
   "id": "klX2lZZ-FV0Y",
   "metadata": {
    "colab": {
     "base_uri": "https://localhost:8080/"
    },
    "id": "klX2lZZ-FV0Y",
    "outputId": "bdfa3afc-d299-4424-fd87-cf7517a0c487"
   },
   "outputs": [
    {
     "name": "stdout",
     "output_type": "stream",
     "text": [
      "Collecting deephyper\n",
      "  Downloading deephyper-0.3.3-py2.py3-none-any.whl (962 kB)\n",
      "\u001b[K     |████████████████████████████████| 962 kB 5.1 MB/s \n",
      "\u001b[?25hRequirement already satisfied: networkx in /usr/local/lib/python3.7/dist-packages (from deephyper) (2.6.3)\n",
      "Requirement already satisfied: tensorflow-probability in /usr/local/lib/python3.7/dist-packages (from deephyper) (0.14.1)\n",
      "Collecting ConfigSpace>=0.4.18\n",
      "  Downloading ConfigSpace-0.4.20-cp37-cp37m-manylinux_2_17_x86_64.manylinux2014_x86_64.whl (4.2 MB)\n",
      "\u001b[K     |████████████████████████████████| 4.2 MB 33.2 MB/s \n",
      "\u001b[?25hRequirement already satisfied: matplotlib>=3.0.3 in /usr/local/lib/python3.7/dist-packages (from deephyper) (3.2.2)\n",
      "Requirement already satisfied: xgboost in /usr/local/lib/python3.7/dist-packages (from deephyper) (0.90)\n",
      "Requirement already satisfied: tensorflow>=2.0.0 in /usr/local/lib/python3.7/dist-packages (from deephyper) (2.7.0)\n",
      "Requirement already satisfied: pydot in /usr/local/lib/python3.7/dist-packages (from deephyper) (1.3.0)\n",
      "Requirement already satisfied: statsmodels in /usr/local/lib/python3.7/dist-packages (from deephyper) (0.10.2)\n",
      "Requirement already satisfied: numpy in /usr/local/lib/python3.7/dist-packages (from deephyper) (1.19.5)\n",
      "Requirement already satisfied: Jinja2 in /usr/local/lib/python3.7/dist-packages (from deephyper) (2.11.3)\n",
      "Requirement already satisfied: pandas>=0.24.2 in /usr/local/lib/python3.7/dist-packages (from deephyper) (1.1.5)\n",
      "Collecting openml==0.10.2\n",
      "  Downloading openml-0.10.2.tar.gz (158 kB)\n",
      "\u001b[K     |████████████████████████████████| 158 kB 47.4 MB/s \n",
      "\u001b[?25hCollecting dh-scikit-optimize==0.9.4\n",
      "  Downloading dh_scikit_optimize-0.9.4-py2.py3-none-any.whl (102 kB)\n",
      "\u001b[K     |████████████████████████████████| 102 kB 11.5 MB/s \n",
      "\u001b[?25hRequirement already satisfied: tqdm in /usr/local/lib/python3.7/dist-packages (from deephyper) (4.62.3)\n",
      "Requirement already satisfied: typeguard in /usr/local/lib/python3.7/dist-packages (from deephyper) (2.7.1)\n",
      "Requirement already satisfied: joblib>=0.10.3 in /usr/local/lib/python3.7/dist-packages (from deephyper) (1.1.0)\n",
      "Collecting ray[default]>=1.3.0\n",
      "  Downloading ray-1.8.0-cp37-cp37m-manylinux2014_x86_64.whl (54.7 MB)\n",
      "\u001b[K     |████████████████████████████████| 54.7 MB 23 kB/s \n",
      "\u001b[?25hRequirement already satisfied: scikit-learn>=0.23.1 in /usr/local/lib/python3.7/dist-packages (from deephyper) (1.0.1)\n",
      "Requirement already satisfied: scipy>=0.19.1 in /usr/local/lib/python3.7/dist-packages (from dh-scikit-optimize==0.9.4->deephyper) (1.4.1)\n",
      "Collecting pyaml>=16.9\n",
      "  Downloading pyaml-21.10.1-py2.py3-none-any.whl (24 kB)\n",
      "Collecting liac-arff>=2.4.0\n",
      "  Downloading liac-arff-2.5.0.tar.gz (13 kB)\n",
      "Collecting xmltodict\n",
      "  Downloading xmltodict-0.12.0-py2.py3-none-any.whl (9.2 kB)\n",
      "Requirement already satisfied: requests in /usr/local/lib/python3.7/dist-packages (from openml==0.10.2->deephyper) (2.23.0)\n",
      "Requirement already satisfied: python-dateutil in /usr/local/lib/python3.7/dist-packages (from openml==0.10.2->deephyper) (2.8.2)\n",
      "Requirement already satisfied: cython in /usr/local/lib/python3.7/dist-packages (from ConfigSpace>=0.4.18->deephyper) (0.29.24)\n",
      "Requirement already satisfied: pyparsing in /usr/local/lib/python3.7/dist-packages (from ConfigSpace>=0.4.18->deephyper) (2.4.7)\n",
      "Requirement already satisfied: cycler>=0.10 in /usr/local/lib/python3.7/dist-packages (from matplotlib>=3.0.3->deephyper) (0.11.0)\n",
      "Requirement already satisfied: kiwisolver>=1.0.1 in /usr/local/lib/python3.7/dist-packages (from matplotlib>=3.0.3->deephyper) (1.3.2)\n",
      "Requirement already satisfied: pytz>=2017.2 in /usr/local/lib/python3.7/dist-packages (from pandas>=0.24.2->deephyper) (2018.9)\n",
      "Requirement already satisfied: PyYAML in /usr/local/lib/python3.7/dist-packages (from pyaml>=16.9->dh-scikit-optimize==0.9.4->deephyper) (3.13)\n",
      "Requirement already satisfied: six>=1.5 in /usr/local/lib/python3.7/dist-packages (from python-dateutil->openml==0.10.2->deephyper) (1.15.0)\n",
      "Collecting redis>=3.5.0\n",
      "  Downloading redis-4.0.1-py3-none-any.whl (118 kB)\n",
      "\u001b[K     |████████████████████████████████| 118 kB 22.2 MB/s \n",
      "\u001b[?25hRequirement already satisfied: click>=7.0 in /usr/local/lib/python3.7/dist-packages (from ray[default]>=1.3.0->deephyper) (7.1.2)\n",
      "Requirement already satisfied: msgpack<2.0.0,>=1.0.0 in /usr/local/lib/python3.7/dist-packages (from ray[default]>=1.3.0->deephyper) (1.0.2)\n",
      "Requirement already satisfied: grpcio>=1.28.1 in /usr/local/lib/python3.7/dist-packages (from ray[default]>=1.3.0->deephyper) (1.41.1)\n",
      "Requirement already satisfied: filelock in /usr/local/lib/python3.7/dist-packages (from ray[default]>=1.3.0->deephyper) (3.3.2)\n",
      "Requirement already satisfied: protobuf>=3.15.3 in /usr/local/lib/python3.7/dist-packages (from ray[default]>=1.3.0->deephyper) (3.17.3)\n",
      "Requirement already satisfied: attrs in /usr/local/lib/python3.7/dist-packages (from ray[default]>=1.3.0->deephyper) (21.2.0)\n",
      "Requirement already satisfied: jsonschema in /usr/local/lib/python3.7/dist-packages (from ray[default]>=1.3.0->deephyper) (2.6.0)\n",
      "Collecting gpustat>=1.0.0b1\n",
      "  Downloading gpustat-1.0.0b1.tar.gz (82 kB)\n",
      "\u001b[K     |████████████████████████████████| 82 kB 213 kB/s \n",
      "\u001b[?25hCollecting py-spy>=0.2.0\n",
      "  Downloading py_spy-0.3.11-py2.py3-none-manylinux_2_5_x86_64.manylinux1_x86_64.whl (3.0 MB)\n",
      "\u001b[K     |████████████████████████████████| 3.0 MB 63.8 MB/s \n",
      "\u001b[?25hCollecting aiohttp-cors\n",
      "  Downloading aiohttp_cors-0.7.0-py3-none-any.whl (27 kB)\n",
      "Collecting aiohttp>=3.7\n",
      "  Downloading aiohttp-3.8.1-cp37-cp37m-manylinux_2_5_x86_64.manylinux1_x86_64.manylinux_2_12_x86_64.manylinux2010_x86_64.whl (1.1 MB)\n",
      "\u001b[K     |████████████████████████████████| 1.1 MB 46.6 MB/s \n",
      "\u001b[?25hRequirement already satisfied: prometheus-client>=0.7.1 in /usr/local/lib/python3.7/dist-packages (from ray[default]>=1.3.0->deephyper) (0.12.0)\n",
      "Collecting colorful\n",
      "  Downloading colorful-0.5.4-py2.py3-none-any.whl (201 kB)\n",
      "\u001b[K     |████████████████████████████████| 201 kB 53.7 MB/s \n",
      "\u001b[?25hCollecting opencensus\n",
      "  Downloading opencensus-0.8.0-py2.py3-none-any.whl (128 kB)\n",
      "\u001b[K     |████████████████████████████████| 128 kB 75.8 MB/s \n",
      "\u001b[?25hCollecting aioredis<2\n",
      "  Downloading aioredis-1.3.1-py3-none-any.whl (65 kB)\n",
      "\u001b[K     |████████████████████████████████| 65 kB 4.0 MB/s \n",
      "\u001b[?25hCollecting aiosignal>=1.1.2\n",
      "  Downloading aiosignal-1.2.0-py3-none-any.whl (8.2 kB)\n",
      "Collecting frozenlist>=1.1.1\n",
      "  Downloading frozenlist-1.2.0-cp37-cp37m-manylinux_2_5_x86_64.manylinux1_x86_64.manylinux_2_12_x86_64.manylinux2010_x86_64.whl (192 kB)\n",
      "\u001b[K     |████████████████████████████████| 192 kB 64.4 MB/s \n",
      "\u001b[?25hCollecting yarl<2.0,>=1.0\n",
      "  Downloading yarl-1.7.2-cp37-cp37m-manylinux_2_5_x86_64.manylinux1_x86_64.manylinux_2_12_x86_64.manylinux2010_x86_64.whl (271 kB)\n",
      "\u001b[K     |████████████████████████████████| 271 kB 49.6 MB/s \n",
      "\u001b[?25hRequirement already satisfied: typing-extensions>=3.7.4 in /usr/local/lib/python3.7/dist-packages (from aiohttp>=3.7->ray[default]>=1.3.0->deephyper) (3.10.0.2)\n",
      "Collecting asynctest==0.13.0\n",
      "  Downloading asynctest-0.13.0-py3-none-any.whl (26 kB)\n",
      "Requirement already satisfied: charset-normalizer<3.0,>=2.0 in /usr/local/lib/python3.7/dist-packages (from aiohttp>=3.7->ray[default]>=1.3.0->deephyper) (2.0.7)\n",
      "Collecting multidict<7.0,>=4.5\n",
      "  Downloading multidict-5.2.0-cp37-cp37m-manylinux_2_5_x86_64.manylinux1_x86_64.manylinux_2_12_x86_64.manylinux2010_x86_64.whl (160 kB)\n",
      "\u001b[K     |████████████████████████████████| 160 kB 57.6 MB/s \n",
      "\u001b[?25hCollecting async-timeout<5.0,>=4.0.0a3\n",
      "  Downloading async_timeout-4.0.1-py3-none-any.whl (5.7 kB)\n",
      "Collecting hiredis\n",
      "  Downloading hiredis-2.0.0-cp37-cp37m-manylinux2010_x86_64.whl (85 kB)\n",
      "\u001b[K     |████████████████████████████████| 85 kB 4.1 MB/s \n",
      "\u001b[?25hRequirement already satisfied: nvidia-ml-py3>=7.352.0 in /usr/local/lib/python3.7/dist-packages (from gpustat>=1.0.0b1->ray[default]>=1.3.0->deephyper) (7.352.0)\n",
      "Requirement already satisfied: psutil in /usr/local/lib/python3.7/dist-packages (from gpustat>=1.0.0b1->ray[default]>=1.3.0->deephyper) (5.4.8)\n",
      "Collecting blessed>=1.17.1\n",
      "  Downloading blessed-1.19.0-py2.py3-none-any.whl (57 kB)\n",
      "\u001b[K     |████████████████████████████████| 57 kB 4.7 MB/s \n",
      "\u001b[?25hRequirement already satisfied: wcwidth>=0.1.4 in /usr/local/lib/python3.7/dist-packages (from blessed>=1.17.1->gpustat>=1.0.0b1->ray[default]>=1.3.0->deephyper) (0.2.5)\n",
      "Collecting deprecated\n",
      "  Downloading Deprecated-1.2.13-py2.py3-none-any.whl (9.6 kB)\n",
      "Requirement already satisfied: threadpoolctl>=2.0.0 in /usr/local/lib/python3.7/dist-packages (from scikit-learn>=0.23.1->deephyper) (3.0.0)\n",
      "Requirement already satisfied: tensorboard~=2.6 in /usr/local/lib/python3.7/dist-packages (from tensorflow>=2.0.0->deephyper) (2.7.0)\n",
      "Requirement already satisfied: flatbuffers<3.0,>=1.12 in /usr/local/lib/python3.7/dist-packages (from tensorflow>=2.0.0->deephyper) (2.0)\n",
      "Requirement already satisfied: gast<0.5.0,>=0.2.1 in /usr/local/lib/python3.7/dist-packages (from tensorflow>=2.0.0->deephyper) (0.4.0)\n",
      "Requirement already satisfied: wheel<1.0,>=0.32.0 in /usr/local/lib/python3.7/dist-packages (from tensorflow>=2.0.0->deephyper) (0.37.0)\n",
      "Requirement already satisfied: tensorflow-io-gcs-filesystem>=0.21.0 in /usr/local/lib/python3.7/dist-packages (from tensorflow>=2.0.0->deephyper) (0.22.0)\n",
      "Requirement already satisfied: google-pasta>=0.1.1 in /usr/local/lib/python3.7/dist-packages (from tensorflow>=2.0.0->deephyper) (0.2.0)\n",
      "Requirement already satisfied: wrapt>=1.11.0 in /usr/local/lib/python3.7/dist-packages (from tensorflow>=2.0.0->deephyper) (1.13.3)\n",
      "Requirement already satisfied: tensorflow-estimator<2.8,~=2.7.0rc0 in /usr/local/lib/python3.7/dist-packages (from tensorflow>=2.0.0->deephyper) (2.7.0)\n",
      "Requirement already satisfied: keras-preprocessing>=1.1.1 in /usr/local/lib/python3.7/dist-packages (from tensorflow>=2.0.0->deephyper) (1.1.2)\n",
      "Requirement already satisfied: absl-py>=0.4.0 in /usr/local/lib/python3.7/dist-packages (from tensorflow>=2.0.0->deephyper) (0.12.0)\n",
      "Requirement already satisfied: h5py>=2.9.0 in /usr/local/lib/python3.7/dist-packages (from tensorflow>=2.0.0->deephyper) (3.1.0)\n",
      "Requirement already satisfied: opt-einsum>=2.3.2 in /usr/local/lib/python3.7/dist-packages (from tensorflow>=2.0.0->deephyper) (3.3.0)\n",
      "Requirement already satisfied: termcolor>=1.1.0 in /usr/local/lib/python3.7/dist-packages (from tensorflow>=2.0.0->deephyper) (1.1.0)\n",
      "Requirement already satisfied: keras<2.8,>=2.7.0rc0 in /usr/local/lib/python3.7/dist-packages (from tensorflow>=2.0.0->deephyper) (2.7.0)\n",
      "Requirement already satisfied: astunparse>=1.6.0 in /usr/local/lib/python3.7/dist-packages (from tensorflow>=2.0.0->deephyper) (1.6.3)\n",
      "Requirement already satisfied: libclang>=9.0.1 in /usr/local/lib/python3.7/dist-packages (from tensorflow>=2.0.0->deephyper) (12.0.0)\n",
      "Requirement already satisfied: cached-property in /usr/local/lib/python3.7/dist-packages (from h5py>=2.9.0->tensorflow>=2.0.0->deephyper) (1.5.2)\n",
      "Requirement already satisfied: google-auth-oauthlib<0.5,>=0.4.1 in /usr/local/lib/python3.7/dist-packages (from tensorboard~=2.6->tensorflow>=2.0.0->deephyper) (0.4.6)\n",
      "Requirement already satisfied: setuptools>=41.0.0 in /usr/local/lib/python3.7/dist-packages (from tensorboard~=2.6->tensorflow>=2.0.0->deephyper) (57.4.0)\n",
      "Requirement already satisfied: werkzeug>=0.11.15 in /usr/local/lib/python3.7/dist-packages (from tensorboard~=2.6->tensorflow>=2.0.0->deephyper) (1.0.1)\n",
      "Requirement already satisfied: tensorboard-plugin-wit>=1.6.0 in /usr/local/lib/python3.7/dist-packages (from tensorboard~=2.6->tensorflow>=2.0.0->deephyper) (1.8.0)\n",
      "Requirement already satisfied: markdown>=2.6.8 in /usr/local/lib/python3.7/dist-packages (from tensorboard~=2.6->tensorflow>=2.0.0->deephyper) (3.3.4)\n",
      "Requirement already satisfied: tensorboard-data-server<0.7.0,>=0.6.0 in /usr/local/lib/python3.7/dist-packages (from tensorboard~=2.6->tensorflow>=2.0.0->deephyper) (0.6.1)\n",
      "Requirement already satisfied: google-auth<3,>=1.6.3 in /usr/local/lib/python3.7/dist-packages (from tensorboard~=2.6->tensorflow>=2.0.0->deephyper) (1.35.0)\n",
      "Requirement already satisfied: rsa<5,>=3.1.4 in /usr/local/lib/python3.7/dist-packages (from google-auth<3,>=1.6.3->tensorboard~=2.6->tensorflow>=2.0.0->deephyper) (4.7.2)\n",
      "Requirement already satisfied: pyasn1-modules>=0.2.1 in /usr/local/lib/python3.7/dist-packages (from google-auth<3,>=1.6.3->tensorboard~=2.6->tensorflow>=2.0.0->deephyper) (0.2.8)\n",
      "Requirement already satisfied: cachetools<5.0,>=2.0.0 in /usr/local/lib/python3.7/dist-packages (from google-auth<3,>=1.6.3->tensorboard~=2.6->tensorflow>=2.0.0->deephyper) (4.2.4)\n",
      "Requirement already satisfied: requests-oauthlib>=0.7.0 in /usr/local/lib/python3.7/dist-packages (from google-auth-oauthlib<0.5,>=0.4.1->tensorboard~=2.6->tensorflow>=2.0.0->deephyper) (1.3.0)\n",
      "Requirement already satisfied: importlib-metadata in /usr/local/lib/python3.7/dist-packages (from markdown>=2.6.8->tensorboard~=2.6->tensorflow>=2.0.0->deephyper) (4.8.2)\n",
      "Requirement already satisfied: pyasn1<0.5.0,>=0.4.6 in /usr/local/lib/python3.7/dist-packages (from pyasn1-modules>=0.2.1->google-auth<3,>=1.6.3->tensorboard~=2.6->tensorflow>=2.0.0->deephyper) (0.4.8)\n",
      "Requirement already satisfied: idna<3,>=2.5 in /usr/local/lib/python3.7/dist-packages (from requests->openml==0.10.2->deephyper) (2.10)\n",
      "Requirement already satisfied: urllib3!=1.25.0,!=1.25.1,<1.26,>=1.21.1 in /usr/local/lib/python3.7/dist-packages (from requests->openml==0.10.2->deephyper) (1.24.3)\n",
      "Requirement already satisfied: chardet<4,>=3.0.2 in /usr/local/lib/python3.7/dist-packages (from requests->openml==0.10.2->deephyper) (3.0.4)\n",
      "Requirement already satisfied: certifi>=2017.4.17 in /usr/local/lib/python3.7/dist-packages (from requests->openml==0.10.2->deephyper) (2021.10.8)\n",
      "Requirement already satisfied: oauthlib>=3.0.0 in /usr/local/lib/python3.7/dist-packages (from requests-oauthlib>=0.7.0->google-auth-oauthlib<0.5,>=0.4.1->tensorboard~=2.6->tensorflow>=2.0.0->deephyper) (3.1.1)\n",
      "Requirement already satisfied: zipp>=0.5 in /usr/local/lib/python3.7/dist-packages (from importlib-metadata->markdown>=2.6.8->tensorboard~=2.6->tensorflow>=2.0.0->deephyper) (3.6.0)\n",
      "Requirement already satisfied: MarkupSafe>=0.23 in /usr/local/lib/python3.7/dist-packages (from Jinja2->deephyper) (2.0.1)\n",
      "Requirement already satisfied: google-api-core<3.0.0,>=1.0.0 in /usr/local/lib/python3.7/dist-packages (from opencensus->ray[default]>=1.3.0->deephyper) (1.26.3)\n",
      "Collecting opencensus-context==0.1.2\n",
      "  Downloading opencensus_context-0.1.2-py2.py3-none-any.whl (4.4 kB)\n",
      "Requirement already satisfied: googleapis-common-protos<2.0dev,>=1.6.0 in /usr/local/lib/python3.7/dist-packages (from google-api-core<3.0.0,>=1.0.0->opencensus->ray[default]>=1.3.0->deephyper) (1.53.0)\n",
      "Requirement already satisfied: packaging>=14.3 in /usr/local/lib/python3.7/dist-packages (from google-api-core<3.0.0,>=1.0.0->opencensus->ray[default]>=1.3.0->deephyper) (21.2)\n",
      "Requirement already satisfied: patsy>=0.4.0 in /usr/local/lib/python3.7/dist-packages (from statsmodels->deephyper) (0.5.2)\n",
      "Requirement already satisfied: decorator in /usr/local/lib/python3.7/dist-packages (from tensorflow-probability->deephyper) (4.4.2)\n",
      "Requirement already satisfied: dm-tree in /usr/local/lib/python3.7/dist-packages (from tensorflow-probability->deephyper) (0.1.6)\n",
      "Requirement already satisfied: cloudpickle>=1.3 in /usr/local/lib/python3.7/dist-packages (from tensorflow-probability->deephyper) (1.3.0)\n",
      "Building wheels for collected packages: openml, liac-arff, gpustat\n",
      "  Building wheel for openml (setup.py) ... \u001b[?25l\u001b[?25hdone\n",
      "  Created wheel for openml: filename=openml-0.10.2-py3-none-any.whl size=190318 sha256=6f431466cb702f739c2337475733f05ce4bb2bafb81cc3d9d1ab6941159d0152\n",
      "  Stored in directory: /root/.cache/pip/wheels/9c/9e/f3/6a5ebf16527d7fe22d9bc1652bc9beb5dc9fcfdeb75e805400\n",
      "  Building wheel for liac-arff (setup.py) ... \u001b[?25l\u001b[?25hdone\n",
      "  Created wheel for liac-arff: filename=liac_arff-2.5.0-py3-none-any.whl size=11731 sha256=60fe3cfb23ccb90a5eb581e4884df69a8e804b2d6fb7ec25b6ae071acde27916\n",
      "  Stored in directory: /root/.cache/pip/wheels/1f/0f/15/332ca86cbebf25ddf98518caaf887945fbe1712b97a0f2493b\n",
      "  Building wheel for gpustat (setup.py) ... \u001b[?25l\u001b[?25hdone\n",
      "  Created wheel for gpustat: filename=gpustat-1.0.0b1-py3-none-any.whl size=15979 sha256=80eda2084e3b9a55684ec3fbfc292b182ec25c8bef7220130107c82157038bb8\n",
      "  Stored in directory: /root/.cache/pip/wheels/1a/16/e2/3e2437fba4c4b6a97a97bd96fce5d14e66cff5c4966fb1cc8c\n",
      "Successfully built openml liac-arff gpustat\n",
      "Installing collected packages: multidict, frozenlist, yarl, deprecated, asynctest, async-timeout, aiosignal, redis, opencensus-context, hiredis, blessed, aiohttp, xmltodict, ray, pyaml, py-spy, opencensus, liac-arff, gpustat, colorful, aioredis, aiohttp-cors, openml, dh-scikit-optimize, ConfigSpace, deephyper\n",
      "Successfully installed ConfigSpace-0.4.20 aiohttp-3.8.1 aiohttp-cors-0.7.0 aioredis-1.3.1 aiosignal-1.2.0 async-timeout-4.0.1 asynctest-0.13.0 blessed-1.19.0 colorful-0.5.4 deephyper-0.3.3 deprecated-1.2.13 dh-scikit-optimize-0.9.4 frozenlist-1.2.0 gpustat-1.0.0b1 hiredis-2.0.0 liac-arff-2.5.0 multidict-5.2.0 opencensus-0.8.0 opencensus-context-0.1.2 openml-0.10.2 py-spy-0.3.11 pyaml-21.10.1 ray-1.8.0 redis-4.0.1 xmltodict-0.12.0 yarl-1.7.2\n"
     ]
    }
   ],
   "source": [
    "!pip install deephyper[\"nas\"]\n",
    "!pip install ray"
   ]
  },
  {
   "cell_type": "markdown",
   "id": "a8ce038c",
   "metadata": {
    "id": "a8ce038c"
   },
   "source": [
    "## Loading the data\n",
    "\n",
    "First, we will create the `load_data` function which loads and returns the\n",
    "training and validation data. The `load_data` function generates data from\n",
    "a function $f$ where $\\mathbf{x} \\in [a, b]^n$  such as $f(\\mathbf{x}) = -\\sum_{i=0}^{n-1} {x_i ^2}$:"
   ]
  },
  {
   "cell_type": "code",
   "execution_count": 1,
   "id": "f7b5ce3f",
   "metadata": {
    "colab": {
     "base_uri": "https://localhost:8080/"
    },
    "id": "f7b5ce3f",
    "outputId": "d49c6a27-8b12-4430-d7bd-2302992bbe34"
   },
   "outputs": [
    {
     "name": "stdout",
     "output_type": "stream",
     "text": [
      "X_train shape: (8000, 10)\n",
      "y_train shape: (8000, 1)\n",
      "X_valid shape: (2000, 10)\n",
      "y_valid shape: (2000, 1)\n"
     ]
    }
   ],
   "source": [
    "import numpy as np\n",
    "\n",
    "def load_data(verbose=0, dim=10, a=-50, b=50, prop=0.80, size=10000):\n",
    "    rs = np.random.RandomState(2018)\n",
    "\n",
    "    def polynome_2(x):\n",
    "        return -sum([x_i ** 2 for x_i in x])\n",
    "\n",
    "    d = b - a\n",
    "    x = np.array([a + rs.random(dim) * d for _ in range(size)])\n",
    "    y = np.array([[polynome_2(v)] for v in x])\n",
    "\n",
    "    sep_index = int(prop * size)\n",
    "    X_train = x[:sep_index]\n",
    "    y_train = y[:sep_index]\n",
    "\n",
    "    X_valid = x[sep_index:]\n",
    "    y_valid = y[sep_index:]\n",
    "    \n",
    "    if verbose:\n",
    "        print(f\"X_train shape: {np.shape(X_train)}\")\n",
    "        print(f\"y_train shape: {np.shape(y_train)}\")\n",
    "        print(f\"X_valid shape: {np.shape(X_valid)}\")\n",
    "        print(f\"y_valid shape: {np.shape(y_valid)}\")\n",
    "    return (X_train, y_train), (X_valid, y_valid)\n",
    "\n",
    "\n",
    "_ = load_data(verbose=1)"
   ]
  },
  {
   "cell_type": "markdown",
   "id": "e5f4a6a0",
   "metadata": {
    "id": "e5f4a6a0"
   },
   "source": [
    "## Define a neural architecture search space\n",
    "\n",
    "Let us define the neural architecture search space. To do this we use a `KSearchSpace` class. We define the `ResNetMLPSpace` search space which is a sub-class of `KSearchSpace` where we have to implement a `build()` method which return itself. The `__init__` method is used to pass possible options of the search space such as the maximum number of layers `self.num_layers`.\n",
    "\n",
    "The input nodes can be retrieved with `self.input_nodes` which is automatically built depending on the `input_shape`.\n",
    "\n",
    "The search space is composed of `ConstantNode` and `VariableNode`. A `ConstantNode` defines a fixed operations whereas the `VariableNode` defines a list of possible operations (i.e., corresponds to a categorical decision variable). Operations can be defined directly from Keras Layers such as:\n",
    "\n",
    "```python\n",
    "Dense = operation(tf.keras.layers.Dense)\n",
    "```\n",
    "\n",
    "All nodes of the search space without outer edges are automatically assumed to be output nodes."
   ]
  },
  {
   "cell_type": "code",
   "execution_count": 2,
   "id": "603d78fb",
   "metadata": {
    "id": "603d78fb"
   },
   "outputs": [],
   "source": [
    "import collections\n",
    "\n",
    "import tensorflow as tf\n",
    "\n",
    "from deephyper.nas import KSearchSpace\n",
    "from deephyper.nas.node import ConstantNode, VariableNode\n",
    "from deephyper.nas.operation import operation, Zero, Connect, AddByProjecting, Identity\n",
    "\n",
    "\n",
    "Dense = operation(tf.keras.layers.Dense)\n",
    "Dropout = operation(tf.keras.layers.Dropout)\n",
    "Add = operation(tf.keras.layers.Add)\n",
    "Flatten = operation(tf.keras.layers.Flatten)\n",
    "\n",
    "ACTIVATIONS = [\n",
    "    tf.keras.activations.elu,\n",
    "    tf.keras.activations.gelu,\n",
    "    tf.keras.activations.hard_sigmoid,\n",
    "    tf.keras.activations.linear,\n",
    "    tf.keras.activations.relu,\n",
    "    tf.keras.activations.selu,\n",
    "    tf.keras.activations.sigmoid,\n",
    "    tf.keras.activations.softplus,\n",
    "    tf.keras.activations.softsign,\n",
    "    tf.keras.activations.swish,\n",
    "    tf.keras.activations.tanh,\n",
    "]\n",
    "\n",
    "\n",
    "class ResNetMLPSpace(KSearchSpace):\n",
    "    \n",
    "    def __init__(self, input_shape, output_shape, seed=None, num_layers=3, mode=\"regression\"):\n",
    "        super().__init__(input_shape, output_shape, seed=seed)\n",
    "        \n",
    "        self.num_layers = num_layers\n",
    "        assert mode in [\"regression\", \"classification\"]\n",
    "        self.mode = mode\n",
    "        \n",
    "    def build(self):\n",
    "        \n",
    "        source = self.input_nodes[0]\n",
    "        output_dim = self.output_shape[0]\n",
    "\n",
    "        out_sub_graph = self.build_sub_graph(source, self.num_layers)\n",
    "\n",
    "        if self.mode == \"regression\":\n",
    "            output = ConstantNode(op=Dense(output_dim)) \n",
    "            self.connect(out_sub_graph, output)\n",
    "        else:\n",
    "            output = ConstantNode(\n",
    "                op=Dense(output_dim, activation=\"softmax\")\n",
    "            )  # One-hot encoding\n",
    "            self.connect(out_sub_graph, output)\n",
    "\n",
    "        return self\n",
    "\n",
    "    def build_sub_graph(self, input_, num_layers=3):\n",
    "        source = prev_input = input_\n",
    "\n",
    "        # look over skip connections within a range of the 3 previous nodes\n",
    "        anchor_points = collections.deque([source], maxlen=3)\n",
    "\n",
    "        for _ in range(self.num_layers):\n",
    "            dense = VariableNode()\n",
    "            self.add_dense_to_(dense)\n",
    "            self.connect(prev_input, dense)\n",
    "            x = dense\n",
    "\n",
    "            dropout = VariableNode()\n",
    "            self.add_dropout_to_(dropout)\n",
    "            self.connect(x, dropout)\n",
    "            x = dropout\n",
    "\n",
    "            add = ConstantNode()\n",
    "            add.set_op(AddByProjecting(self, [x], activation=\"relu\"))\n",
    "\n",
    "            for anchor in anchor_points:\n",
    "                skipco = VariableNode()\n",
    "                skipco.add_op(Zero())\n",
    "                skipco.add_op(Connect(self, anchor))\n",
    "                self.connect(skipco, add)\n",
    "\n",
    "            prev_input = add\n",
    "\n",
    "            # ! for next iter\n",
    "            anchor_points.append(prev_input)\n",
    "\n",
    "        return prev_input\n",
    "\n",
    "    def add_dense_to_(self, node):\n",
    "        node.add_op(Identity())  # we do not want to create a layer in this case\n",
    "        for units in range(16, 16 * 16 + 1, 16):\n",
    "            for activation in ACTIVATIONS:\n",
    "                node.add_op(Dense(units=units, activation=activation))\n",
    "\n",
    "    def add_dropout_to_(self, node):\n",
    "        a, b = 1e-3, 0.4\n",
    "        node.add_op(Identity())\n",
    "        dropout_range = np.exp(np.linspace(np.log(a), np.log(b), 10))  #! NAS\n",
    "        for rate in dropout_range:\n",
    "            node.add_op(Dropout(rate))"
   ]
  },
  {
   "cell_type": "markdown",
   "id": "ad5eea4f",
   "metadata": {
    "id": "ad5eea4f"
   },
   "source": [
    "A `KSearchSpace` as some useful methods such as:\n",
    "\n",
    "* `space.sample(choice)` which returns a random model from the search space if `choice == None` or generate a model corresponding to the choice if not.\n",
    "* `space.choices()` which returns the list of discrete dimensions corresponding to the search space.\n",
    "\n",
    "Let us visualize a few randomly sampled neural architecture from this search space."
   ]
  },
  {
   "cell_type": "code",
   "execution_count": 3,
   "id": "42e4147e",
   "metadata": {
    "colab": {
     "base_uri": "https://localhost:8080/",
     "height": 863
    },
    "id": "42e4147e",
    "outputId": "f00129ee-bc22-4e6e-a9be-6b042741270d"
   },
   "outputs": [
    {
     "name": "stdout",
     "output_type": "stream",
     "text": [
      "Choices:  [(0, 176), (0, 10), (0, 1), (0, 176), (0, 10), (0, 1), (0, 1), (0, 176), (0, 10), (0, 1), (0, 1), (0, 1)]\n"
     ]
    },
    {
     "data": {
      "image/png": "[encoded data removed]",
      "text/plain": [
       "<Figure size 1080x1080 with 4 Axes>"
      ]
     },
     "metadata": {
      "needs_background": "light"
     },
     "output_type": "display_data"
    }
   ],
   "source": [
    "import matplotlib.pyplot as plt\n",
    "import matplotlib.image as mpimg\n",
    "from tensorflow.keras.utils import plot_model\n",
    "\n",
    "shapes = dict(input_shape=(10,), output_shape=(1,))\n",
    "space = ResNetMLPSpace(**shapes).build()\n",
    "\n",
    "print(\"Choices: \", space.choices())\n",
    "\n",
    "images = []\n",
    "plt.figure(figsize=(15,15))\n",
    "for i in range(4):\n",
    "    \n",
    "    plt.subplot(2,2,i+1)\n",
    "    model = space.sample()\n",
    "    plot_model(model, \"random_model.png\", \n",
    "               show_shapes=False, show_layer_names=False) \n",
    "    image = mpimg.imread(\"random_model.png\")   \n",
    "    plt.imshow(image)\n",
    "    plt.axis('off')\n",
    "\n",
    "plt.show()"
   ]
  },
  {
   "cell_type": "markdown",
   "id": "25948d79",
   "metadata": {
    "id": "25948d79"
   },
   "source": [
    "## Create a problem instance\n",
    "\n",
    "Let us define the neural architecture search problem."
   ]
  },
  {
   "cell_type": "code",
   "execution_count": 4,
   "id": "8be0797a",
   "metadata": {
    "colab": {
     "base_uri": "https://localhost:8080/"
    },
    "id": "8be0797a",
    "outputId": "e809405e-b53d-46cf-8a5f-356eb29b91c9"
   },
   "outputs": [
    {
     "data": {
      "text/plain": [
       "Problem is:\n",
       "    - search space   : __main__.ResNetMLPSpace\n",
       "    - data loading   : __main__.load_data\n",
       "    - preprocessing  : deephyper.nas.preprocessing._base.minmaxstdscaler\n",
       "    - hyperparameters: \n",
       "        * verbose: 0\n",
       "        * batch_size: 32\n",
       "        * learning_rate: 0.01\n",
       "        * optimizer: adam\n",
       "        * num_epochs: 20\n",
       "        * callbacks: {'EarlyStopping': {'monitor': 'val_r2', 'mode': 'max', 'verbose': 0, 'patience': 5}}\n",
       "    - loss           : mse\n",
       "    - metrics        : \n",
       "        * r2\n",
       "    - objective      : val_r2__last"
      ]
     },
     "execution_count": 4,
     "metadata": {},
     "output_type": "execute_result"
    }
   ],
   "source": [
    "from deephyper.problem import NaProblem\n",
    "from deephyper.nas.preprocessing import minmaxstdscaler\n",
    "\n",
    "# Create a Neural Architecture problem\n",
    "problem = NaProblem()\n",
    "\n",
    "# Link the load-data function\n",
    "problem.load_data(load_data)\n",
    "\n",
    "# The function passed to preprocessing has to return \n",
    "# a scikit-learn like preprocessor.\n",
    "problem.preprocessing(minmaxstdscaler)\n",
    "\n",
    "# Link the defined search space\n",
    "problem.search_space(ResNetMLPSpace)\n",
    "\n",
    "# Fixed hyperparameters for all trained models\n",
    "problem.hyperparameters(\n",
    "    batch_size=32,\n",
    "    learning_rate=0.01,\n",
    "    optimizer=\"adam\",\n",
    "    num_epochs=20,\n",
    "    callbacks=dict(\n",
    "        EarlyStopping=dict(\n",
    "            monitor=\"val_r2\", mode=\"max\", verbose=0, patience=5\n",
    "        )\n",
    "    ),\n",
    ")\n",
    "\n",
    "# Define the optimized loss (it can also be a function)\n",
    "problem.loss(\"mse\")\n",
    "\n",
    "# Define metrics to compute for each training and validation epoch\n",
    "problem.metrics([\"r2\"])\n",
    "\n",
    "# Define the maximised objective\n",
    "problem.objective(\"val_r2__last\")\n",
    "\n",
    "problem"
   ]
  },
  {
   "cell_type": "markdown",
   "id": "64b501b3",
   "metadata": {
    "id": "64b501b3"
   },
   "source": [
    "Find more about `NaProblem` settings on the [Problem documentation](https://deephyper.readthedocs.io/en/latest/api/deephyper.problem.html).\n",
    "\n",
    "<div class=\"alert alert-info\">\n",
    "    \n",
    "<b>Tip</b>\n",
    "    \n",
    "\n",
    "Adding an `EarlyStopping(...)` callback is a good idea to stop the training of your model as soon as it stops to improve.\n",
    "\n",
    "```python\n",
    "...\n",
    "EarlyStopping=dict(monitor=\"val_r2\", mode=\"max\", verbose=0, patience=5)\n",
    "...\n",
    "```\n",
    "    \n",
    "</div>"
   ]
  },
  {
   "cell_type": "markdown",
   "id": "8d4ba367",
   "metadata": {
    "id": "8d4ba367"
   },
   "source": [
    "## Running the search"
   ]
  },
  {
   "cell_type": "markdown",
   "id": "b452fe5b",
   "metadata": {
    "id": "b452fe5b"
   },
   "source": [
    "Create an `Evaluator` object using the `ray` backend to distribute the evaluation of the run-function. In neural architecture search DeepHyper provides the `run_base_trainer` function which automate the training process of a sampled model."
   ]
  },
  {
   "cell_type": "code",
   "execution_count": 5,
   "id": "197f723d",
   "metadata": {
    "colab": {
     "base_uri": "https://localhost:8080/"
    },
    "id": "197f723d",
    "outputId": "f8a945c2-5b22-4f6f-8551-37e80a905593"
   },
   "outputs": [
    {
     "name": "stdout",
     "output_type": "stream",
     "text": [
      "10 CPUs are available on this system.\n"
     ]
    },
    {
     "name": "stderr",
     "output_type": "stream",
     "text": [
      "/Users/romainegele/Documents/Argonne/deephyper/deephyper/evaluator/_evaluator.py:99: UserWarning: Applying nest-asyncio patch for IPython Shell!\n",
      "  warnings.warn(\n"
     ]
    },
    {
     "name": "stdout",
     "output_type": "stream",
     "text": [
      "Number of workers:  4\n"
     ]
    }
   ],
   "source": [
    "import multiprocessing\n",
    "num_cpus = multiprocessing.cpu_count()\n",
    "\n",
    "print(f\"{num_cpus} CPU{'s' if num_cpus > 1 else ''} are available on this system.\")\n",
    "\n",
    "\n",
    "from deephyper.evaluator import Evaluator\n",
    "from deephyper.evaluator.callback import TqdmCallback\n",
    "\n",
    "from deephyper.nas.run import run_base_trainer\n",
    "\n",
    "evaluator = Evaluator.create(run_base_trainer, \n",
    "                 method=\"ray\", \n",
    "                 method_kwargs={\n",
    "                     # Start a new Ray server\n",
    "                     \"address\": None, \n",
    "                     # Defines the number of available CPUs\n",
    "                     \"num_cpus\": min(4, num_cpus),\n",
    "                     # Defines the number of CPUs for each task\n",
    "                     \"num_cpus_per_task\": 1,\n",
    "                     \"callbacks\": [TqdmCallback()]\n",
    "                 })\n",
    "\n",
    "print(\"Number of workers: \", evaluator.num_workers)"
   ]
  },
  {
   "cell_type": "markdown",
   "id": "1b6cd751",
   "metadata": {
    "id": "1b6cd751"
   },
   "source": [
    "<div class=\"alert alert-info\">\n",
    "    \n",
    "<b>Tip</b> \n",
    "    \n",
    "If executed locally, you can open the ray-dashboard at an address like <a>http://127.0.0.1:port</a> in a browser to monitor the CPU usage of the execution.\n",
    "    \n",
    "</div>\n",
    "\n",
    "Finally, you can define a Random search called `Random` and link to it the defined `problem` and `evaluator`."
   ]
  },
  {
   "cell_type": "code",
   "execution_count": 6,
   "id": "b2e09062",
   "metadata": {
    "id": "b2e09062"
   },
   "outputs": [],
   "source": [
    "from deephyper.search.nas import Random\n",
    "\n",
    "\n",
    "search = Random(problem, evaluator)"
   ]
  },
  {
   "cell_type": "code",
   "execution_count": 7,
   "id": "0892e8a0",
   "metadata": {
    "colab": {
     "base_uri": "https://localhost:8080/"
    },
    "id": "0892e8a0",
    "outputId": "2314a970-98a2-4b33-c0b5-d108d6272152"
   },
   "outputs": [
    {
     "name": "stderr",
     "output_type": "stream",
     "text": [
      "\u001b[2m\u001b[36m(run_base_trainer pid=5275)\u001b[0m 2022-06-07 12:52:24.591670: I tensorflow/compiler/mlir/mlir_graph_optimization_pass.cc:185] None of the MLIR Optimization Passes are enabled (registered 2)\n",
      "\u001b[2m\u001b[36m(run_base_trainer pid=5275)\u001b[0m 2022-06-07 12:52:24.594858: W tensorflow/core/platform/profile_utils/cpu_utils.cc:128] Failed to get CPU frequency: 0 Hz\n",
      "\u001b[2m\u001b[36m(run_base_trainer pid=5273)\u001b[0m 2022-06-07 12:52:24.594376: I tensorflow/compiler/mlir/mlir_graph_optimization_pass.cc:185] None of the MLIR Optimization Passes are enabled (registered 2)\n",
      "\u001b[2m\u001b[36m(run_base_trainer pid=5273)\u001b[0m 2022-06-07 12:52:24.595497: W tensorflow/core/platform/profile_utils/cpu_utils.cc:128] Failed to get CPU frequency: 0 Hz\n",
      "\u001b[2m\u001b[36m(run_base_trainer pid=5274)\u001b[0m 2022-06-07 12:52:24.595480: I tensorflow/compiler/mlir/mlir_graph_optimization_pass.cc:185] None of the MLIR Optimization Passes are enabled (registered 2)\n",
      "\u001b[2m\u001b[36m(run_base_trainer pid=5274)\u001b[0m 2022-06-07 12:52:24.596722: W tensorflow/core/platform/profile_utils/cpu_utils.cc:128] Failed to get CPU frequency: 0 Hz\n",
      "\u001b[2m\u001b[36m(run_base_trainer pid=5276)\u001b[0m 2022-06-07 12:52:24.599946: I tensorflow/compiler/mlir/mlir_graph_optimization_pass.cc:185] None of the MLIR Optimization Passes are enabled (registered 2)\n",
      "\u001b[2m\u001b[36m(run_base_trainer pid=5276)\u001b[0m 2022-06-07 12:52:24.601116: W tensorflow/core/platform/profile_utils/cpu_utils.cc:128] Failed to get CPU frequency: 0 Hz\n",
      "100%|██████████| 10/10 [00:09<00:00,  1.04s/it, objective=0.973] "
     ]
    }
   ],
   "source": [
    "results = search.search(10)"
   ]
  },
  {
   "cell_type": "markdown",
   "id": "eb594125",
   "metadata": {
    "id": "eb594125"
   },
   "source": [
    "After the search is over, you will find the following files in your current folder:\n",
    "\n",
    "```\n",
    "results.csv\n",
    "save/\n",
    "```\n",
    "\n",
    "Let us visualize the training of our models. First, we need to load the training history of each model which are located in `save/history`:"
   ]
  },
  {
   "cell_type": "code",
   "execution_count": 8,
   "id": "c99ecd2d",
   "metadata": {
    "colab": {
     "base_uri": "https://localhost:8080/"
    },
    "id": "c99ecd2d",
    "outputId": "3ec536dc-b958-40e9-877d-37af339600dc"
   },
   "outputs": [
    {
     "name": "stdout",
     "output_type": "stream",
     "text": [
      "['n_parameters', 'training_time', 'loss', 'r2', 'val_loss', 'val_r2']\n"
     ]
    }
   ],
   "source": [
    "import os\n",
    "import json\n",
    "\n",
    "\n",
    "histories = [os.path.join(\"save/history\", f) for f in os.listdir(\"save/history/\") if \".json\" in f]\n",
    "\n",
    "for i, fpath in enumerate(histories):\n",
    "    with open(fpath, \"r\") as fd:\n",
    "        histories[i] = json.load(fd)\n",
    "        \n",
    "print(list(histories[0].keys()))"
   ]
  },
  {
   "cell_type": "code",
   "execution_count": 9,
   "id": "0aed3cf4",
   "metadata": {
    "colab": {
     "base_uri": "https://localhost:8080/",
     "height": 279
    },
    "id": "0aed3cf4",
    "outputId": "c7732592-d0af-426a-e1e2-a54357307069"
   },
   "outputs": [
    {
     "data": {
      "image/png": "[encoded data removed]",
      "text/plain": [
       "<Figure size 432x288 with 1 Axes>"
      ]
     },
     "metadata": {
      "needs_background": "light"
     },
     "output_type": "display_data"
    }
   ],
   "source": [
    "plt.figure()\n",
    "\n",
    "for h in histories:\n",
    "    plt.plot(h[\"val_r2\"])\n",
    "\n",
    "plt.ylabel(\"Validation $R^2$\")\n",
    "plt.xlabel(\"Epochs\")\n",
    "plt.show()"
   ]
  },
  {
   "cell_type": "markdown",
   "id": "c02b4096",
   "metadata": {
    "id": "c02b4096"
   },
   "source": [
    "Once the search is over, a file named `results.csv` is saved in the current directory. The same dataframe is returned by the `search.search(...)` call. It contains the configurations evaluated during the search and their corresponding `objective` value (i.e, validation accuracy), `timestamp_submit` the time when the evaluator submitted the configuration to be evaluated and `timestamp_gather` the time when the evaluator received the configuration once evaluated (both are relative times with respect to the creation of the `Evaluator` instance). Each neural architecture is embedded as a list of discrete decision variables called `arch_seq`."
   ]
  },
  {
   "cell_type": "code",
   "execution_count": 11,
   "id": "15e7aed4",
   "metadata": {
    "colab": {
     "base_uri": "https://localhost:8080/",
     "height": 363
    },
    "id": "15e7aed4",
    "outputId": "4942cd87-9c3b-4ebb-f8c6-52c79e5b3eb9"
   },
   "outputs": [
    {
     "data": {
      "text/html": [
       "<div>\n",
       "<style scoped>\n",
       "    .dataframe tbody tr th:only-of-type {\n",
       "        vertical-align: middle;\n",
       "    }\n",
       "\n",
       "    .dataframe tbody tr th {\n",
       "        vertical-align: top;\n",
       "    }\n",
       "\n",
       "    .dataframe thead th {\n",
       "        text-align: right;\n",
       "    }\n",
       "</style>\n",
       "<table border=\"1\" class=\"dataframe\">\n",
       "  <thead>\n",
       "    <tr style=\"text-align: right;\">\n",
       "      <th></th>\n",
       "      <th>arch_seq</th>\n",
       "      <th>job_id</th>\n",
       "      <th>objective</th>\n",
       "      <th>timestamp_submit</th>\n",
       "      <th>timestamp_gather</th>\n",
       "    </tr>\n",
       "  </thead>\n",
       "  <tbody>\n",
       "    <tr>\n",
       "      <th>0</th>\n",
       "      <td>[46, 2, 0, 152, 1, 0, 0, 28, 2, 1, 0, 1]</td>\n",
       "      <td>1</td>\n",
       "      <td>0.961056</td>\n",
       "      <td>12.353959</td>\n",
       "      <td>16.486455</td>\n",
       "    </tr>\n",
       "    <tr>\n",
       "      <th>1</th>\n",
       "      <td>[107, 4, 1, 52, 4, 1, 0, 55, 6, 1, 0, 0]</td>\n",
       "      <td>3</td>\n",
       "      <td>0.959864</td>\n",
       "      <td>12.354034</td>\n",
       "      <td>18.179065</td>\n",
       "    </tr>\n",
       "    <tr>\n",
       "      <th>2</th>\n",
       "      <td>[20, 3, 0, 4, 1, 0, 0, 101, 7, 1, 1, 0]</td>\n",
       "      <td>5</td>\n",
       "      <td>0.961847</td>\n",
       "      <td>16.498717</td>\n",
       "      <td>18.436902</td>\n",
       "    </tr>\n",
       "    <tr>\n",
       "      <th>3</th>\n",
       "      <td>[173, 10, 0, 34, 2, 0, 1, 53, 7, 0, 1, 0]</td>\n",
       "      <td>4</td>\n",
       "      <td>0.822028</td>\n",
       "      <td>12.354063</td>\n",
       "      <td>19.072198</td>\n",
       "    </tr>\n",
       "    <tr>\n",
       "      <th>4</th>\n",
       "      <td>[74, 1, 0, 113, 0, 1, 0, 171, 7, 1, 1, 0]</td>\n",
       "      <td>2</td>\n",
       "      <td>0.955326</td>\n",
       "      <td>12.354004</td>\n",
       "      <td>19.585391</td>\n",
       "    </tr>\n",
       "    <tr>\n",
       "      <th>5</th>\n",
       "      <td>[135, 9, 1, 78, 9, 0, 0, 1, 2, 0, 1, 0]</td>\n",
       "      <td>6</td>\n",
       "      <td>0.973266</td>\n",
       "      <td>18.180992</td>\n",
       "      <td>22.138865</td>\n",
       "    </tr>\n",
       "    <tr>\n",
       "      <th>6</th>\n",
       "      <td>[112, 8, 0, 63, 9, 1, 1, 61, 9, 1, 1, 1]</td>\n",
       "      <td>8</td>\n",
       "      <td>0.973107</td>\n",
       "      <td>19.074057</td>\n",
       "      <td>22.879141</td>\n",
       "    </tr>\n",
       "    <tr>\n",
       "      <th>7</th>\n",
       "      <td>[136, 10, 1, 110, 8, 0, 1, 131, 10, 0, 1, 0]</td>\n",
       "      <td>7</td>\n",
       "      <td>0.956035</td>\n",
       "      <td>18.439094</td>\n",
       "      <td>23.496480</td>\n",
       "    </tr>\n",
       "    <tr>\n",
       "      <th>8</th>\n",
       "      <td>[161, 7, 0, 81, 3, 1, 0, 68, 7, 0, 0, 1]</td>\n",
       "      <td>10</td>\n",
       "      <td>-0.024702</td>\n",
       "      <td>22.140564</td>\n",
       "      <td>23.750102</td>\n",
       "    </tr>\n",
       "    <tr>\n",
       "      <th>9</th>\n",
       "      <td>[61, 4, 0, 106, 2, 0, 1, 148, 5, 1, 0, 1]</td>\n",
       "      <td>9</td>\n",
       "      <td>0.958249</td>\n",
       "      <td>19.587163</td>\n",
       "      <td>25.501194</td>\n",
       "    </tr>\n",
       "  </tbody>\n",
       "</table>\n",
       "</div>"
      ],
      "text/plain": [
       "                                       arch_seq  job_id  objective  \\\n",
       "0      [46, 2, 0, 152, 1, 0, 0, 28, 2, 1, 0, 1]       1   0.961056   \n",
       "1      [107, 4, 1, 52, 4, 1, 0, 55, 6, 1, 0, 0]       3   0.959864   \n",
       "2       [20, 3, 0, 4, 1, 0, 0, 101, 7, 1, 1, 0]       5   0.961847   \n",
       "3     [173, 10, 0, 34, 2, 0, 1, 53, 7, 0, 1, 0]       4   0.822028   \n",
       "4     [74, 1, 0, 113, 0, 1, 0, 171, 7, 1, 1, 0]       2   0.955326   \n",
       "5       [135, 9, 1, 78, 9, 0, 0, 1, 2, 0, 1, 0]       6   0.973266   \n",
       "6      [112, 8, 0, 63, 9, 1, 1, 61, 9, 1, 1, 1]       8   0.973107   \n",
       "7  [136, 10, 1, 110, 8, 0, 1, 131, 10, 0, 1, 0]       7   0.956035   \n",
       "8      [161, 7, 0, 81, 3, 1, 0, 68, 7, 0, 0, 1]      10  -0.024702   \n",
       "9     [61, 4, 0, 106, 2, 0, 1, 148, 5, 1, 0, 1]       9   0.958249   \n",
       "\n",
       "   timestamp_submit  timestamp_gather  \n",
       "0         12.353959         16.486455  \n",
       "1         12.354034         18.179065  \n",
       "2         16.498717         18.436902  \n",
       "3         12.354063         19.072198  \n",
       "4         12.354004         19.585391  \n",
       "5         18.180992         22.138865  \n",
       "6         19.074057         22.879141  \n",
       "7         18.439094         23.496480  \n",
       "8         22.140564         23.750102  \n",
       "9         19.587163         25.501194  "
      ]
     },
     "execution_count": 11,
     "metadata": {},
     "output_type": "execute_result"
    }
   ],
   "source": [
    "results"
   ]
  },
  {
   "cell_type": "markdown",
   "id": "c6d51e46",
   "metadata": {
    "id": "c6d51e46"
   },
   "source": [
    "The `deephyper-analytics` command line is a way of analyzing this type of file. For example, we want to output the best configuration we can use the `topk` functionnality."
   ]
  },
  {
   "cell_type": "code",
   "execution_count": 12,
   "id": "d7da7c6b",
   "metadata": {
    "colab": {
     "base_uri": "https://localhost:8080/"
    },
    "id": "d7da7c6b",
    "outputId": "d7fedf5a-c7bb-4d06-b2db-999fde9dfec3"
   },
   "outputs": [
    {
     "name": "stdout",
     "output_type": "stream",
     "text": [
      "'0':\n",
      "  arch_seq: '[135, 9, 1, 78, 9, 0, 0, 1, 2, 0, 1, 0]'\n",
      "  job_id: 6\n",
      "  objective: 0.9732656479\n",
      "  timestamp_gather: 22.1388647556\n",
      "  timestamp_submit: 18.180991888\n",
      "'1':\n",
      "  arch_seq: '[112, 8, 0, 63, 9, 1, 1, 61, 9, 1, 1, 1]'\n",
      "  job_id: 8\n",
      "  objective: 0.973107338\n",
      "  timestamp_gather: 22.8791408539\n",
      "  timestamp_submit: 19.0740568638\n",
      "'2':\n",
      "  arch_seq: '[20, 3, 0, 4, 1, 0, 0, 101, 7, 1, 1, 0]'\n",
      "  job_id: 5\n",
      "  objective: 0.9618465304\n",
      "  timestamp_gather: 18.4369018078\n",
      "  timestamp_submit: 16.4987168312\n",
      "\n"
     ]
    }
   ],
   "source": [
    "!deephyper-analytics topk results.csv -k 3"
   ]
  },
  {
   "cell_type": "markdown",
   "id": "b20418e5",
   "metadata": {
    "id": "b20418e5"
   },
   "source": [
    "Where each architecture is described as a vector of scalar values named arch_seq. In fact, each of this scalar values represents chosen operations for the variable nodes of our search space. \n",
    "\n",
    "## Testing the best configuration\n",
    "\n",
    "We can visualize the architecture of the best configuration:"
   ]
  },
  {
   "cell_type": "code",
   "execution_count": 13,
   "id": "72c07327",
   "metadata": {
    "colab": {
     "base_uri": "https://localhost:8080/",
     "height": 1000
    },
    "id": "72c07327",
    "outputId": "cf385040-ffcc-4835-a446-ae7238e6833c"
   },
   "outputs": [
    {
     "data": {
      "image/png": "[encoded data removed]",
      "text/plain": [
       "<IPython.core.display.Image object>"
      ]
     },
     "execution_count": 13,
     "metadata": {},
     "output_type": "execute_result"
    }
   ],
   "source": [
    "best_config = results.iloc[results.objective.argmax()][:-2].to_dict()\n",
    "arch_seq = json.loads(best_config[\"arch_seq\"])\n",
    "model = space.sample(arch_seq)\n",
    "plot_model(model, show_shapes=False, show_layer_names=False) "
   ]
  }
 ],
 "metadata": {
  "colab": {
   "name": "tutorial_05.ipynb",
   "provenance": []
  },
  "interpreter": {
   "hash": "9dc039a2a4f4ad8a9dc018393b0776cc00e1bb4d428a37e9ad776085656c6f7f"
  },
  "kernelspec": {
   "display_name": "Python 3.9.13 ('dh-env-test')",
   "language": "python",
   "name": "python3"
  },
  "language_info": {
   "codemirror_mode": {
    "name": "ipython",
    "version": 3
   },
   "file_extension": ".py",
   "mimetype": "text/x-python",
   "name": "python",
   "nbconvert_exporter": "python",
   "pygments_lexer": "ipython3",
   "version": "3.9.13"
  }
 },
 "nbformat": 4,
 "nbformat_minor": 5
}
